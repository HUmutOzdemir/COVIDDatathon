{
 "cells": [
  {
   "cell_type": "markdown",
   "metadata": {},
   "source": [
    "# COVID-19 Health Care System Simulation"
   ]
  },
  {
   "cell_type": "markdown",
   "metadata": {},
   "source": [
    "### Introduction"
   ]
  },
  {
   "cell_type": "markdown",
   "metadata": {},
   "source": [
    "Our purpose is to predict whether the health care system will collapse because of unsufficient intensive care unit or not in Turkey. Firstly, we try to predict how many cases there will be in next days if we take necessary precautions or we do not. Then, we simulate a health care system by using these predictions and calculate necessary statistics like occupancy rate of intensive care unit, number of recovered and died people day by day. Lastly, we visualize the result of our simulation. This notebook explains the technical details of our project. Non technical details can be found in the report."
   ]
  },
  {
   "cell_type": "markdown",
   "metadata": {},
   "source": [
    "### Import Libraries"
   ]
  },
  {
   "cell_type": "markdown",
   "metadata": {},
   "source": [
    "Import necessary libraries and read the `total_cases.csv` file which contains number of cases in countries each day."
   ]
  },
  {
   "cell_type": "code",
   "execution_count": 1,
   "metadata": {
    "scrolled": true
   },
   "outputs": [
    {
     "name": "stderr",
     "output_type": "stream",
     "text": [
      "Using TensorFlow backend.\n"
     ]
    },
    {
     "data": {
      "text/html": [
       "<div>\n",
       "<style scoped>\n",
       "    .dataframe tbody tr th:only-of-type {\n",
       "        vertical-align: middle;\n",
       "    }\n",
       "\n",
       "    .dataframe tbody tr th {\n",
       "        vertical-align: top;\n",
       "    }\n",
       "\n",
       "    .dataframe thead th {\n",
       "        text-align: right;\n",
       "    }\n",
       "</style>\n",
       "<table border=\"1\" class=\"dataframe\">\n",
       "  <thead>\n",
       "    <tr style=\"text-align: right;\">\n",
       "      <th></th>\n",
       "      <th>date</th>\n",
       "      <th>World</th>\n",
       "      <th>Afghanistan</th>\n",
       "      <th>Albania</th>\n",
       "      <th>Algeria</th>\n",
       "      <th>Andorra</th>\n",
       "      <th>Angola</th>\n",
       "      <th>Anguilla</th>\n",
       "      <th>Antigua and Barbuda</th>\n",
       "      <th>Argentina</th>\n",
       "      <th>...</th>\n",
       "      <th>United States</th>\n",
       "      <th>United States Virgin Islands</th>\n",
       "      <th>Uruguay</th>\n",
       "      <th>Uzbekistan</th>\n",
       "      <th>Vatican</th>\n",
       "      <th>Venezuela</th>\n",
       "      <th>Vietnam</th>\n",
       "      <th>Yemen</th>\n",
       "      <th>Zambia</th>\n",
       "      <th>Zimbabwe</th>\n",
       "    </tr>\n",
       "  </thead>\n",
       "  <tbody>\n",
       "    <tr>\n",
       "      <th>0</th>\n",
       "      <td>2019-12-31</td>\n",
       "      <td>27</td>\n",
       "      <td>0.0</td>\n",
       "      <td>NaN</td>\n",
       "      <td>0.0</td>\n",
       "      <td>NaN</td>\n",
       "      <td>NaN</td>\n",
       "      <td>NaN</td>\n",
       "      <td>NaN</td>\n",
       "      <td>NaN</td>\n",
       "      <td>...</td>\n",
       "      <td>0</td>\n",
       "      <td>NaN</td>\n",
       "      <td>NaN</td>\n",
       "      <td>NaN</td>\n",
       "      <td>NaN</td>\n",
       "      <td>NaN</td>\n",
       "      <td>0.0</td>\n",
       "      <td>NaN</td>\n",
       "      <td>NaN</td>\n",
       "      <td>NaN</td>\n",
       "    </tr>\n",
       "    <tr>\n",
       "      <th>1</th>\n",
       "      <td>2020-01-01</td>\n",
       "      <td>27</td>\n",
       "      <td>0.0</td>\n",
       "      <td>NaN</td>\n",
       "      <td>0.0</td>\n",
       "      <td>NaN</td>\n",
       "      <td>NaN</td>\n",
       "      <td>NaN</td>\n",
       "      <td>NaN</td>\n",
       "      <td>NaN</td>\n",
       "      <td>...</td>\n",
       "      <td>0</td>\n",
       "      <td>NaN</td>\n",
       "      <td>NaN</td>\n",
       "      <td>NaN</td>\n",
       "      <td>NaN</td>\n",
       "      <td>NaN</td>\n",
       "      <td>0.0</td>\n",
       "      <td>NaN</td>\n",
       "      <td>NaN</td>\n",
       "      <td>NaN</td>\n",
       "    </tr>\n",
       "    <tr>\n",
       "      <th>2</th>\n",
       "      <td>2020-01-02</td>\n",
       "      <td>27</td>\n",
       "      <td>0.0</td>\n",
       "      <td>NaN</td>\n",
       "      <td>0.0</td>\n",
       "      <td>NaN</td>\n",
       "      <td>NaN</td>\n",
       "      <td>NaN</td>\n",
       "      <td>NaN</td>\n",
       "      <td>NaN</td>\n",
       "      <td>...</td>\n",
       "      <td>0</td>\n",
       "      <td>NaN</td>\n",
       "      <td>NaN</td>\n",
       "      <td>NaN</td>\n",
       "      <td>NaN</td>\n",
       "      <td>NaN</td>\n",
       "      <td>0.0</td>\n",
       "      <td>NaN</td>\n",
       "      <td>NaN</td>\n",
       "      <td>NaN</td>\n",
       "    </tr>\n",
       "    <tr>\n",
       "      <th>3</th>\n",
       "      <td>2020-01-03</td>\n",
       "      <td>44</td>\n",
       "      <td>0.0</td>\n",
       "      <td>NaN</td>\n",
       "      <td>0.0</td>\n",
       "      <td>NaN</td>\n",
       "      <td>NaN</td>\n",
       "      <td>NaN</td>\n",
       "      <td>NaN</td>\n",
       "      <td>NaN</td>\n",
       "      <td>...</td>\n",
       "      <td>0</td>\n",
       "      <td>NaN</td>\n",
       "      <td>NaN</td>\n",
       "      <td>NaN</td>\n",
       "      <td>NaN</td>\n",
       "      <td>NaN</td>\n",
       "      <td>0.0</td>\n",
       "      <td>NaN</td>\n",
       "      <td>NaN</td>\n",
       "      <td>NaN</td>\n",
       "    </tr>\n",
       "    <tr>\n",
       "      <th>4</th>\n",
       "      <td>2020-01-04</td>\n",
       "      <td>44</td>\n",
       "      <td>0.0</td>\n",
       "      <td>NaN</td>\n",
       "      <td>0.0</td>\n",
       "      <td>NaN</td>\n",
       "      <td>NaN</td>\n",
       "      <td>NaN</td>\n",
       "      <td>NaN</td>\n",
       "      <td>NaN</td>\n",
       "      <td>...</td>\n",
       "      <td>0</td>\n",
       "      <td>NaN</td>\n",
       "      <td>NaN</td>\n",
       "      <td>NaN</td>\n",
       "      <td>NaN</td>\n",
       "      <td>NaN</td>\n",
       "      <td>0.0</td>\n",
       "      <td>NaN</td>\n",
       "      <td>NaN</td>\n",
       "      <td>NaN</td>\n",
       "    </tr>\n",
       "  </tbody>\n",
       "</table>\n",
       "<p>5 rows × 208 columns</p>\n",
       "</div>"
      ],
      "text/plain": [
       "         date  World  Afghanistan  Albania  Algeria  Andorra  Angola  \\\n",
       "0  2019-12-31     27          0.0      NaN      0.0      NaN     NaN   \n",
       "1  2020-01-01     27          0.0      NaN      0.0      NaN     NaN   \n",
       "2  2020-01-02     27          0.0      NaN      0.0      NaN     NaN   \n",
       "3  2020-01-03     44          0.0      NaN      0.0      NaN     NaN   \n",
       "4  2020-01-04     44          0.0      NaN      0.0      NaN     NaN   \n",
       "\n",
       "   Anguilla  Antigua and Barbuda  Argentina    ...     United States  \\\n",
       "0       NaN                  NaN        NaN    ...                 0   \n",
       "1       NaN                  NaN        NaN    ...                 0   \n",
       "2       NaN                  NaN        NaN    ...                 0   \n",
       "3       NaN                  NaN        NaN    ...                 0   \n",
       "4       NaN                  NaN        NaN    ...                 0   \n",
       "\n",
       "   United States Virgin Islands  Uruguay  Uzbekistan  Vatican  Venezuela  \\\n",
       "0                           NaN      NaN         NaN      NaN        NaN   \n",
       "1                           NaN      NaN         NaN      NaN        NaN   \n",
       "2                           NaN      NaN         NaN      NaN        NaN   \n",
       "3                           NaN      NaN         NaN      NaN        NaN   \n",
       "4                           NaN      NaN         NaN      NaN        NaN   \n",
       "\n",
       "   Vietnam  Yemen  Zambia  Zimbabwe  \n",
       "0      0.0    NaN     NaN       NaN  \n",
       "1      0.0    NaN     NaN       NaN  \n",
       "2      0.0    NaN     NaN       NaN  \n",
       "3      0.0    NaN     NaN       NaN  \n",
       "4      0.0    NaN     NaN       NaN  \n",
       "\n",
       "[5 rows x 208 columns]"
      ]
     },
     "execution_count": 1,
     "metadata": {},
     "output_type": "execute_result"
    }
   ],
   "source": [
    "import heapq\n",
    "import pandas as pd\n",
    "import numpy as np\n",
    "from sklearn.linear_model import LinearRegression, Ridge, Lasso, ElasticNet\n",
    "from sklearn.ensemble import RandomForestRegressor\n",
    "from sklearn.neighbors import KNeighborsRegressor\n",
    "from sklearn.model_selection import train_test_split, cross_validate\n",
    "from sklearn.metrics import mean_squared_error, mean_absolute_error\n",
    "import matplotlib.pyplot as plt\n",
    "from sklearn.cluster import KMeans\n",
    "from sklearn.metrics import silhouette_score\n",
    "from scipy.spatial.distance import cdist\n",
    "from keras.models import Sequential\n",
    "from keras.layers import Dense, Dropout\n",
    "from keras import backend as K\n",
    "from keras.optimizers import Adam\n",
    "%matplotlib inline\n",
    "\n",
    "df = pd.read_csv(\"total_cases.csv\")\n",
    "df.head()"
   ]
  },
  {
   "cell_type": "markdown",
   "metadata": {},
   "source": [
    "There are totally 110 days data starting from date 2019-12-31."
   ]
  },
  {
   "cell_type": "code",
   "execution_count": 2,
   "metadata": {},
   "outputs": [
    {
     "data": {
      "text/plain": [
       "110"
      ]
     },
     "execution_count": 2,
     "metadata": {},
     "output_type": "execute_result"
    }
   ],
   "source": [
    "len(df)"
   ]
  },
  {
   "cell_type": "markdown",
   "metadata": {},
   "source": [
    "### Preprocess the Dataframe"
   ]
  },
  {
   "cell_type": "code",
   "execution_count": 3,
   "metadata": {},
   "outputs": [],
   "source": [
    "df.fillna(method='pad', inplace = True) # If there is no new data reported that day, take it is equal to the previous day data.\n",
    "df.fillna(0, inplace = True) # If there is no data reported at all, fill them with 0.\n",
    "df.drop(df.columns[[0, 1]], axis=1, inplace = True) # Drop date and world data statistics. \n",
    "df = df.astype(\"int64\") # Convert all the data in the dataframe to 64 bytes int."
   ]
  },
  {
   "cell_type": "code",
   "execution_count": 4,
   "metadata": {},
   "outputs": [
    {
     "data": {
      "text/html": [
       "<div>\n",
       "<style scoped>\n",
       "    .dataframe tbody tr th:only-of-type {\n",
       "        vertical-align: middle;\n",
       "    }\n",
       "\n",
       "    .dataframe tbody tr th {\n",
       "        vertical-align: top;\n",
       "    }\n",
       "\n",
       "    .dataframe thead th {\n",
       "        text-align: right;\n",
       "    }\n",
       "</style>\n",
       "<table border=\"1\" class=\"dataframe\">\n",
       "  <thead>\n",
       "    <tr style=\"text-align: right;\">\n",
       "      <th></th>\n",
       "      <th>Afghanistan</th>\n",
       "      <th>Albania</th>\n",
       "      <th>Algeria</th>\n",
       "      <th>Andorra</th>\n",
       "      <th>Angola</th>\n",
       "      <th>Anguilla</th>\n",
       "      <th>Antigua and Barbuda</th>\n",
       "      <th>Argentina</th>\n",
       "      <th>Armenia</th>\n",
       "      <th>Aruba</th>\n",
       "      <th>...</th>\n",
       "      <th>United States</th>\n",
       "      <th>United States Virgin Islands</th>\n",
       "      <th>Uruguay</th>\n",
       "      <th>Uzbekistan</th>\n",
       "      <th>Vatican</th>\n",
       "      <th>Venezuela</th>\n",
       "      <th>Vietnam</th>\n",
       "      <th>Yemen</th>\n",
       "      <th>Zambia</th>\n",
       "      <th>Zimbabwe</th>\n",
       "    </tr>\n",
       "  </thead>\n",
       "  <tbody>\n",
       "    <tr>\n",
       "      <th>0</th>\n",
       "      <td>0</td>\n",
       "      <td>0</td>\n",
       "      <td>0</td>\n",
       "      <td>0</td>\n",
       "      <td>0</td>\n",
       "      <td>0</td>\n",
       "      <td>0</td>\n",
       "      <td>0</td>\n",
       "      <td>0</td>\n",
       "      <td>0</td>\n",
       "      <td>...</td>\n",
       "      <td>0</td>\n",
       "      <td>0</td>\n",
       "      <td>0</td>\n",
       "      <td>0</td>\n",
       "      <td>0</td>\n",
       "      <td>0</td>\n",
       "      <td>0</td>\n",
       "      <td>0</td>\n",
       "      <td>0</td>\n",
       "      <td>0</td>\n",
       "    </tr>\n",
       "    <tr>\n",
       "      <th>1</th>\n",
       "      <td>0</td>\n",
       "      <td>0</td>\n",
       "      <td>0</td>\n",
       "      <td>0</td>\n",
       "      <td>0</td>\n",
       "      <td>0</td>\n",
       "      <td>0</td>\n",
       "      <td>0</td>\n",
       "      <td>0</td>\n",
       "      <td>0</td>\n",
       "      <td>...</td>\n",
       "      <td>0</td>\n",
       "      <td>0</td>\n",
       "      <td>0</td>\n",
       "      <td>0</td>\n",
       "      <td>0</td>\n",
       "      <td>0</td>\n",
       "      <td>0</td>\n",
       "      <td>0</td>\n",
       "      <td>0</td>\n",
       "      <td>0</td>\n",
       "    </tr>\n",
       "    <tr>\n",
       "      <th>2</th>\n",
       "      <td>0</td>\n",
       "      <td>0</td>\n",
       "      <td>0</td>\n",
       "      <td>0</td>\n",
       "      <td>0</td>\n",
       "      <td>0</td>\n",
       "      <td>0</td>\n",
       "      <td>0</td>\n",
       "      <td>0</td>\n",
       "      <td>0</td>\n",
       "      <td>...</td>\n",
       "      <td>0</td>\n",
       "      <td>0</td>\n",
       "      <td>0</td>\n",
       "      <td>0</td>\n",
       "      <td>0</td>\n",
       "      <td>0</td>\n",
       "      <td>0</td>\n",
       "      <td>0</td>\n",
       "      <td>0</td>\n",
       "      <td>0</td>\n",
       "    </tr>\n",
       "    <tr>\n",
       "      <th>3</th>\n",
       "      <td>0</td>\n",
       "      <td>0</td>\n",
       "      <td>0</td>\n",
       "      <td>0</td>\n",
       "      <td>0</td>\n",
       "      <td>0</td>\n",
       "      <td>0</td>\n",
       "      <td>0</td>\n",
       "      <td>0</td>\n",
       "      <td>0</td>\n",
       "      <td>...</td>\n",
       "      <td>0</td>\n",
       "      <td>0</td>\n",
       "      <td>0</td>\n",
       "      <td>0</td>\n",
       "      <td>0</td>\n",
       "      <td>0</td>\n",
       "      <td>0</td>\n",
       "      <td>0</td>\n",
       "      <td>0</td>\n",
       "      <td>0</td>\n",
       "    </tr>\n",
       "    <tr>\n",
       "      <th>4</th>\n",
       "      <td>0</td>\n",
       "      <td>0</td>\n",
       "      <td>0</td>\n",
       "      <td>0</td>\n",
       "      <td>0</td>\n",
       "      <td>0</td>\n",
       "      <td>0</td>\n",
       "      <td>0</td>\n",
       "      <td>0</td>\n",
       "      <td>0</td>\n",
       "      <td>...</td>\n",
       "      <td>0</td>\n",
       "      <td>0</td>\n",
       "      <td>0</td>\n",
       "      <td>0</td>\n",
       "      <td>0</td>\n",
       "      <td>0</td>\n",
       "      <td>0</td>\n",
       "      <td>0</td>\n",
       "      <td>0</td>\n",
       "      <td>0</td>\n",
       "    </tr>\n",
       "  </tbody>\n",
       "</table>\n",
       "<p>5 rows × 206 columns</p>\n",
       "</div>"
      ],
      "text/plain": [
       "   Afghanistan  Albania  Algeria  Andorra  Angola  Anguilla  \\\n",
       "0            0        0        0        0       0         0   \n",
       "1            0        0        0        0       0         0   \n",
       "2            0        0        0        0       0         0   \n",
       "3            0        0        0        0       0         0   \n",
       "4            0        0        0        0       0         0   \n",
       "\n",
       "   Antigua and Barbuda  Argentina  Armenia  Aruba    ...     United States  \\\n",
       "0                    0          0        0      0    ...                 0   \n",
       "1                    0          0        0      0    ...                 0   \n",
       "2                    0          0        0      0    ...                 0   \n",
       "3                    0          0        0      0    ...                 0   \n",
       "4                    0          0        0      0    ...                 0   \n",
       "\n",
       "   United States Virgin Islands  Uruguay  Uzbekistan  Vatican  Venezuela  \\\n",
       "0                             0        0           0        0          0   \n",
       "1                             0        0           0        0          0   \n",
       "2                             0        0           0        0          0   \n",
       "3                             0        0           0        0          0   \n",
       "4                             0        0           0        0          0   \n",
       "\n",
       "   Vietnam  Yemen  Zambia  Zimbabwe  \n",
       "0        0      0       0         0  \n",
       "1        0      0       0         0  \n",
       "2        0      0       0         0  \n",
       "3        0      0       0         0  \n",
       "4        0      0       0         0  \n",
       "\n",
       "[5 rows x 206 columns]"
      ]
     },
     "execution_count": 4,
     "metadata": {},
     "output_type": "execute_result"
    }
   ],
   "source": [
    "df.head()"
   ]
  },
  {
   "cell_type": "markdown",
   "metadata": {},
   "source": [
    "### Prepare Input and Output Data"
   ]
  },
  {
   "cell_type": "markdown",
   "metadata": {},
   "source": [
    "Create input and output data from the dataframe. Each input record has 8 attributes. First of them is mean of other seven attributes and other seven attributes are the data at previous 7 days respectively. Output is the next day which want to be predicted."
   ]
  },
  {
   "cell_type": "code",
   "execution_count": 5,
   "metadata": {},
   "outputs": [],
   "source": [
    "how_many_previous = 7\n",
    "X = []\n",
    "y = []\n",
    "\n",
    "for column in df.columns:\n",
    "    for i in range(len(df) - how_many_previous):\n",
    "        if ((0 != df[column][i])) and (df[column][i: i+how_many_previous].sum()+df[column][i+how_many_previous] != 0):\n",
    "            X.append(np.concatenate([np.array([np.array(df[column][i: i+how_many_previous]).mean()]), np.array(df[column][i: i+how_many_previous])]))\n",
    "            y.append(df[column][i+how_many_previous])\n",
    "\n",
    "X = np.array(X)\n",
    "y = np.array(y)"
   ]
  },
  {
   "cell_type": "markdown",
   "metadata": {},
   "source": [
    "Normalize the input and output data so that machine learning models can perform better."
   ]
  },
  {
   "cell_type": "code",
   "execution_count": 6,
   "metadata": {},
   "outputs": [],
   "source": [
    "X_max = X.max()\n",
    "X = X / X_max\n",
    "y = y / X_max"
   ]
  },
  {
   "cell_type": "markdown",
   "metadata": {},
   "source": [
    "There are totally 7638 record in our input data."
   ]
  },
  {
   "cell_type": "code",
   "execution_count": 7,
   "metadata": {},
   "outputs": [
    {
     "data": {
      "text/plain": [
       "7638"
      ]
     },
     "execution_count": 7,
     "metadata": {},
     "output_type": "execute_result"
    }
   ],
   "source": [
    "len(X)"
   ]
  },
  {
   "cell_type": "markdown",
   "metadata": {},
   "source": [
    "### Model Training"
   ]
  },
  {
   "cell_type": "markdown",
   "metadata": {},
   "source": [
    "Split train and test data and create an example case to see how models work."
   ]
  },
  {
   "cell_type": "code",
   "execution_count": 8,
   "metadata": {},
   "outputs": [],
   "source": [
    "X_train, X_test, y_train, y_test = train_test_split(X, y, test_size=0.2)\n",
    "example = np.array([100, 150, 200, 250, 300 ,350, 400])"
   ]
  },
  {
   "cell_type": "markdown",
   "metadata": {},
   "source": [
    "Train 7 different machine learning algorithms to see which one performs best. One can see the r2 score, mse and mae statistics for train and test set for each algorithm and result of prediction. Intercept and coefficients of linear models can also be found below. Lastly, we do a cross validation to see which one performs best and we compare models according to 3 metrics(mean squared error, mean absolute error and r2 score). Linear regression model performs best, so we continue with it. "
   ]
  },
  {
   "cell_type": "code",
   "execution_count": 9,
   "metadata": {},
   "outputs": [
    {
     "name": "stdout",
     "output_type": "stream",
     "text": [
      "Linear regression model\n",
      "r2 score:  0.9998738804815911\n",
      "mse:  3.3712933456972063e-07\n",
      "mae:  0.00013637263055182346\n",
      "intercept:  2.446125525323601e-05 , coefficients:  [ 0.12437484 -0.1409165   0.05542508 -0.07711147 -0.05469164  0.01851373\n",
      " -0.47681573  1.5462204 ]\n",
      "prediction:  469.7989847140197\n",
      "cross validation r2 score:  0.9995045903133668\n",
      "cross validation mse:  3.212731840350314e-07\n",
      "cross validation mae:  0.00011916720698311011\n"
     ]
    }
   ],
   "source": [
    "lin_model = LinearRegression().fit(X_train, y_train)\n",
    "print(\"Linear regression model\")\n",
    "print(\"r2 score: \", lin_model.score(X_test, y_test))\n",
    "print(\"mse: \", mean_squared_error(y_test, lin_model.predict(X_test)))\n",
    "print(\"mae: \", mean_absolute_error(y_test, lin_model.predict(X_test)))\n",
    "print(\"intercept: \", lin_model.intercept_,\", coefficients: \" , lin_model.coef_)\n",
    "print(\"prediction: \", lin_model.predict([np.concatenate([np.array([example.mean()]), example])]/X_max)[0]*X_max)\n",
    "cross_validation = cross_validate(lin_model, X, y, cv=5, scoring = (\"r2\", \"neg_mean_squared_error\", \"neg_mean_absolute_error\"))\n",
    "print(\"cross validation r2 score: \", cross_validation[\"test_r2\"].mean())\n",
    "print(\"cross validation mse: \", -cross_validation[\"test_neg_mean_squared_error\"].mean())\n",
    "print(\"cross validation mae: \", -cross_validation[\"test_neg_mean_absolute_error\"].mean())"
   ]
  },
  {
   "cell_type": "code",
   "execution_count": 10,
   "metadata": {},
   "outputs": [
    {
     "name": "stdout",
     "output_type": "stream",
     "text": [
      "Lasso regression model\n",
      "r2 score:  -0.0006542730612044689\n",
      "mse:  0.0026748429859841448\n",
      "mae:  0.012615829658239059\n",
      "intercept:  0.0069838394494523 , coefficients:  [0. 0. 0. 0. 0. 0. 0. 0.]\n",
      "prediction:  4688.467921440262\n",
      "cross validation r2 score:  -0.3162502826410058\n",
      "cross validation mse:  0.001732927331714881\n",
      "cross validation mae:  0.011916403367005555\n"
     ]
    }
   ],
   "source": [
    "lasso_model = Lasso().fit(X_train, y_train)\n",
    "print(\"Lasso regression model\")\n",
    "print(\"r2 score: \", lasso_model.score(X_test, y_test))\n",
    "print(\"mse: \", mean_squared_error(y_test, lasso_model.predict(X_test)))\n",
    "print(\"mae: \", mean_absolute_error(y_test, lasso_model.predict(X_test)))\n",
    "print(\"intercept: \", lasso_model.intercept_,\", coefficients: \" , lasso_model.coef_)\n",
    "print(\"prediction: \", lasso_model.predict([np.concatenate([np.array([example.mean()]), example])]/X_max)[0]*X_max)\n",
    "cross_validation = cross_validate(lasso_model, X, y, cv=5, scoring = (\"r2\", \"neg_mean_squared_error\", \"neg_mean_absolute_error\"))\n",
    "print(\"cross validation r2 score: \", cross_validation[\"test_r2\"].mean())\n",
    "print(\"cross validation mse: \", -cross_validation[\"test_neg_mean_squared_error\"].mean())\n",
    "print(\"cross validation mae: \", -cross_validation[\"test_neg_mean_absolute_error\"].mean())"
   ]
  },
  {
   "cell_type": "code",
   "execution_count": 11,
   "metadata": {},
   "outputs": [
    {
     "name": "stdout",
     "output_type": "stream",
     "text": [
      "Ridge regression model\n",
      "r2 score:  0.9907930006229045\n",
      "mse:  2.4611175276795684e-05\n",
      "mae:  0.0010689833966578478\n",
      "intercept:  0.0002764342024009058 , coefficients:  [0.1443327  0.04289343 0.07161049 0.10334875 0.13929667 0.17713467\n",
      " 0.21703231 0.2590126 ]\n",
      "prediction:  524.8936052701367\n",
      "cross validation r2 score:  0.9799652740462506\n",
      "cross validation mse:  5.5010097808540445e-05\n",
      "cross validation mae:  0.0013011716214356823\n"
     ]
    }
   ],
   "source": [
    "ridge_model = Ridge().fit(X_train, y_train)\n",
    "print(\"Ridge regression model\")\n",
    "print(\"r2 score: \", ridge_model.score(X_test, y_test))\n",
    "print(\"mse: \", mean_squared_error(y_test, ridge_model.predict(X_test)))\n",
    "print(\"mae: \", mean_absolute_error(y_test, ridge_model.predict(X_test)))\n",
    "print(\"intercept: \", ridge_model.intercept_,\", coefficients: \" , ridge_model.coef_)\n",
    "print(\"prediction: \", ridge_model.predict([np.concatenate([np.array([example.mean()]), example])]/X_max)[0]*X_max)\n",
    "cross_validation = cross_validate(ridge_model, X, y, cv=5, scoring = (\"r2\", \"neg_mean_squared_error\", \"neg_mean_absolute_error\"))\n",
    "print(\"cross validation r2 score: \", cross_validation[\"test_r2\"].mean())\n",
    "print(\"cross validation mse: \", -cross_validation[\"test_neg_mean_squared_error\"].mean())\n",
    "print(\"cross validation mae: \", -cross_validation[\"test_neg_mean_absolute_error\"].mean())"
   ]
  },
  {
   "cell_type": "code",
   "execution_count": 12,
   "metadata": {},
   "outputs": [
    {
     "name": "stdout",
     "output_type": "stream",
     "text": [
      "Elastic net regression model\n",
      "r2 score:  -0.0006542730612044689\n",
      "mse:  0.0026748429859841448\n",
      "mae:  0.012615829658239059\n",
      "intercept:  0.0069838394494523 , coefficients:  [0. 0. 0. 0. 0. 0. 0. 0.]\n",
      "prediction:  4688.467921440262\n",
      "cross validation r2 score:  -0.3162502826410058\n",
      "cross validation mse:  0.001732927331714881\n",
      "cross validation mae:  0.011916403367005555\n"
     ]
    }
   ],
   "source": [
    "elastic_model = ElasticNet().fit(X_train, y_train)\n",
    "print(\"Elastic net regression model\")\n",
    "print(\"r2 score: \", elastic_model.score(X_test, y_test))\n",
    "print(\"mse: \", mean_squared_error(y_test, elastic_model.predict(X_test)))\n",
    "print(\"mae: \", mean_absolute_error(y_test, elastic_model.predict(X_test)))\n",
    "print(\"intercept: \", elastic_model.intercept_,\", coefficients: \" , elastic_model.coef_)\n",
    "print(\"prediction: \", elastic_model.predict([np.concatenate([np.array([example.mean()]), example])]/X_max)[0]*X_max)\n",
    "cross_validation = cross_validate(elastic_model, X, y, cv=5, scoring = (\"r2\", \"neg_mean_squared_error\", \"neg_mean_absolute_error\"))\n",
    "print(\"cross validation r2 score: \", cross_validation[\"test_r2\"].mean())\n",
    "print(\"cross validation mse: \", -cross_validation[\"test_neg_mean_squared_error\"].mean())\n",
    "print(\"cross validation mae: \", -cross_validation[\"test_neg_mean_absolute_error\"].mean())"
   ]
  },
  {
   "cell_type": "code",
   "execution_count": 13,
   "metadata": {},
   "outputs": [
    {
     "name": "stderr",
     "output_type": "stream",
     "text": [
      "C:\\Users\\umutd\\Anaconda3\\lib\\site-packages\\sklearn\\ensemble\\forest.py:246: FutureWarning: The default value of n_estimators will change from 10 in version 0.20 to 100 in 0.22.\n",
      "  \"10 in version 0.20 to 100 in 0.22.\", FutureWarning)\n"
     ]
    },
    {
     "name": "stdout",
     "output_type": "stream",
     "text": [
      "Random forest regression model\n",
      "r2 score:  0.9968979929340708\n",
      "mse:  8.29195663892015e-06\n",
      "mae:  0.00041920316931145076\n",
      "prediction:  527.4162064712012\n",
      "cross validation r2 score:  0.9180825540907224\n",
      "cross validation mse:  0.0005323807519982909\n",
      "cross validation mae:  0.001316946509577712\n"
     ]
    }
   ],
   "source": [
    "forest_model = RandomForestRegressor().fit(X_train, y_train)\n",
    "print(\"Random forest regression model\")\n",
    "print(\"r2 score: \", forest_model.score(X_test, y_test))\n",
    "print(\"mse: \", mean_squared_error(y_test, forest_model.predict(X_test)))\n",
    "print(\"mae: \", mean_absolute_error(y_test, forest_model.predict(X_test)))\n",
    "print(\"prediction: \", forest_model.predict([np.concatenate([np.array([example.mean()]), example])]/X_max)[0]*X_max)\n",
    "cross_validation = cross_validate(forest_model, X, y, cv=5, scoring = (\"r2\", \"neg_mean_squared_error\", \"neg_mean_absolute_error\"))\n",
    "print(\"cross validation r2 score: \", cross_validation[\"test_r2\"].mean())\n",
    "print(\"cross validation mse: \", -cross_validation[\"test_neg_mean_squared_error\"].mean())\n",
    "print(\"cross validation mae: \", -cross_validation[\"test_neg_mean_absolute_error\"].mean())"
   ]
  },
  {
   "cell_type": "code",
   "execution_count": 14,
   "metadata": {},
   "outputs": [
    {
     "name": "stdout",
     "output_type": "stream",
     "text": [
      "K nearest neighbors regression model\n",
      "r2 score:  0.8279293577172153\n",
      "mse:  0.00045996101050551545\n",
      "mae:  0.0015764354399938215\n",
      "prediction:  492.3500000000001\n",
      "cross validation r2 score:  0.9036950650199784\n",
      "cross validation mse:  0.0006202449174781585\n",
      "cross validation mae:  0.0014914704670750134\n"
     ]
    }
   ],
   "source": [
    "neighbor_model = KNeighborsRegressor(n_neighbors=20).fit(X_train, y_train)\n",
    "print(\"K nearest neighbors regression model\")\n",
    "print(\"r2 score: \", neighbor_model.score(X_test, y_test))\n",
    "print(\"mse: \", mean_squared_error(y_test, neighbor_model.predict(X_test)))\n",
    "print(\"mae: \", mean_absolute_error(y_test, neighbor_model.predict(X_test)))\n",
    "print(\"prediction: \", neighbor_model.predict([np.concatenate([np.array([example.mean()]), example])]/X_max)[0]*X_max)\n",
    "cross_validation = cross_validate(neighbor_model, X, y, cv=5, scoring = (\"r2\", \"neg_mean_squared_error\", \"neg_mean_absolute_error\"))\n",
    "print(\"cross validation r2 score: \", cross_validation[\"test_r2\"].mean())\n",
    "print(\"cross validation mse: \", -cross_validation[\"test_neg_mean_squared_error\"].mean())\n",
    "print(\"cross validation mae: \", -cross_validation[\"test_neg_mean_absolute_error\"].mean())"
   ]
  },
  {
   "cell_type": "markdown",
   "metadata": {},
   "source": [
    "We train a neural network to see how it performs. However, it does not perform very well compared to linear regression model and it needs so much hyperparameter tuning. So, we do not continue with neural network models."
   ]
  },
  {
   "cell_type": "code",
   "execution_count": 15,
   "metadata": {},
   "outputs": [
    {
     "name": "stdout",
     "output_type": "stream",
     "text": [
      "WARNING:tensorflow:From C:\\Users\\umutd\\Anaconda3\\lib\\site-packages\\tensorflow\\python\\framework\\op_def_library.py:263: colocate_with (from tensorflow.python.framework.ops) is deprecated and will be removed in a future version.\n",
      "Instructions for updating:\n",
      "Colocations handled automatically by placer.\n",
      "WARNING:tensorflow:From C:\\Users\\umutd\\Anaconda3\\lib\\site-packages\\tensorflow\\python\\ops\\math_ops.py:3066: to_int32 (from tensorflow.python.ops.math_ops) is deprecated and will be removed in a future version.\n",
      "Instructions for updating:\n",
      "Use tf.cast instead.\n",
      "Train on 6110 samples, validate on 1528 samples\n",
      "Epoch 1/200\n",
      "6110/6110 [==============================] - 1s 184us/step - loss: 0.0018 - r2_score: -0.4910 - mean_absolute_error: 0.0074 - val_loss: 0.0030 - val_r2_score: -0.8534 - val_mean_absolute_error: 0.0077\n",
      "Epoch 2/200\n",
      "6110/6110 [==============================] - 0s 77us/step - loss: 0.0012 - r2_score: -0.1025 - mean_absolute_error: 0.0052 - val_loss: 0.0022 - val_r2_score: 0.3221 - val_mean_absolute_error: 0.0056\n",
      "Epoch 3/200\n",
      "6110/6110 [==============================] - 0s 70us/step - loss: 8.6169e-04 - r2_score: 0.6033 - mean_absolute_error: 0.0038 - val_loss: 0.0017 - val_r2_score: 0.4981 - val_mean_absolute_error: 0.0045\n",
      "Epoch 4/200\n",
      "6110/6110 [==============================] - 0s 78us/step - loss: 6.5323e-04 - r2_score: 0.7184 - mean_absolute_error: 0.0027 - val_loss: 0.0014 - val_r2_score: 0.9268 - val_mean_absolute_error: 0.0031\n",
      "Epoch 5/200\n",
      "6110/6110 [==============================] - 0s 74us/step - loss: 5.1365e-04 - r2_score: 0.9004 - mean_absolute_error: 0.0019 - val_loss: 0.0011 - val_r2_score: 0.9497 - val_mean_absolute_error: 0.0026\n",
      "Epoch 6/200\n",
      "6110/6110 [==============================] - 0s 77us/step - loss: 4.1165e-04 - r2_score: 0.9457 - mean_absolute_error: 0.0015 - val_loss: 9.4643e-04 - val_r2_score: 0.9562 - val_mean_absolute_error: 0.0024\n",
      "Epoch 7/200\n",
      "6110/6110 [==============================] - 0s 75us/step - loss: 3.3682e-04 - r2_score: 0.9568 - mean_absolute_error: 0.0014 - val_loss: 7.7961e-04 - val_r2_score: 0.9664 - val_mean_absolute_error: 0.0021\n",
      "Epoch 8/200\n",
      "6110/6110 [==============================] - 0s 77us/step - loss: 2.7613e-04 - r2_score: 0.9388 - mean_absolute_error: 0.0012 - val_loss: 6.4002e-04 - val_r2_score: 0.9600 - val_mean_absolute_error: 0.0020\n",
      "Epoch 9/200\n",
      "6110/6110 [==============================] - 0s 78us/step - loss: 2.2543e-04 - r2_score: 0.9552 - mean_absolute_error: 0.0012 - val_loss: 5.2279e-04 - val_r2_score: 0.9593 - val_mean_absolute_error: 0.0019\n",
      "Epoch 10/200\n",
      "6110/6110 [==============================] - 0s 75us/step - loss: 1.8451e-04 - r2_score: 0.9705 - mean_absolute_error: 0.0011 - val_loss: 4.2556e-04 - val_r2_score: 0.9590 - val_mean_absolute_error: 0.0017\n",
      "Epoch 11/200\n",
      "6110/6110 [==============================] - 0s 75us/step - loss: 1.4922e-04 - r2_score: 0.9657 - mean_absolute_error: 0.0011 - val_loss: 3.4095e-04 - val_r2_score: 0.9654 - val_mean_absolute_error: 0.0016\n",
      "Epoch 12/200\n",
      "6110/6110 [==============================] - 0s 74us/step - loss: 1.1910e-04 - r2_score: 0.9422 - mean_absolute_error: 0.0010 - val_loss: 2.6727e-04 - val_r2_score: 0.9833 - val_mean_absolute_error: 0.0013\n",
      "Epoch 13/200\n",
      "6110/6110 [==============================] - 0s 76us/step - loss: 9.0252e-05 - r2_score: 0.9646 - mean_absolute_error: 8.7736e-04 - val_loss: 2.0337e-04 - val_r2_score: 0.9788 - val_mean_absolute_error: 0.0012\n",
      "Epoch 14/200\n",
      "6110/6110 [==============================] - 0s 70us/step - loss: 6.8650e-05 - r2_score: 0.9634 - mean_absolute_error: 7.7369e-04 - val_loss: 1.5427e-04 - val_r2_score: 0.9868 - val_mean_absolute_error: 0.0010\n",
      "Epoch 15/200\n",
      "6110/6110 [==============================] - 0s 76us/step - loss: 5.1565e-05 - r2_score: 0.9686 - mean_absolute_error: 7.0076e-04 - val_loss: 1.1545e-04 - val_r2_score: 0.8203 - val_mean_absolute_error: 0.0013\n",
      "Epoch 16/200\n",
      "6110/6110 [==============================] - 0s 75us/step - loss: 3.8384e-05 - r2_score: 0.9714 - mean_absolute_error: 6.4896e-04 - val_loss: 8.3718e-05 - val_r2_score: 0.9868 - val_mean_absolute_error: 8.3460e-04\n",
      "Epoch 17/200\n",
      "6110/6110 [==============================] - 0s 73us/step - loss: 2.8252e-05 - r2_score: 0.9741 - mean_absolute_error: 5.9084e-04 - val_loss: 6.1516e-05 - val_r2_score: 0.9215 - val_mean_absolute_error: 9.6495e-04\n",
      "Epoch 18/200\n",
      "6110/6110 [==============================] - 0s 76us/step - loss: 2.0395e-05 - r2_score: 0.9614 - mean_absolute_error: 5.5636e-04 - val_loss: 4.3618e-05 - val_r2_score: 0.9548 - val_mean_absolute_error: 8.0626e-04\n",
      "Epoch 19/200\n",
      "6110/6110 [==============================] - 0s 73us/step - loss: 1.4187e-05 - r2_score: 0.9787 - mean_absolute_error: 4.7288e-04 - val_loss: 3.0201e-05 - val_r2_score: 0.9911 - val_mean_absolute_error: 5.5452e-04\n",
      "Epoch 20/200\n",
      "6110/6110 [==============================] - 0s 76us/step - loss: 9.8334e-06 - r2_score: 0.9808 - mean_absolute_error: 4.5691e-04 - val_loss: 2.0239e-05 - val_r2_score: 0.9837 - val_mean_absolute_error: 5.4525e-04\n",
      "Epoch 21/200\n",
      "6110/6110 [==============================] - 0s 71us/step - loss: 6.6577e-06 - r2_score: 0.9867 - mean_absolute_error: 4.0043e-04 - val_loss: 1.3226e-05 - val_r2_score: 0.9932 - val_mean_absolute_error: 4.0643e-04\n",
      "Epoch 22/200\n",
      "6110/6110 [==============================] - 0s 77us/step - loss: 4.5184e-06 - r2_score: 0.9658 - mean_absolute_error: 3.8912e-04 - val_loss: 8.9040e-06 - val_r2_score: 0.8040 - val_mean_absolute_error: 8.4424e-04\n",
      "Epoch 23/200\n",
      "6110/6110 [==============================] - 0s 75us/step - loss: 3.0817e-06 - r2_score: 0.9773 - mean_absolute_error: 3.7821e-04 - val_loss: 5.5062e-06 - val_r2_score: 0.9904 - val_mean_absolute_error: 3.5403e-04\n",
      "Epoch 24/200\n",
      "6110/6110 [==============================] - 0s 75us/step - loss: 2.0981e-06 - r2_score: 0.9812 - mean_absolute_error: 3.2521e-04 - val_loss: 3.6657e-06 - val_r2_score: 0.9539 - val_mean_absolute_error: 5.0744e-04\n",
      "Epoch 25/200\n",
      "6110/6110 [==============================] - 1s 82us/step - loss: 1.5853e-06 - r2_score: 0.9790 - mean_absolute_error: 3.4496e-04 - val_loss: 2.7223e-06 - val_r2_score: 0.8578 - val_mean_absolute_error: 7.1005e-04\n",
      "Epoch 26/200\n",
      "6110/6110 [==============================] - 1s 84us/step - loss: 1.2411e-06 - r2_score: 0.9830 - mean_absolute_error: 3.0839e-04 - val_loss: 1.8098e-06 - val_r2_score: 0.9864 - val_mean_absolute_error: 3.3428e-04\n",
      "Epoch 27/200\n",
      "6110/6110 [==============================] - 1s 87us/step - loss: 1.0842e-06 - r2_score: 0.9794 - mean_absolute_error: 3.0510e-04 - val_loss: 1.4119e-06 - val_r2_score: 0.9926 - val_mean_absolute_error: 2.7944e-04\n",
      "Epoch 28/200\n",
      "6110/6110 [==============================] - 0s 79us/step - loss: 9.8803e-07 - r2_score: 0.9791 - mean_absolute_error: 2.8392e-04 - val_loss: 1.3044e-06 - val_r2_score: 0.9944 - val_mean_absolute_error: 2.3882e-04\n",
      "Epoch 29/200\n",
      "6110/6110 [==============================] - 1s 93us/step - loss: 9.5590e-07 - r2_score: 0.9746 - mean_absolute_error: 3.0221e-04 - val_loss: 1.1681e-06 - val_r2_score: 0.9725 - val_mean_absolute_error: 3.7905e-04\n",
      "Epoch 30/200\n",
      "6110/6110 [==============================] - 0s 76us/step - loss: 9.2878e-07 - r2_score: 0.9675 - mean_absolute_error: 3.0670e-04 - val_loss: 1.0569e-06 - val_r2_score: 0.9949 - val_mean_absolute_error: 2.1963e-04\n",
      "Epoch 31/200\n",
      "6110/6110 [==============================] - 0s 76us/step - loss: 8.9990e-07 - r2_score: 0.9685 - mean_absolute_error: 3.1301e-04 - val_loss: 1.1622e-06 - val_r2_score: 0.9900 - val_mean_absolute_error: 2.8421e-04\n",
      "Epoch 32/200\n",
      "6110/6110 [==============================] - 0s 77us/step - loss: 8.5725e-07 - r2_score: 0.9904 - mean_absolute_error: 2.9528e-04 - val_loss: 1.1192e-06 - val_r2_score: 0.9953 - val_mean_absolute_error: 2.2658e-04\n",
      "Epoch 33/200\n",
      "6110/6110 [==============================] - 1s 83us/step - loss: 8.4701e-07 - r2_score: 0.9800 - mean_absolute_error: 3.0880e-04 - val_loss: 1.2146e-06 - val_r2_score: 0.9814 - val_mean_absolute_error: 3.4018e-04\n",
      "Epoch 34/200\n",
      "6110/6110 [==============================] - 1s 96us/step - loss: 8.2388e-07 - r2_score: 0.9753 - mean_absolute_error: 2.9220e-04 - val_loss: 1.0149e-06 - val_r2_score: 0.9949 - val_mean_absolute_error: 2.3826e-04\n",
      "Epoch 35/200\n"
     ]
    },
    {
     "name": "stdout",
     "output_type": "stream",
     "text": [
      "6110/6110 [==============================] - 0s 81us/step - loss: 8.8953e-07 - r2_score: 0.9688 - mean_absolute_error: 3.2888e-04 - val_loss: 1.0948e-06 - val_r2_score: 0.9180 - val_mean_absolute_error: 5.2345e-04\n",
      "Epoch 36/200\n",
      "6110/6110 [==============================] - 0s 79us/step - loss: 8.2808e-07 - r2_score: 0.9809 - mean_absolute_error: 3.2176e-04 - val_loss: 9.8786e-07 - val_r2_score: 0.9953 - val_mean_absolute_error: 2.2684e-04\n",
      "Epoch 37/200\n",
      "6110/6110 [==============================] - 1s 83us/step - loss: 8.3446e-07 - r2_score: 0.9758 - mean_absolute_error: 3.1814e-04 - val_loss: 1.4511e-06 - val_r2_score: 0.9925 - val_mean_absolute_error: 2.7075e-04\n",
      "Epoch 38/200\n",
      "6110/6110 [==============================] - 0s 81us/step - loss: 8.4150e-07 - r2_score: 0.9853 - mean_absolute_error: 3.0459e-04 - val_loss: 1.3755e-06 - val_r2_score: 0.9699 - val_mean_absolute_error: 3.9608e-04\n",
      "Epoch 39/200\n",
      "6110/6110 [==============================] - 0s 76us/step - loss: 8.1441e-07 - r2_score: 0.9678 - mean_absolute_error: 3.0689e-04 - val_loss: 9.9243e-07 - val_r2_score: 0.9912 - val_mean_absolute_error: 2.7942e-04\n",
      "Epoch 40/200\n",
      "6110/6110 [==============================] - 0s 76us/step - loss: 8.4299e-07 - r2_score: 0.9707 - mean_absolute_error: 3.0928e-04 - val_loss: 1.1262e-06 - val_r2_score: 0.9867 - val_mean_absolute_error: 3.1737e-04\n",
      "Epoch 41/200\n",
      "6110/6110 [==============================] - 0s 76us/step - loss: 8.3951e-07 - r2_score: 0.9755 - mean_absolute_error: 3.3560e-04 - val_loss: 9.5572e-07 - val_r2_score: 0.9887 - val_mean_absolute_error: 2.9655e-04\n",
      "Epoch 42/200\n",
      "6110/6110 [==============================] - 0s 74us/step - loss: 7.9856e-07 - r2_score: 0.9823 - mean_absolute_error: 2.8088e-04 - val_loss: 9.5175e-07 - val_r2_score: 0.9955 - val_mean_absolute_error: 2.1733e-04\n",
      "Epoch 43/200\n",
      "6110/6110 [==============================] - 0s 76us/step - loss: 7.9095e-07 - r2_score: 0.9865 - mean_absolute_error: 2.7821e-04 - val_loss: 1.5630e-06 - val_r2_score: 0.9864 - val_mean_absolute_error: 3.3234e-04\n",
      "Epoch 44/200\n",
      "6110/6110 [==============================] - 0s 76us/step - loss: 8.6208e-07 - r2_score: 0.9831 - mean_absolute_error: 3.0792e-04 - val_loss: 1.0847e-06 - val_r2_score: 0.9954 - val_mean_absolute_error: 2.1822e-04\n",
      "Epoch 45/200\n",
      "6110/6110 [==============================] - 0s 79us/step - loss: 7.6042e-07 - r2_score: 0.9769 - mean_absolute_error: 2.8988e-04 - val_loss: 1.0050e-06 - val_r2_score: 0.9893 - val_mean_absolute_error: 2.9571e-04\n",
      "Epoch 46/200\n",
      "6110/6110 [==============================] - 0s 73us/step - loss: 8.1458e-07 - r2_score: 0.9811 - mean_absolute_error: 2.8836e-04 - val_loss: 1.2536e-06 - val_r2_score: 0.9905 - val_mean_absolute_error: 2.9193e-04\n",
      "Epoch 47/200\n",
      "6110/6110 [==============================] - 0s 77us/step - loss: 7.6365e-07 - r2_score: 0.9692 - mean_absolute_error: 2.9177e-04 - val_loss: 9.3736e-07 - val_r2_score: 0.9954 - val_mean_absolute_error: 2.2660e-04\n",
      "Epoch 48/200\n",
      "6110/6110 [==============================] - 0s 77us/step - loss: 8.1004e-07 - r2_score: 0.9875 - mean_absolute_error: 3.0729e-04 - val_loss: 1.0633e-06 - val_r2_score: 0.9627 - val_mean_absolute_error: 4.0929e-04\n",
      "Epoch 49/200\n",
      "6110/6110 [==============================] - 0s 74us/step - loss: 7.9966e-07 - r2_score: 0.9841 - mean_absolute_error: 2.9831e-04 - val_loss: 9.4571e-07 - val_r2_score: 0.9883 - val_mean_absolute_error: 2.9705e-04\n",
      "Epoch 50/200\n",
      "6110/6110 [==============================] - 0s 77us/step - loss: 7.8251e-07 - r2_score: 0.9791 - mean_absolute_error: 2.7926e-04 - val_loss: 1.1038e-06 - val_r2_score: 0.9942 - val_mean_absolute_error: 2.4428e-04\n",
      "Epoch 51/200\n",
      "6110/6110 [==============================] - 0s 72us/step - loss: 7.7234e-07 - r2_score: 0.9871 - mean_absolute_error: 2.8164e-04 - val_loss: 9.8729e-07 - val_r2_score: 0.9863 - val_mean_absolute_error: 3.0820e-04\n",
      "Epoch 52/200\n",
      "6110/6110 [==============================] - 0s 76us/step - loss: 7.6411e-07 - r2_score: 0.9850 - mean_absolute_error: 2.7509e-04 - val_loss: 9.4063e-07 - val_r2_score: 0.9869 - val_mean_absolute_error: 3.0270e-04\n",
      "Epoch 53/200\n",
      "6110/6110 [==============================] - 0s 77us/step - loss: 7.5987e-07 - r2_score: 0.9806 - mean_absolute_error: 3.0390e-04 - val_loss: 1.6174e-06 - val_r2_score: 0.9713 - val_mean_absolute_error: 3.9369e-04\n",
      "Epoch 54/200\n",
      "6110/6110 [==============================] - 0s 77us/step - loss: 8.1534e-07 - r2_score: 0.9837 - mean_absolute_error: 3.0937e-04 - val_loss: 9.4143e-07 - val_r2_score: 0.9947 - val_mean_absolute_error: 2.3047e-04\n",
      "Epoch 55/200\n",
      "6110/6110 [==============================] - 1s 85us/step - loss: 8.1571e-07 - r2_score: 0.9831 - mean_absolute_error: 2.9409e-04 - val_loss: 9.4586e-07 - val_r2_score: 0.9894 - val_mean_absolute_error: 2.8786e-04\n",
      "Epoch 56/200\n",
      "6110/6110 [==============================] - 0s 80us/step - loss: 8.5697e-07 - r2_score: 0.9778 - mean_absolute_error: 3.0178e-04 - val_loss: 9.2755e-07 - val_r2_score: 0.9899 - val_mean_absolute_error: 2.7916e-04\n",
      "Epoch 57/200\n",
      "6110/6110 [==============================] - 1s 83us/step - loss: 8.1815e-07 - r2_score: 0.9632 - mean_absolute_error: 2.9459e-04 - val_loss: 9.4084e-07 - val_r2_score: 0.9928 - val_mean_absolute_error: 2.6082e-04\n",
      "Epoch 58/200\n",
      "6110/6110 [==============================] - 1s 93us/step - loss: 8.1247e-07 - r2_score: 0.9711 - mean_absolute_error: 2.8991e-04 - val_loss: 9.7799e-07 - val_r2_score: 0.9953 - val_mean_absolute_error: 2.2136e-04\n",
      "Epoch 59/200\n",
      "6110/6110 [==============================] - 1s 88us/step - loss: 7.8201e-07 - r2_score: 0.9764 - mean_absolute_error: 3.1015e-04 - val_loss: 9.1728e-07 - val_r2_score: 0.9878 - val_mean_absolute_error: 2.9900e-04\n",
      "Epoch 60/200\n",
      "6110/6110 [==============================] - 1s 86us/step - loss: 8.3004e-07 - r2_score: 0.9738 - mean_absolute_error: 3.0796e-04 - val_loss: 1.0611e-06 - val_r2_score: 0.9566 - val_mean_absolute_error: 4.2773e-04\n",
      "Epoch 61/200\n",
      "6110/6110 [==============================] - 1s 83us/step - loss: 7.8749e-07 - r2_score: 0.9733 - mean_absolute_error: 2.8858e-04 - val_loss: 1.1742e-06 - val_r2_score: 0.9958 - val_mean_absolute_error: 2.2206e-04\n",
      "Epoch 62/200\n",
      "6110/6110 [==============================] - 0s 79us/step - loss: 7.9674e-07 - r2_score: 0.9638 - mean_absolute_error: 2.8953e-04 - val_loss: 1.1378e-06 - val_r2_score: 0.9957 - val_mean_absolute_error: 2.2339e-04\n",
      "Epoch 63/200\n",
      "6110/6110 [==============================] - 0s 79us/step - loss: 7.7381e-07 - r2_score: 0.9667 - mean_absolute_error: 2.9391e-04 - val_loss: 1.0496e-06 - val_r2_score: 0.9912 - val_mean_absolute_error: 2.7362e-04\n",
      "Epoch 64/200\n",
      "6110/6110 [==============================] - 0s 77us/step - loss: 8.0147e-07 - r2_score: 0.9855 - mean_absolute_error: 2.9643e-04 - val_loss: 9.4631e-07 - val_r2_score: 0.9958 - val_mean_absolute_error: 2.1273e-04\n",
      "Epoch 65/200\n",
      "6110/6110 [==============================] - 0s 77us/step - loss: 7.8392e-07 - r2_score: 0.9610 - mean_absolute_error: 3.1009e-04 - val_loss: 1.0060e-06 - val_r2_score: 0.9957 - val_mean_absolute_error: 2.2103e-04\n",
      "Epoch 66/200\n",
      "6110/6110 [==============================] - 0s 76us/step - loss: 7.9443e-07 - r2_score: 0.9778 - mean_absolute_error: 3.1145e-04 - val_loss: 9.0045e-07 - val_r2_score: 0.9875 - val_mean_absolute_error: 3.0029e-04\n",
      "Epoch 67/200\n",
      "6110/6110 [==============================] - 0s 69us/step - loss: 7.7960e-07 - r2_score: 0.9697 - mean_absolute_error: 3.0993e-04 - val_loss: 9.4001e-07 - val_r2_score: 0.9803 - val_mean_absolute_error: 3.4249e-04\n",
      "Epoch 68/200\n",
      "6110/6110 [==============================] - 0s 77us/step - loss: 7.9025e-07 - r2_score: 0.9767 - mean_absolute_error: 3.2560e-04 - val_loss: 9.9474e-07 - val_r2_score: 0.9354 - val_mean_absolute_error: 4.8063e-04\n",
      "Epoch 69/200\n",
      "6110/6110 [==============================] - 0s 75us/step - loss: 7.4860e-07 - r2_score: 0.9843 - mean_absolute_error: 2.8506e-04 - val_loss: 9.8525e-07 - val_r2_score: 0.9883 - val_mean_absolute_error: 2.8962e-04\n",
      "Epoch 70/200\n",
      "6110/6110 [==============================] - 0s 76us/step - loss: 7.8228e-07 - r2_score: 0.9892 - mean_absolute_error: 2.7573e-04 - val_loss: 9.2933e-07 - val_r2_score: 0.9660 - val_mean_absolute_error: 3.9363e-04\n",
      "Epoch 71/200\n",
      "6110/6110 [==============================] - 0s 74us/step - loss: 7.5778e-07 - r2_score: 0.9792 - mean_absolute_error: 2.8829e-04 - val_loss: 9.9766e-07 - val_r2_score: 0.9763 - val_mean_absolute_error: 3.5695e-04\n",
      "Epoch 72/200\n",
      "6110/6110 [==============================] - 0s 71us/step - loss: 7.9344e-07 - r2_score: 0.9792 - mean_absolute_error: 3.0083e-04 - val_loss: 1.1820e-06 - val_r2_score: 0.8770 - val_mean_absolute_error: 6.1472e-04\n",
      "Epoch 73/200\n",
      "6110/6110 [==============================] - 0s 75us/step - loss: 7.4135e-07 - r2_score: 0.9735 - mean_absolute_error: 3.0589e-04 - val_loss: 9.0716e-07 - val_r2_score: 0.9866 - val_mean_absolute_error: 3.0467e-04\n",
      "Epoch 74/200\n",
      "6110/6110 [==============================] - 0s 72us/step - loss: 7.5370e-07 - r2_score: 0.9668 - mean_absolute_error: 3.0404e-04 - val_loss: 9.8987e-07 - val_r2_score: 0.9596 - val_mean_absolute_error: 4.2479e-04\n",
      "Epoch 75/200\n",
      "6110/6110 [==============================] - 1s 82us/step - loss: 8.5953e-07 - r2_score: 0.9746 - mean_absolute_error: 3.0981e-04 - val_loss: 8.7943e-07 - val_r2_score: 0.9943 - val_mean_absolute_error: 2.4262e-04\n",
      "Epoch 76/200\n",
      "6110/6110 [==============================] - 0s 76us/step - loss: 7.8875e-07 - r2_score: 0.9640 - mean_absolute_error: 2.9758e-04 - val_loss: 1.0196e-06 - val_r2_score: 0.9938 - val_mean_absolute_error: 2.5327e-04\n",
      "Epoch 77/200\n",
      "6110/6110 [==============================] - 0s 75us/step - loss: 7.7548e-07 - r2_score: 0.9804 - mean_absolute_error: 3.1269e-04 - val_loss: 8.7358e-07 - val_r2_score: 0.9822 - val_mean_absolute_error: 3.2785e-04\n",
      "Epoch 78/200\n",
      "6110/6110 [==============================] - 0s 69us/step - loss: 7.9587e-07 - r2_score: 0.9821 - mean_absolute_error: 2.8852e-04 - val_loss: 9.5444e-07 - val_r2_score: 0.9515 - val_mean_absolute_error: 4.4323e-04\n",
      "Epoch 79/200\n",
      "6110/6110 [==============================] - 0s 74us/step - loss: 7.6142e-07 - r2_score: 0.9679 - mean_absolute_error: 3.1496e-04 - val_loss: 8.5149e-07 - val_r2_score: 0.9956 - val_mean_absolute_error: 2.2010e-04\n",
      "Epoch 80/200\n",
      "6110/6110 [==============================] - 0s 75us/step - loss: 7.7203e-07 - r2_score: 0.9794 - mean_absolute_error: 2.9811e-04 - val_loss: 9.6051e-07 - val_r2_score: 0.9649 - val_mean_absolute_error: 3.9802e-04\n",
      "Epoch 81/200\n",
      "6110/6110 [==============================] - 0s 73us/step - loss: 7.5404e-07 - r2_score: 0.9691 - mean_absolute_error: 3.3178e-04 - val_loss: 1.2778e-06 - val_r2_score: 0.9939 - val_mean_absolute_error: 2.5341e-04\n",
      "Epoch 82/200\n",
      "6110/6110 [==============================] - 0s 78us/step - loss: 8.1601e-07 - r2_score: 0.9843 - mean_absolute_error: 2.8083e-04 - val_loss: 9.2401e-07 - val_r2_score: 0.9904 - val_mean_absolute_error: 2.8184e-04\n",
      "Epoch 83/200\n",
      "6110/6110 [==============================] - 0s 75us/step - loss: 7.3961e-07 - r2_score: 0.9843 - mean_absolute_error: 2.6479e-04 - val_loss: 1.1635e-06 - val_r2_score: 0.9958 - val_mean_absolute_error: 2.2310e-04\n",
      "Epoch 84/200\n",
      "6110/6110 [==============================] - 0s 77us/step - loss: 7.7687e-07 - r2_score: 0.9773 - mean_absolute_error: 2.7577e-04 - val_loss: 8.6405e-07 - val_r2_score: 0.9923 - val_mean_absolute_error: 2.5411e-04\n",
      "Epoch 85/200\n",
      "6110/6110 [==============================] - 0s 76us/step - loss: 7.9655e-07 - r2_score: 0.9783 - mean_absolute_error: 3.0633e-04 - val_loss: 9.9593e-07 - val_r2_score: 0.9948 - val_mean_absolute_error: 2.3039e-04\n",
      "Epoch 86/200\n",
      "6110/6110 [==============================] - 0s 78us/step - loss: 7.5688e-07 - r2_score: 0.9808 - mean_absolute_error: 2.9178e-04 - val_loss: 8.5923e-07 - val_r2_score: 0.9786 - val_mean_absolute_error: 3.4312e-04\n",
      "Epoch 87/200\n",
      "6110/6110 [==============================] - 0s 77us/step - loss: 8.1533e-07 - r2_score: 0.9856 - mean_absolute_error: 3.0428e-04 - val_loss: 9.2874e-07 - val_r2_score: 0.9671 - val_mean_absolute_error: 3.9351e-04\n",
      "Epoch 88/200\n",
      "6110/6110 [==============================] - 0s 77us/step - loss: 7.3439e-07 - r2_score: 0.9829 - mean_absolute_error: 2.6529e-04 - val_loss: 1.2524e-06 - val_r2_score: 0.9953 - val_mean_absolute_error: 2.3973e-04\n",
      "Epoch 89/200\n",
      "6110/6110 [==============================] - 0s 70us/step - loss: 7.8151e-07 - r2_score: 0.9685 - mean_absolute_error: 3.1331e-04 - val_loss: 1.0699e-06 - val_r2_score: 0.9934 - val_mean_absolute_error: 2.4999e-04\n",
      "Epoch 90/200\n",
      "6110/6110 [==============================] - 0s 79us/step - loss: 7.6391e-07 - r2_score: 0.9753 - mean_absolute_error: 3.1008e-04 - val_loss: 1.0104e-06 - val_r2_score: 0.9959 - val_mean_absolute_error: 2.1218e-04\n",
      "Epoch 91/200\n",
      "6110/6110 [==============================] - 1s 86us/step - loss: 7.9733e-07 - r2_score: 0.9854 - mean_absolute_error: 2.9956e-04 - val_loss: 1.1848e-06 - val_r2_score: 0.9926 - val_mean_absolute_error: 2.6531e-04\n",
      "Epoch 92/200\n",
      "6110/6110 [==============================] - 1s 86us/step - loss: 8.2270e-07 - r2_score: 0.9801 - mean_absolute_error: 3.1918e-04 - val_loss: 1.4350e-06 - val_r2_score: 0.9921 - val_mean_absolute_error: 2.8769e-04\n",
      "Epoch 93/200\n",
      "6110/6110 [==============================] - 1s 87us/step - loss: 7.3646e-07 - r2_score: 0.9782 - mean_absolute_error: 2.8348e-04 - val_loss: 9.0217e-07 - val_r2_score: 0.9779 - val_mean_absolute_error: 3.4338e-04\n",
      "Epoch 94/200\n",
      "6110/6110 [==============================] - 0s 76us/step - loss: 7.5959e-07 - r2_score: 0.9595 - mean_absolute_error: 2.8492e-04 - val_loss: 1.0492e-06 - val_r2_score: 0.9799 - val_mean_absolute_error: 3.3675e-04\n",
      "Epoch 95/200\n",
      "6110/6110 [==============================] - 1s 86us/step - loss: 7.9465e-07 - r2_score: 0.9649 - mean_absolute_error: 3.1277e-04 - val_loss: 1.2272e-06 - val_r2_score: 0.9894 - val_mean_absolute_error: 2.9207e-04\n",
      "Epoch 96/200\n",
      "6110/6110 [==============================] - 0s 80us/step - loss: 7.2869e-07 - r2_score: 0.9760 - mean_absolute_error: 2.9256e-04 - val_loss: 9.3125e-07 - val_r2_score: 0.9229 - val_mean_absolute_error: 5.0649e-04\n",
      "Epoch 97/200\n",
      "6110/6110 [==============================] - 0s 79us/step - loss: 7.6491e-07 - r2_score: 0.9842 - mean_absolute_error: 2.8751e-04 - val_loss: 8.2565e-07 - val_r2_score: 0.9942 - val_mean_absolute_error: 2.4200e-04\n",
      "Epoch 98/200\n",
      "6110/6110 [==============================] - 0s 75us/step - loss: 7.6877e-07 - r2_score: 0.9760 - mean_absolute_error: 2.9482e-04 - val_loss: 9.9688e-07 - val_r2_score: 0.9884 - val_mean_absolute_error: 2.9053e-04\n",
      "Epoch 99/200\n",
      "6110/6110 [==============================] - 0s 77us/step - loss: 7.7160e-07 - r2_score: 0.9786 - mean_absolute_error: 3.0790e-04 - val_loss: 8.4660e-07 - val_r2_score: 0.9693 - val_mean_absolute_error: 3.7737e-04\n",
      "Epoch 100/200\n",
      "6110/6110 [==============================] - 0s 74us/step - loss: 7.8834e-07 - r2_score: 0.9264 - mean_absolute_error: 3.1412e-04 - val_loss: 8.3421e-07 - val_r2_score: 0.9944 - val_mean_absolute_error: 2.3861e-04\n",
      "Epoch 101/200\n",
      "6110/6110 [==============================] - 0s 77us/step - loss: 7.7675e-07 - r2_score: 0.9740 - mean_absolute_error: 3.1796e-04 - val_loss: 8.4535e-07 - val_r2_score: 0.9861 - val_mean_absolute_error: 2.9812e-04\n",
      "Epoch 102/200\n",
      "6110/6110 [==============================] - 0s 76us/step - loss: 7.2399e-07 - r2_score: 0.9617 - mean_absolute_error: 2.6666e-04 - val_loss: 1.1450e-06 - val_r2_score: 0.9869 - val_mean_absolute_error: 3.1223e-04\n",
      "Epoch 103/200\n",
      "6110/6110 [==============================] - 0s 81us/step - loss: 7.4132e-07 - r2_score: 0.9879 - mean_absolute_error: 2.6867e-04 - val_loss: 8.9903e-07 - val_r2_score: 0.9874 - val_mean_absolute_error: 2.9161e-04\n",
      "Epoch 104/200\n",
      "6110/6110 [==============================] - 0s 79us/step - loss: 7.9390e-07 - r2_score: 0.9686 - mean_absolute_error: 3.1121e-04 - val_loss: 9.6528e-07 - val_r2_score: 0.9890 - val_mean_absolute_error: 2.8716e-04\n",
      "Epoch 105/200\n",
      "6110/6110 [==============================] - 0s 76us/step - loss: 7.2647e-07 - r2_score: 0.9844 - mean_absolute_error: 2.8363e-04 - val_loss: 1.4493e-06 - val_r2_score: 0.9457 - val_mean_absolute_error: 4.7636e-04\n",
      "Epoch 106/200\n",
      "6110/6110 [==============================] - 1s 85us/step - loss: 7.7629e-07 - r2_score: 0.9830 - mean_absolute_error: 2.9309e-04 - val_loss: 8.7089e-07 - val_r2_score: 0.9845 - val_mean_absolute_error: 3.1506e-04\n",
      "Epoch 107/200\n"
     ]
    },
    {
     "name": "stdout",
     "output_type": "stream",
     "text": [
      "6110/6110 [==============================] - 0s 80us/step - loss: 7.4601e-07 - r2_score: 0.9697 - mean_absolute_error: 2.9057e-04 - val_loss: 9.1098e-07 - val_r2_score: 0.9726 - val_mean_absolute_error: 3.6474e-04\n",
      "Epoch 108/200\n",
      "6110/6110 [==============================] - 0s 81us/step - loss: 7.9005e-07 - r2_score: 0.9813 - mean_absolute_error: 3.0929e-04 - val_loss: 1.3001e-06 - val_r2_score: 0.9954 - val_mean_absolute_error: 2.4284e-04\n",
      "Epoch 109/200\n",
      "6110/6110 [==============================] - 1s 82us/step - loss: 7.3720e-07 - r2_score: 0.9821 - mean_absolute_error: 2.9063e-04 - val_loss: 8.2635e-07 - val_r2_score: 0.9890 - val_mean_absolute_error: 2.8865e-04\n",
      "Epoch 110/200\n",
      "6110/6110 [==============================] - 1s 87us/step - loss: 7.8202e-07 - r2_score: 0.9826 - mean_absolute_error: 2.9428e-04 - val_loss: 9.4231e-07 - val_r2_score: 0.9955 - val_mean_absolute_error: 2.1686e-04\n",
      "Epoch 111/200\n",
      "6110/6110 [==============================] - 1s 86us/step - loss: 7.3605e-07 - r2_score: 0.9788 - mean_absolute_error: 3.0495e-04 - val_loss: 8.4061e-07 - val_r2_score: 0.9637 - val_mean_absolute_error: 3.9619e-04\n",
      "Epoch 112/200\n",
      "6110/6110 [==============================] - 0s 75us/step - loss: 7.5073e-07 - r2_score: 0.9794 - mean_absolute_error: 2.7605e-04 - val_loss: 8.9144e-07 - val_r2_score: 0.9950 - val_mean_absolute_error: 2.3240e-04\n",
      "Epoch 113/200\n",
      "6110/6110 [==============================] - 0s 79us/step - loss: 7.3327e-07 - r2_score: 0.9787 - mean_absolute_error: 2.9230e-04 - val_loss: 9.7542e-07 - val_r2_score: 0.9914 - val_mean_absolute_error: 2.7358e-04\n",
      "Epoch 114/200\n",
      "6110/6110 [==============================] - 0s 75us/step - loss: 7.6722e-07 - r2_score: 0.9877 - mean_absolute_error: 3.0580e-04 - val_loss: 1.0817e-06 - val_r2_score: 0.9824 - val_mean_absolute_error: 3.3456e-04\n",
      "Epoch 115/200\n",
      "6110/6110 [==============================] - 0s 79us/step - loss: 7.2241e-07 - r2_score: 0.9894 - mean_absolute_error: 2.8190e-04 - val_loss: 1.1225e-06 - val_r2_score: 0.9928 - val_mean_absolute_error: 2.6925e-04\n",
      "Epoch 116/200\n",
      "6110/6110 [==============================] - 0s 73us/step - loss: 7.5179e-07 - r2_score: 0.9842 - mean_absolute_error: 2.9751e-04 - val_loss: 8.8790e-07 - val_r2_score: 0.9842 - val_mean_absolute_error: 3.0790e-04\n",
      "Epoch 117/200\n",
      "6110/6110 [==============================] - 0s 71us/step - loss: 7.4962e-07 - r2_score: 0.9763 - mean_absolute_error: 2.9718e-04 - val_loss: 8.6652e-07 - val_r2_score: 0.9819 - val_mean_absolute_error: 3.2741e-04\n",
      "Epoch 118/200\n",
      "6110/6110 [==============================] - 0s 75us/step - loss: 7.2759e-07 - r2_score: 0.9861 - mean_absolute_error: 2.7709e-04 - val_loss: 9.2557e-07 - val_r2_score: 0.9871 - val_mean_absolute_error: 2.9696e-04\n",
      "Epoch 119/200\n",
      "6110/6110 [==============================] - 0s 76us/step - loss: 7.3090e-07 - r2_score: 0.9787 - mean_absolute_error: 2.7836e-04 - val_loss: 8.1944e-07 - val_r2_score: 0.9959 - val_mean_absolute_error: 2.0550e-04\n",
      "Epoch 120/200\n",
      "6110/6110 [==============================] - 0s 78us/step - loss: 7.6434e-07 - r2_score: 0.9832 - mean_absolute_error: 3.1444e-04 - val_loss: 8.0274e-07 - val_r2_score: 0.9848 - val_mean_absolute_error: 3.0923e-04\n",
      "Epoch 121/200\n",
      "6110/6110 [==============================] - 0s 76us/step - loss: 7.6616e-07 - r2_score: 0.9691 - mean_absolute_error: 3.0636e-04 - val_loss: 7.7005e-07 - val_r2_score: 0.9958 - val_mean_absolute_error: 2.1351e-04\n",
      "Epoch 122/200\n",
      "6110/6110 [==============================] - 0s 68us/step - loss: 7.2413e-07 - r2_score: 0.9821 - mean_absolute_error: 2.7853e-04 - val_loss: 7.9180e-07 - val_r2_score: 0.9848 - val_mean_absolute_error: 3.0876e-04\n",
      "Epoch 123/200\n",
      "6110/6110 [==============================] - 0s 74us/step - loss: 7.2580e-07 - r2_score: 0.9663 - mean_absolute_error: 2.8626e-04 - val_loss: 7.8258e-07 - val_r2_score: 0.9872 - val_mean_absolute_error: 2.9512e-04\n",
      "Epoch 124/200\n",
      "6110/6110 [==============================] - 0s 73us/step - loss: 7.1006e-07 - r2_score: 0.9825 - mean_absolute_error: 2.7916e-04 - val_loss: 1.0171e-06 - val_r2_score: 0.9959 - val_mean_absolute_error: 2.1155e-04\n",
      "Epoch 125/200\n",
      "6110/6110 [==============================] - 1s 87us/step - loss: 7.5123e-07 - r2_score: 0.9752 - mean_absolute_error: 2.9057e-04 - val_loss: 8.3220e-07 - val_r2_score: 0.9771 - val_mean_absolute_error: 3.4654e-04\n",
      "Epoch 126/200\n",
      "6110/6110 [==============================] - 1s 92us/step - loss: 7.5912e-07 - r2_score: 0.9870 - mean_absolute_error: 2.7411e-04 - val_loss: 1.0910e-06 - val_r2_score: 0.9954 - val_mean_absolute_error: 2.3524e-04\n",
      "Epoch 127/200\n",
      "6110/6110 [==============================] - 1s 89us/step - loss: 8.1928e-07 - r2_score: 0.9845 - mean_absolute_error: 2.8588e-04 - val_loss: 8.0349e-07 - val_r2_score: 0.9854 - val_mean_absolute_error: 3.0164e-04\n",
      "Epoch 128/200\n",
      "6110/6110 [==============================] - 0s 80us/step - loss: 7.5444e-07 - r2_score: 0.9794 - mean_absolute_error: 2.9025e-04 - val_loss: 1.1846e-06 - val_r2_score: 0.9948 - val_mean_absolute_error: 2.3780e-04\n",
      "Epoch 129/200\n",
      "6110/6110 [==============================] - 1s 93us/step - loss: 7.7017e-07 - r2_score: 0.9707 - mean_absolute_error: 3.1335e-04 - val_loss: 9.5233e-07 - val_r2_score: 0.9825 - val_mean_absolute_error: 3.2249e-04\n",
      "Epoch 130/200\n",
      "6110/6110 [==============================] - 0s 80us/step - loss: 7.1928e-07 - r2_score: 0.9859 - mean_absolute_error: 2.7660e-04 - val_loss: 1.0191e-06 - val_r2_score: 0.9595 - val_mean_absolute_error: 4.1585e-04\n",
      "Epoch 131/200\n",
      "6110/6110 [==============================] - 0s 80us/step - loss: 7.3209e-07 - r2_score: 0.9803 - mean_absolute_error: 2.9961e-04 - val_loss: 7.9377e-07 - val_r2_score: 0.9876 - val_mean_absolute_error: 2.8907e-04\n",
      "Epoch 132/200\n",
      "6110/6110 [==============================] - 0s 77us/step - loss: 6.9983e-07 - r2_score: 0.9804 - mean_absolute_error: 2.7139e-04 - val_loss: 8.5127e-07 - val_r2_score: 0.9406 - val_mean_absolute_error: 4.5949e-04\n",
      "Epoch 133/200\n",
      "6110/6110 [==============================] - 0s 71us/step - loss: 7.3957e-07 - r2_score: 0.9793 - mean_absolute_error: 2.9811e-04 - val_loss: 9.0916e-07 - val_r2_score: 0.9448 - val_mean_absolute_error: 4.5242e-04\n",
      "Epoch 134/200\n",
      "6110/6110 [==============================] - 0s 78us/step - loss: 7.6890e-07 - r2_score: 0.9820 - mean_absolute_error: 3.0927e-04 - val_loss: 1.1139e-06 - val_r2_score: 0.9260 - val_mean_absolute_error: 5.1374e-04\n",
      "Epoch 135/200\n",
      "6110/6110 [==============================] - 0s 76us/step - loss: 7.2963e-07 - r2_score: 0.9695 - mean_absolute_error: 2.9301e-04 - val_loss: 7.7916e-07 - val_r2_score: 0.9914 - val_mean_absolute_error: 2.5861e-04\n",
      "Epoch 136/200\n",
      "6110/6110 [==============================] - 1s 83us/step - loss: 7.2399e-07 - r2_score: 0.9872 - mean_absolute_error: 2.9593e-04 - val_loss: 9.3630e-07 - val_r2_score: 0.9784 - val_mean_absolute_error: 3.4431e-04\n",
      "Epoch 137/200\n",
      "6110/6110 [==============================] - 0s 77us/step - loss: 7.4431e-07 - r2_score: 0.9853 - mean_absolute_error: 3.0407e-04 - val_loss: 9.9342e-07 - val_r2_score: 0.9950 - val_mean_absolute_error: 2.2920e-04\n",
      "Epoch 138/200\n",
      "6110/6110 [==============================] - 0s 74us/step - loss: 7.4168e-07 - r2_score: 0.9755 - mean_absolute_error: 2.9898e-04 - val_loss: 8.2329e-07 - val_r2_score: 0.9612 - val_mean_absolute_error: 4.0413e-04\n",
      "Epoch 139/200\n",
      "6110/6110 [==============================] - 0s 75us/step - loss: 7.0252e-07 - r2_score: 0.9859 - mean_absolute_error: 2.9016e-04 - val_loss: 1.2976e-06 - val_r2_score: 0.9937 - val_mean_absolute_error: 2.6724e-04\n",
      "Epoch 140/200\n",
      "6110/6110 [==============================] - 0s 75us/step - loss: 7.5258e-07 - r2_score: 0.9721 - mean_absolute_error: 3.3265e-04 - val_loss: 9.6805e-07 - val_r2_score: 0.9960 - val_mean_absolute_error: 2.1200e-04\n",
      "Epoch 141/200\n",
      "6110/6110 [==============================] - 0s 76us/step - loss: 7.4382e-07 - r2_score: 0.9815 - mean_absolute_error: 2.9182e-04 - val_loss: 8.5105e-07 - val_r2_score: 0.9846 - val_mean_absolute_error: 3.1246e-04\n",
      "Epoch 142/200\n",
      "6110/6110 [==============================] - 0s 74us/step - loss: 7.5100e-07 - r2_score: 0.9757 - mean_absolute_error: 3.1033e-04 - val_loss: 1.3154e-06 - val_r2_score: 0.9934 - val_mean_absolute_error: 2.6099e-04\n"
     ]
    },
    {
     "name": "stdout",
     "output_type": "stream",
     "text": [
      "Epoch 143/200\n",
      "6110/6110 [==============================] - 0s 76us/step - loss: 7.4655e-07 - r2_score: 0.9804 - mean_absolute_error: 2.7402e-04 - val_loss: 9.6823e-07 - val_r2_score: 0.9737 - val_mean_absolute_error: 3.6412e-04\n",
      "Epoch 144/200\n",
      "6110/6110 [==============================] - 0s 69us/step - loss: 7.3569e-07 - r2_score: 0.9845 - mean_absolute_error: 2.8739e-04 - val_loss: 1.0881e-06 - val_r2_score: 0.9850 - val_mean_absolute_error: 3.2024e-04\n",
      "Epoch 145/200\n",
      "6110/6110 [==============================] - 0s 80us/step - loss: 7.1568e-07 - r2_score: 0.9830 - mean_absolute_error: 2.6908e-04 - val_loss: 8.5932e-07 - val_r2_score: 0.9500 - val_mean_absolute_error: 4.3564e-04\n",
      "Epoch 146/200\n",
      "6110/6110 [==============================] - 0s 75us/step - loss: 7.4457e-07 - r2_score: 0.9833 - mean_absolute_error: 3.1605e-04 - val_loss: 8.3886e-07 - val_r2_score: 0.9303 - val_mean_absolute_error: 4.8326e-04\n",
      "Epoch 147/200\n",
      "6110/6110 [==============================] - 0s 81us/step - loss: 7.5625e-07 - r2_score: 0.9830 - mean_absolute_error: 2.8640e-04 - val_loss: 9.9736e-07 - val_r2_score: 0.9943 - val_mean_absolute_error: 2.3962e-04\n",
      "Epoch 148/200\n",
      "6110/6110 [==============================] - 0s 77us/step - loss: 7.3934e-07 - r2_score: 0.9858 - mean_absolute_error: 2.9054e-04 - val_loss: 1.4200e-06 - val_r2_score: 0.9949 - val_mean_absolute_error: 2.5392e-04\n",
      "Epoch 149/200\n",
      "6110/6110 [==============================] - 0s 76us/step - loss: 7.5375e-07 - r2_score: 0.9697 - mean_absolute_error: 2.9608e-04 - val_loss: 1.0589e-06 - val_r2_score: 0.9750 - val_mean_absolute_error: 3.6527e-04\n",
      "Epoch 150/200\n",
      "6110/6110 [==============================] - 0s 76us/step - loss: 7.2101e-07 - r2_score: 0.9818 - mean_absolute_error: 2.8616e-04 - val_loss: 9.5773e-07 - val_r2_score: 0.9880 - val_mean_absolute_error: 2.8883e-04\n",
      "Epoch 151/200\n",
      "6110/6110 [==============================] - 0s 75us/step - loss: 7.1702e-07 - r2_score: 0.9857 - mean_absolute_error: 2.8945e-04 - val_loss: 7.9887e-07 - val_r2_score: 0.9783 - val_mean_absolute_error: 3.3813e-04\n",
      "Epoch 152/200\n",
      "6110/6110 [==============================] - 0s 80us/step - loss: 7.3324e-07 - r2_score: 0.9821 - mean_absolute_error: 2.7501e-04 - val_loss: 8.2282e-07 - val_r2_score: 0.9834 - val_mean_absolute_error: 3.1584e-04\n",
      "Epoch 153/200\n",
      "6110/6110 [==============================] - 0s 76us/step - loss: 7.4882e-07 - r2_score: 0.9784 - mean_absolute_error: 2.9509e-04 - val_loss: 8.1937e-07 - val_r2_score: 0.9773 - val_mean_absolute_error: 3.4258e-04\n",
      "Epoch 154/200\n",
      "6110/6110 [==============================] - 0s 75us/step - loss: 7.5740e-07 - r2_score: 0.9848 - mean_absolute_error: 2.9465e-04 - val_loss: 1.0644e-06 - val_r2_score: 0.9959 - val_mean_absolute_error: 2.2269e-04\n",
      "Epoch 155/200\n",
      "6110/6110 [==============================] - 0s 69us/step - loss: 7.0818e-07 - r2_score: 0.9887 - mean_absolute_error: 2.7940e-04 - val_loss: 8.9284e-07 - val_r2_score: 0.9913 - val_mean_absolute_error: 2.7246e-04\n",
      "Epoch 156/200\n",
      "6110/6110 [==============================] - 0s 71us/step - loss: 7.3528e-07 - r2_score: 0.9778 - mean_absolute_error: 2.8526e-04 - val_loss: 7.5412e-07 - val_r2_score: 0.9932 - val_mean_absolute_error: 2.4232e-04\n",
      "Epoch 157/200\n",
      "6110/6110 [==============================] - 0s 75us/step - loss: 7.0300e-07 - r2_score: 0.9796 - mean_absolute_error: 2.9267e-04 - val_loss: 7.5401e-07 - val_r2_score: 0.9859 - val_mean_absolute_error: 2.9774e-04\n",
      "Epoch 158/200\n",
      "6110/6110 [==============================] - 0s 77us/step - loss: 7.4425e-07 - r2_score: 0.9843 - mean_absolute_error: 2.8662e-04 - val_loss: 9.2293e-07 - val_r2_score: 0.9960 - val_mean_absolute_error: 2.1006e-04\n",
      "Epoch 159/200\n",
      "6110/6110 [==============================] - 1s 84us/step - loss: 7.1180e-07 - r2_score: 0.9828 - mean_absolute_error: 2.8194e-04 - val_loss: 1.0614e-06 - val_r2_score: 0.9880 - val_mean_absolute_error: 2.9403e-04\n",
      "Epoch 160/200\n",
      "6110/6110 [==============================] - 0s 79us/step - loss: 7.1174e-07 - r2_score: 0.9856 - mean_absolute_error: 2.7878e-04 - val_loss: 8.7604e-07 - val_r2_score: 0.9801 - val_mean_absolute_error: 3.3267e-04\n",
      "Epoch 161/200\n",
      "6110/6110 [==============================] - 1s 83us/step - loss: 7.1064e-07 - r2_score: 0.9818 - mean_absolute_error: 2.7691e-04 - val_loss: 7.3754e-07 - val_r2_score: 0.9954 - val_mean_absolute_error: 2.1157e-04\n",
      "Epoch 162/200\n",
      "6110/6110 [==============================] - 0s 78us/step - loss: 7.9087e-07 - r2_score: 0.9847 - mean_absolute_error: 3.2217e-04 - val_loss: 8.0099e-07 - val_r2_score: 0.9794 - val_mean_absolute_error: 3.3222e-04\n",
      "Epoch 163/200\n",
      "6110/6110 [==============================] - 0s 79us/step - loss: 7.6003e-07 - r2_score: 0.9835 - mean_absolute_error: 3.1235e-04 - val_loss: 7.8365e-07 - val_r2_score: 0.9960 - val_mean_absolute_error: 2.0682e-04\n",
      "Epoch 164/200\n",
      "6110/6110 [==============================] - 0s 71us/step - loss: 7.2764e-07 - r2_score: 0.9530 - mean_absolute_error: 2.9189e-04 - val_loss: 7.9884e-07 - val_r2_score: 0.9876 - val_mean_absolute_error: 2.9176e-04\n",
      "Epoch 165/200\n",
      "6110/6110 [==============================] - 0s 77us/step - loss: 7.0621e-07 - r2_score: 0.9669 - mean_absolute_error: 2.9215e-04 - val_loss: 8.2581e-07 - val_r2_score: 0.9723 - val_mean_absolute_error: 3.6963e-04\n",
      "Epoch 166/200\n",
      "6110/6110 [==============================] - 0s 69us/step - loss: 7.3666e-07 - r2_score: 0.9726 - mean_absolute_error: 2.7067e-04 - val_loss: 1.1456e-06 - val_r2_score: 0.9180 - val_mean_absolute_error: 5.2633e-04\n",
      "Epoch 167/200\n",
      "6110/6110 [==============================] - 0s 76us/step - loss: 7.1082e-07 - r2_score: 0.9675 - mean_absolute_error: 2.8856e-04 - val_loss: 7.3255e-07 - val_r2_score: 0.9834 - val_mean_absolute_error: 3.1012e-04\n",
      "Epoch 168/200\n",
      "6110/6110 [==============================] - 0s 76us/step - loss: 7.0793e-07 - r2_score: 0.9810 - mean_absolute_error: 2.8442e-04 - val_loss: 1.0653e-06 - val_r2_score: 0.9843 - val_mean_absolute_error: 3.1677e-04\n",
      "Epoch 169/200\n",
      "6110/6110 [==============================] - 0s 74us/step - loss: 7.0353e-07 - r2_score: 0.9819 - mean_absolute_error: 2.7949e-04 - val_loss: 1.0042e-06 - val_r2_score: 0.9610 - val_mean_absolute_error: 4.1147e-04\n",
      "Epoch 170/200\n",
      "6110/6110 [==============================] - 0s 75us/step - loss: 7.5494e-07 - r2_score: 0.9738 - mean_absolute_error: 3.0727e-04 - val_loss: 1.1064e-06 - val_r2_score: 0.9811 - val_mean_absolute_error: 3.4030e-04\n",
      "Epoch 171/200\n",
      "6110/6110 [==============================] - 0s 74us/step - loss: 7.2132e-07 - r2_score: 0.9809 - mean_absolute_error: 2.7827e-04 - val_loss: 7.4426e-07 - val_r2_score: 0.9887 - val_mean_absolute_error: 2.8294e-04\n",
      "Epoch 172/200\n",
      "6110/6110 [==============================] - 0s 74us/step - loss: 7.1131e-07 - r2_score: 0.9742 - mean_absolute_error: 2.7134e-04 - val_loss: 1.1515e-06 - val_r2_score: 0.9960 - val_mean_absolute_error: 2.1462e-04\n",
      "Epoch 173/200\n",
      "6110/6110 [==============================] - 0s 76us/step - loss: 7.0264e-07 - r2_score: 0.9881 - mean_absolute_error: 2.8061e-04 - val_loss: 1.0325e-06 - val_r2_score: 0.9884 - val_mean_absolute_error: 2.9714e-04\n",
      "Epoch 174/200\n",
      "6110/6110 [==============================] - 0s 76us/step - loss: 7.1443e-07 - r2_score: 0.9539 - mean_absolute_error: 2.9266e-04 - val_loss: 7.7671e-07 - val_r2_score: 0.9894 - val_mean_absolute_error: 2.7042e-04\n",
      "Epoch 175/200\n",
      "6110/6110 [==============================] - 0s 75us/step - loss: 7.1154e-07 - r2_score: 0.9754 - mean_absolute_error: 2.7672e-04 - val_loss: 9.9017e-07 - val_r2_score: 0.9958 - val_mean_absolute_error: 2.2132e-04\n",
      "Epoch 176/200\n",
      "6110/6110 [==============================] - 0s 75us/step - loss: 7.2586e-07 - r2_score: 0.9809 - mean_absolute_error: 3.1259e-04 - val_loss: 1.0863e-06 - val_r2_score: 0.9891 - val_mean_absolute_error: 2.8740e-04\n",
      "Epoch 177/200\n",
      "6110/6110 [==============================] - 0s 74us/step - loss: 7.2075e-07 - r2_score: 0.9771 - mean_absolute_error: 2.8606e-04 - val_loss: 7.5708e-07 - val_r2_score: 0.9960 - val_mean_absolute_error: 1.9855e-04\n",
      "Epoch 178/200\n",
      "6110/6110 [==============================] - 0s 77us/step - loss: 7.5098e-07 - r2_score: 0.9858 - mean_absolute_error: 2.9301e-04 - val_loss: 7.1790e-07 - val_r2_score: 0.9908 - val_mean_absolute_error: 2.6821e-04\n"
     ]
    },
    {
     "name": "stdout",
     "output_type": "stream",
     "text": [
      "Epoch 179/200\n",
      "6110/6110 [==============================] - 0s 82us/step - loss: 7.3643e-07 - r2_score: 0.9567 - mean_absolute_error: 2.8932e-04 - val_loss: 1.1026e-06 - val_r2_score: 0.9882 - val_mean_absolute_error: 2.9388e-04\n",
      "Epoch 180/200\n",
      "6110/6110 [==============================] - 0s 73us/step - loss: 6.9868e-07 - r2_score: 0.9838 - mean_absolute_error: 2.9143e-04 - val_loss: 7.5210e-07 - val_r2_score: 0.9908 - val_mean_absolute_error: 2.6442e-04\n",
      "Epoch 181/200\n",
      "6110/6110 [==============================] - 0s 79us/step - loss: 7.0789e-07 - r2_score: 0.9784 - mean_absolute_error: 2.9334e-04 - val_loss: 1.4597e-06 - val_r2_score: 0.9671 - val_mean_absolute_error: 4.1177e-04\n",
      "Epoch 182/200\n",
      "6110/6110 [==============================] - 0s 77us/step - loss: 7.7667e-07 - r2_score: 0.9679 - mean_absolute_error: 3.3691e-04 - val_loss: 1.3890e-06 - val_r2_score: 0.9647 - val_mean_absolute_error: 4.0774e-04\n",
      "Epoch 183/200\n",
      "6110/6110 [==============================] - 0s 75us/step - loss: 7.1179e-07 - r2_score: 0.9852 - mean_absolute_error: 2.7853e-04 - val_loss: 7.5901e-07 - val_r2_score: 0.9948 - val_mean_absolute_error: 2.3163e-04\n",
      "Epoch 184/200\n",
      "6110/6110 [==============================] - 0s 78us/step - loss: 6.9603e-07 - r2_score: 0.9778 - mean_absolute_error: 2.8911e-04 - val_loss: 1.1471e-06 - val_r2_score: 0.9958 - val_mean_absolute_error: 2.1925e-04\n",
      "Epoch 185/200\n",
      "6110/6110 [==============================] - 0s 77us/step - loss: 7.1811e-07 - r2_score: 0.9722 - mean_absolute_error: 3.0914e-04 - val_loss: 1.0405e-06 - val_r2_score: 0.9869 - val_mean_absolute_error: 3.0109e-04\n",
      "Epoch 186/200\n",
      "6110/6110 [==============================] - 0s 79us/step - loss: 7.0624e-07 - r2_score: 0.9765 - mean_absolute_error: 2.8728e-04 - val_loss: 1.0031e-06 - val_r2_score: 0.9795 - val_mean_absolute_error: 3.4419e-04\n",
      "Epoch 187/200\n",
      "6110/6110 [==============================] - 0s 78us/step - loss: 7.4529e-07 - r2_score: 0.9794 - mean_absolute_error: 2.8000e-04 - val_loss: 9.4016e-07 - val_r2_score: 0.9833 - val_mean_absolute_error: 3.2244e-04\n",
      "Epoch 188/200\n",
      "6110/6110 [==============================] - 0s 73us/step - loss: 7.0913e-07 - r2_score: 0.9841 - mean_absolute_error: 2.8642e-04 - val_loss: 1.2146e-06 - val_r2_score: 0.8281 - val_mean_absolute_error: 6.8404e-04\n",
      "Epoch 189/200\n",
      "6110/6110 [==============================] - 0s 76us/step - loss: 7.1344e-07 - r2_score: 0.9685 - mean_absolute_error: 2.9346e-04 - val_loss: 9.8718e-07 - val_r2_score: 0.9866 - val_mean_absolute_error: 3.0604e-04\n",
      "Epoch 190/200\n",
      "6110/6110 [==============================] - 0s 71us/step - loss: 7.3562e-07 - r2_score: 0.9781 - mean_absolute_error: 2.9481e-04 - val_loss: 8.8827e-07 - val_r2_score: 0.9903 - val_mean_absolute_error: 2.6840e-04\n",
      "Epoch 191/200\n",
      "6110/6110 [==============================] - 1s 82us/step - loss: 7.0353e-07 - r2_score: 0.9809 - mean_absolute_error: 2.9089e-04 - val_loss: 9.1877e-07 - val_r2_score: 0.9740 - val_mean_absolute_error: 3.5557e-04\n",
      "Epoch 192/200\n",
      "6110/6110 [==============================] - 0s 81us/step - loss: 6.6860e-07 - r2_score: 0.9796 - mean_absolute_error: 2.6902e-04 - val_loss: 8.6316e-07 - val_r2_score: 0.9778 - val_mean_absolute_error: 3.4173e-04\n",
      "Epoch 193/200\n",
      "6110/6110 [==============================] - 1s 86us/step - loss: 6.7229e-07 - r2_score: 0.9853 - mean_absolute_error: 2.7780e-04 - val_loss: 9.1627e-07 - val_r2_score: 0.9897 - val_mean_absolute_error: 2.7606e-04\n",
      "Epoch 194/200\n",
      "6110/6110 [==============================] - 1s 88us/step - loss: 7.1053e-07 - r2_score: 0.9869 - mean_absolute_error: 2.8230e-04 - val_loss: 7.9140e-07 - val_r2_score: 0.9789 - val_mean_absolute_error: 3.3320e-04\n",
      "Epoch 195/200\n",
      "6110/6110 [==============================] - 1s 84us/step - loss: 7.8264e-07 - r2_score: 0.9805 - mean_absolute_error: 3.1075e-04 - val_loss: 7.9054e-07 - val_r2_score: 0.9903 - val_mean_absolute_error: 2.6541e-04\n",
      "Epoch 196/200\n",
      "6110/6110 [==============================] - 0s 79us/step - loss: 6.8937e-07 - r2_score: 0.9707 - mean_absolute_error: 2.7678e-04 - val_loss: 7.9044e-07 - val_r2_score: 0.9780 - val_mean_absolute_error: 3.3774e-04\n",
      "Epoch 197/200\n",
      "6110/6110 [==============================] - 0s 82us/step - loss: 7.0242e-07 - r2_score: 0.9774 - mean_absolute_error: 2.7900e-04 - val_loss: 7.6135e-07 - val_r2_score: 0.9939 - val_mean_absolute_error: 2.3352e-04\n",
      "Epoch 198/200\n",
      "6110/6110 [==============================] - 0s 73us/step - loss: 7.2870e-07 - r2_score: 0.9713 - mean_absolute_error: 2.8203e-04 - val_loss: 1.1932e-06 - val_r2_score: 0.9753 - val_mean_absolute_error: 3.6138e-04\n",
      "Epoch 199/200\n",
      "6110/6110 [==============================] - 0s 76us/step - loss: 6.9578e-07 - r2_score: 0.9917 - mean_absolute_error: 2.7793e-04 - val_loss: 8.2584e-07 - val_r2_score: 0.9961 - val_mean_absolute_error: 2.0328e-04\n",
      "Epoch 200/200\n",
      "6110/6110 [==============================] - 0s 74us/step - loss: 6.9136e-07 - r2_score: 0.9820 - mean_absolute_error: 2.7529e-04 - val_loss: 8.5845e-07 - val_r2_score: 0.9959 - val_mean_absolute_error: 2.0449e-04\n"
     ]
    },
    {
     "data": {
      "text/plain": [
       "<keras.callbacks.History at 0x130769d7b70>"
      ]
     },
     "execution_count": 15,
     "metadata": {},
     "output_type": "execute_result"
    }
   ],
   "source": [
    "def r2_score(y_true, y_pred):\n",
    "    SS_res =  K.sum(K.square( y_true-y_pred ))\n",
    "    SS_tot = K.sum(K.square( y_true - K.mean(y_true) ) )\n",
    "    return ( 1 - SS_res/(SS_tot + K.epsilon()) )\n",
    "\n",
    "model = Sequential()\n",
    "model.add(Dense(units=16, activation='relu', input_dim=8))\n",
    "model.add(Dense(units=4, activation='relu'))\n",
    "model.add(Dense(units=1))\n",
    "optimizer = Adam(lr = 0.00005)\n",
    "model.compile(loss='mean_squared_error', optimizer=optimizer, metrics=[r2_score, \"mae\"])\n",
    "\n",
    "model.fit(X_train, y_train, epochs = 200, batch_size = 16, validation_data = [X_test, y_test])"
   ]
  },
  {
   "cell_type": "markdown",
   "metadata": {},
   "source": [
    "Train a linear regression model with full input and output data to calculate the number of cases in next days in Turkey if we take precautions and behave like an average world country."
   ]
  },
  {
   "cell_type": "code",
   "execution_count": 15,
   "metadata": {},
   "outputs": [],
   "source": [
    "lin_model = LinearRegression().fit(X, y)"
   ]
  },
  {
   "cell_type": "markdown",
   "metadata": {},
   "source": [
    "### Prediction for Average Scenario"
   ]
  },
  {
   "cell_type": "markdown",
   "metadata": {},
   "source": [
    "Our model produces output regarding to the previous 7 days and their mean value. When we train our model with the data for all countries, our machine learning model learns the types of trends from 7 days and predicts the next day. When we give 7 total cases of Turkey, model finds the trend in Turkey and predict next total case in Turkey by using this trend information."
   ]
  },
  {
   "cell_type": "markdown",
   "metadata": {},
   "source": [
    "Make predictions given last 7 days total cases."
   ]
  },
  {
   "cell_type": "code",
   "execution_count": 16,
   "metadata": {},
   "outputs": [
    {
     "data": {
      "text/plain": [
       "[47029,\n",
       " 52167,\n",
       " 56956,\n",
       " 61049,\n",
       " 65111,\n",
       " 69392,\n",
       " 74193,\n",
       " 79029.59231308059,\n",
       " 83936.6215743165,\n",
       " 88817.73030843295,\n",
       " 93678.18426987696,\n",
       " 98525.95298294401,\n",
       " 103408.69175021158,\n",
       " 108286.1891322415,\n",
       " 113147.4944989039,\n",
       " 117967.45491344712,\n",
       " 122725.86500406431,\n",
       " 127403.19925547752,\n",
       " 131987.68770431704,\n",
       " 136459.8573861168,\n",
       " 140801.29557912936,\n",
       " 144991.44176465363,\n",
       " 149008.90770782754,\n",
       " 152831.35246620936,\n",
       " 156436.81297799625,\n",
       " 159802.25058257216,\n",
       " 162904.1798891971,\n",
       " 165718.4358043573,\n",
       " 168220.2544266266,\n",
       " 170384.2671595157,\n",
       " 172184.7221679798,\n",
       " 173595.4162626851,\n",
       " 174589.7913088724,\n",
       " 175140.97152512474,\n",
       " 175221.82197153816]"
      ]
     },
     "execution_count": 16,
     "metadata": {},
     "output_type": "execute_result"
    }
   ],
   "source": [
    "future_data = [47029, 52167, 56956, 61049, 65111, 69392, 74193]\n",
    "\n",
    "def future(future_dat):\n",
    "    future_dat.append(lin_model.predict([([np.mean(future_dat[-7:])]+ future_dat[-7:])/X_max])[0]*X_max)\n",
    "    return future_dat\n",
    "\n",
    "for i in range(57):\n",
    "    future_data = future(future_data)\n",
    "\n",
    "for i in range(len(future_data) - 1):\n",
    "    if future_data[i+1] < future_data[i]:\n",
    "        future_data = future_data[:i+1]\n",
    "        break\n",
    "\n",
    "future_data"
   ]
  },
  {
   "cell_type": "markdown",
   "metadata": {},
   "source": [
    "Calculate daily cases in order to give the simulation."
   ]
  },
  {
   "cell_type": "code",
   "execution_count": 17,
   "metadata": {},
   "outputs": [
    {
     "data": {
      "text/plain": [
       "[4836.5923130805895,\n",
       " 4907.029261235904,\n",
       " 4881.108734116453,\n",
       " 4860.453961444015,\n",
       " 4847.768713067053,\n",
       " 4882.738767267569,\n",
       " 4877.49738202992,\n",
       " 4861.305366662404,\n",
       " 4819.9604145432095,\n",
       " 4758.410090617195,\n",
       " 4677.334251413209,\n",
       " 4584.488448839518,\n",
       " 4472.169681799773,\n",
       " 4341.438193012553,\n",
       " 4190.146185524267,\n",
       " 4017.465943173913,\n",
       " 3822.444758381811,\n",
       " 3605.4605117868923,\n",
       " 3365.4376045759127,\n",
       " 3101.929306624952,\n",
       " 2814.2559151601745,\n",
       " 2501.8186222693184,\n",
       " 2164.012732889096,\n",
       " 1800.4550084641087,\n",
       " 1410.694094705279,\n",
       " 994.3750461873133,\n",
       " 551.1802162523381,\n",
       " 80.85044641341665]"
      ]
     },
     "execution_count": 17,
     "metadata": {},
     "output_type": "execute_result"
    }
   ],
   "source": [
    "daily_cases = []\n",
    "for i in range(7, len(future_data)):\n",
    "    daily_cases.append(future_data[i]-future_data[i-1])\n",
    "daily_cases        "
   ]
  },
  {
   "cell_type": "markdown",
   "metadata": {},
   "source": [
    "### Average Case Simulation"
   ]
  },
  {
   "cell_type": "markdown",
   "metadata": {},
   "source": [
    "Give daily cases to the simulation and simulation will produce some output. This is a basic Jackson Network Simulation. The Queueing Model of this simulation can be found on our report.\n",
    "\n",
    "The first queue in the system represents the COVID positive patients in Turkey. In this simulation we assume that the arrival process of the patients to the hospital is a Poisson process. Because in the estimation we make, we take into account the effects between 2 patients. So in the simulation, probability of a new COVID positive patient is independet from other patients. Because the time between 2 poisson processes is an exponential distribution random variable, we use exponential distribution.\n",
    "\n",
    "Other interarrival time values are founded from data sources that can be found in the [`README.md`](https://github.com/HUmutOzdemir/COVIDDatathon/blob/master/README.md) file."
   ]
  },
  {
   "cell_type": "code",
   "execution_count": 18,
   "metadata": {},
   "outputs": [],
   "source": [
    "# Duration of the simulation(days)\n",
    "duration = 57\n",
    "# Input patient list\n",
    "coming_patient_list = daily_cases\n",
    "# Number of Intense Care used by COVID-19\n",
    "num_used_COVID = 1854\n",
    "# Length of day (in hours)\n",
    "length_of_day = 24\n",
    "# Coming patient rate of the first day\n",
    "lambda_ = coming_patient_list[0]/length_of_day\n",
    "# First interarrival time of the patient\n",
    "interarrival_time=np.random.exponential(scale=1/lambda_)"
   ]
  },
  {
   "cell_type": "code",
   "execution_count": 19,
   "metadata": {},
   "outputs": [],
   "source": [
    "event_queue = []\n",
    "# Add first 2 events\n",
    "heapq.heappush(event_queue,(interarrival_time,\"Arrival\")) \n",
    "heapq.heappush(event_queue,(24,\"Day End\"))\n",
    "heapq.heappush(event_queue,(duration*24,\"Finish\"))\n",
    "\n",
    "# Percantage of Patient Who Goes Intense Care\n",
    "intensecare_percent = 0.061\n",
    "# Percentage of death of person who goes intensecare unit\n",
    "death_percentage = 0.51\n",
    "\n",
    "# Guassian coefficiants of t_home Guassian Random Variable\n",
    "t_home_coef = (84,36)\n",
    "# Guassiam coefficiants of t_intencecare Guassian Random Variable\n",
    "t_intensecare_coef = (756,252) \n",
    "# Guassiam coefficiants of t_intencecare Guassian Random Variable\n",
    "t_health_coef = (216,12)"
   ]
  },
  {
   "cell_type": "code",
   "execution_count": 20,
   "metadata": {},
   "outputs": [],
   "source": [
    "# Add Current Intense care Events to Event queue\n",
    "for i in range(num_used_COVID):\n",
    "    # Create Intense Care Time\n",
    "    # We assume that every patient in the ICU was come here after the 12th day which is the mean value of goint the the ICU\n",
    "    # Also because we cannot find any data, we assume that these days have equal probability\n",
    "    t_intensecare = np.random.normal(loc=t_intensecare_coef[0], scale= t_intensecare_coef[1])\n",
    "    # Add Intense Care Event to Event Queue\n",
    "    heapq.heappush(event_queue,(t_intensecare,\"Intense Care\"))\n",
    "\n",
    "# Intense Care Unit Stats\n",
    "daily_intensecare_increase=0\n",
    "max_num_of_intensecare = 25446\n",
    "intensecare_fullness = 0.595\n",
    "intensecare_used = max_num_of_intensecare * intensecare_fullness\n",
    "\n",
    "day_counter = 0\n",
    "\n",
    "# Output List\n",
    "output_list = []\n",
    "\n",
    "# Daily statistics\n",
    "num_of_arrival = 0\n",
    "num_of_death = 0\n",
    "num_of_healthy = 0\n",
    "num_of_noncared = 0"
   ]
  },
  {
   "cell_type": "code",
   "execution_count": 21,
   "metadata": {},
   "outputs": [],
   "source": [
    "while event_queue:\n",
    "    # Pop the event\n",
    "    current_event = heapq.heappop(event_queue)\n",
    "    if current_event[1] == \"Day End\":\n",
    "        day_counter += 1\n",
    "        if day_counter < len(coming_patient_list):\n",
    "            # Add new intense care units\n",
    "            max_num_of_intensecare += daily_intensecare_increase\n",
    "            # Calculate next lambda\n",
    "            lambda_=coming_patient_list[day_counter]/length_of_day\n",
    "        # Add other day end event\n",
    "        heapq.heappush(event_queue,(current_event[0]+24,\"Day End\"))\n",
    "        # Generate Output\n",
    "        output_list.append((num_of_arrival,num_of_healthy,num_of_death,(intensecare_used/max_num_of_intensecare)*100,num_of_noncared))\n",
    "        # Make daily stats zero\n",
    "        num_of_arrival = 0\n",
    "        num_of_death = 0\n",
    "        num_of_healthy = 0\n",
    "        num_of_noncared = 0\n",
    "        continue\n",
    "    if current_event[1] == \"Arrival\":\n",
    "        # Increase number of arrivals\n",
    "        num_of_arrival += 1\n",
    "        # Create Rest Time in Home-Hospital\n",
    "        t_home = np.random.normal(loc=t_home_coef[0],scale=t_home_coef[1])\n",
    "        # Add Home-Hospipal Event to Event Queue\n",
    "        heapq.heappush(event_queue,(current_event[0]+t_home,\"Home-Hospital\"))\n",
    "        if day_counter < len(coming_patient_list):\n",
    "            # Create new interarrival time\n",
    "            interarrival_time=np.random.exponential(scale=1/lambda_)\n",
    "            # Add new Arrival Event to the Event Queue\n",
    "            heapq.heappush(event_queue,(current_event[0]+interarrival_time,\"Arrival\"))\n",
    "        continue\n",
    "    if current_event[1] ==\"Home-Hospital\":\n",
    "        # Check the patient will go intense care unit or not\n",
    "        if intensecare_percent > np.random.uniform(0,1):\n",
    "            if intensecare_used < max_num_of_intensecare:\n",
    "                # Use intense care unit\n",
    "                intensecare_used += 1\n",
    "                # Create Intense Care Time\n",
    "                t_intensecare = np.random.normal(loc=t_intensecare_coef[0], scale= t_intensecare_coef[1])\n",
    "                # Add Intense Care Event to Event Queue\n",
    "                heapq.heappush(event_queue,(current_event[0]+t_intensecare,\"Intense Care\"))\n",
    "            else:\n",
    "                # Increase number of non cared patients\n",
    "                num_of_noncared += 1\n",
    "                # Add Death Out Event to the Event Queue \n",
    "                heapq.heappush(event_queue,(current_event[0],\"Death-Out\"))\n",
    "        else:\n",
    "            #Create Getting Healthy Time \n",
    "            t_health = np.random.normal(loc=t_health_coef[0],scale=t_health_coef[1])\n",
    "            #Add Get Healthy Out Event to Event Queue\n",
    "            heapq.heappush(event_queue,(current_event[0]+t_health,\"Healthy-Out\"))\n",
    "        continue\n",
    "    if current_event[1] == \"Intense Care\":\n",
    "        # Decrease used intense care unit\n",
    "        intensecare_used -= 1\n",
    "        # Check the patient will die or not\n",
    "        if death_percentage > np.random.uniform(0,1):\n",
    "            # Add Death Out Event to the Event Queue \n",
    "            heapq.heappush(event_queue,(current_event[0],\"Death-Out\"))\n",
    "        else:\n",
    "            #Create Getting Healthy Time \n",
    "            t_health = np.random.normal(loc=t_health_coef[0],scale=t_health_coef[1])\n",
    "            #Add Get Healthy Out Event to Event Queue\n",
    "            heapq.heappush(event_queue,(current_event[0]+t_health,\"Healthy-Out\"))\n",
    "        continue\n",
    "    if current_event[1] == \"Healthy-Out\":\n",
    "        # Increase number of healthy\n",
    "        num_of_healthy += 1\n",
    "        continue\n",
    "    if current_event[1] == \"Death-Out\":\n",
    "        #Increase number of death\n",
    "        num_of_death += 1\n",
    "        continue\n",
    "    if current_event[1] == \"Finish\":\n",
    "        break"
   ]
  },
  {
   "cell_type": "code",
   "execution_count": 22,
   "metadata": {},
   "outputs": [
    {
     "data": {
      "text/plain": [
       "[(4846, 0, 2, 59.51964945374518, 0),\n",
       " (4969, 0, 0, 59.63361628546726, 0),\n",
       " (4904, 0, 2, 59.92835809164505, 0),\n",
       " (4724, 0, 1, 60.46675312426314, 0),\n",
       " (4808, 0, 1, 61.28810029081191, 0),\n",
       " (4878, 0, 2, 62.21948439833373, 0),\n",
       " (4858, 2, 5, 63.37880216929969, 0),\n",
       " (4830, 7, 2, 64.49096125127721, 0),\n",
       " (4818, 18, 6, 65.7052974927297, 0),\n",
       " (4793, 150, 3, 66.77815766721685, 0),\n",
       " (4749, 484, 0, 67.88245696769629, 0),\n",
       " (4568, 1202, 7, 69.00640572192093, 0),\n",
       " (4442, 2277, 10, 69.965299064686, 0),\n",
       " (4357, 3371, 17, 71.06173858366736, 0),\n",
       " (4176, 4149, 8, 72.13066886740548, 0),\n",
       " (4024, 4469, 20, 73.07777253792345, 0),\n",
       " (3811, 4524, 22, 73.99736697319814, 0),\n",
       " (3561, 4483, 27, 74.89338206397862, 0),\n",
       " (3408, 4553, 26, 75.60862218030339, 0),\n",
       " (3049, 4587, 20, 76.41031989310697, 0),\n",
       " (2872, 4554, 29, 77.02338284995676, 0),\n",
       " (2505, 4475, 26, 77.5971468993162, 0),\n",
       " (2137, 4408, 36, 77.92725772223532, 0),\n",
       " (1801, 4304, 43, 78.25736854515443, 0),\n",
       " (1373, 4259, 59, 78.44993319185726, 0),\n",
       " (1009, 4139, 52, 78.52853100683801, 0),\n",
       " (533, 4001, 56, 78.67393696455238, 0),\n",
       " (70, 3876, 66, 78.51674133459089, 0),\n",
       " (1, 3656, 62, 78.29273756189578, 0),\n",
       " (0, 3558, 79, 77.89581859624302, 0),\n",
       " (0, 3203, 88, 77.3024050931384, 0),\n",
       " (0, 2969, 93, 76.60288453980979, 0),\n",
       " (0, 2821, 88, 75.9072938772302, 0),\n",
       " (0, 2578, 77, 75.18026408865833, 0),\n",
       " (0, 2240, 92, 74.42965495559223, 0),\n",
       " (0, 1866, 109, 73.55721920930598, 0),\n",
       " (0, 1502, 110, 72.71622258901202, 0),\n",
       " (0, 1209, 96, 71.88308575021614, 0),\n",
       " (0, 841, 102, 71.05780869291833, 0),\n",
       " (0, 514, 100, 70.22860174487148, 0),\n",
       " (0, 300, 110, 69.3207969818439, 0),\n",
       " (0, 171, 116, 68.37762320207497, 0),\n",
       " (0, 123, 105, 67.50125756503968, 0),\n",
       " (0, 108, 128, 66.54629411302365, 0),\n",
       " (0, 102, 122, 65.57168120726243, 0),\n",
       " (0, 123, 122, 64.67173622573293, 0),\n",
       " (0, 94, 104, 63.85038905918415, 0),\n",
       " (0, 116, 91, 63.158728287353604, 0),\n",
       " (0, 114, 94, 62.43562838953076, 0),\n",
       " (0, 128, 101, 61.70073881946081, 0),\n",
       " (0, 117, 104, 60.93048023264953, 0),\n",
       " (0, 120, 94, 60.10520317535172, 0),\n",
       " (0, 125, 104, 59.40175273127407, 0),\n",
       " (0, 113, 65, 58.871217480154044, 0),\n",
       " (0, 102, 83, 58.16776703607639, 0),\n",
       " (0, 95, 73, 57.562563860724666, 0),\n",
       " (0, 101, 67, 57.032028609604644, 0)]"
      ]
     },
     "execution_count": 22,
     "metadata": {},
     "output_type": "execute_result"
    }
   ],
   "source": [
    "output_list"
   ]
  },
  {
   "cell_type": "code",
   "execution_count": 23,
   "metadata": {},
   "outputs": [],
   "source": [
    "healthy_patient_nums = [7089]\n",
    "death_patient_nums = [1643]\n",
    "intense_care_percets = []\n",
    "non_ICU_nums = [0]\n",
    "for output in output_list:\n",
    "    healthy_patient_nums.append(output[1] + healthy_patient_nums[len(healthy_patient_nums)-1])\n",
    "    death_patient_nums.append(output[2] + death_patient_nums[len(death_patient_nums)-1])\n",
    "    intense_care_percets.append(output[3])\n",
    "    non_ICU_nums.append(output[4] + non_ICU_nums[len(non_ICU_nums)-1])"
   ]
  },
  {
   "cell_type": "markdown",
   "metadata": {},
   "source": [
    "### Average Case Plots"
   ]
  },
  {
   "cell_type": "markdown",
   "metadata": {},
   "source": [
    "Plot total cases vs day graph to see results of model clearly."
   ]
  },
  {
   "cell_type": "code",
   "execution_count": 24,
   "metadata": {},
   "outputs": [
    {
     "data": {
      "image/png": "[encoded data removed]",
      "text/plain": [
       "<Figure size 720x432 with 1 Axes>"
      ]
     },
     "metadata": {
      "needs_background": "light"
     },
     "output_type": "display_data"
    }
   ],
   "source": [
    "plt.figure(figsize=(10, 6))\n",
    "plt.fill_between(range(len(future_data)-7), future_data[7:], color=\"black\", alpha=0.02)\n",
    "plt.fill_between(range(len(future_data)-7), future_data[7:], color=\"black\", alpha=0.01)\n",
    "plt.plot(range(len(future_data)-7), future_data[7:],\".-\" , color=\"#FFAB78\", alpha=1)\n",
    "plt.xlabel(\"Days\")\n",
    "plt.ylabel(\"Total cases\")\n",
    "plt.title(\"Total cases vs day\")\n",
    "plt.grid(alpha=0.2)\n",
    "plt.show()"
   ]
  },
  {
   "cell_type": "markdown",
   "metadata": {},
   "source": [
    "Plot new cases vs day graph to see results of model clearly."
   ]
  },
  {
   "cell_type": "code",
   "execution_count": 25,
   "metadata": {},
   "outputs": [
    {
     "data": {
      "image/png": "[encoded data removed]",
      "text/plain": [
       "<Figure size 720x432 with 1 Axes>"
      ]
     },
     "metadata": {
      "needs_background": "light"
     },
     "output_type": "display_data"
    }
   ],
   "source": [
    "plt.figure(figsize=(10, 6))\n",
    "plt.fill_between(range(len(daily_cases)-7), daily_cases[7:], color=\"black\", alpha=0.02)\n",
    "plt.fill_between(range(len(daily_cases)-7), daily_cases[7:], color=\"black\", alpha=0.01)\n",
    "plt.plot(range(len(daily_cases)-7), daily_cases[7:],\".-\" , color=\"#FFAB78\", alpha=1)\n",
    "plt.xlabel(\"Days\")\n",
    "plt.ylabel(\"New cases\")\n",
    "plt.title(\"New cases vs day\")\n",
    "plt.grid(alpha=0.2)\n",
    "plt.show()"
   ]
  },
  {
   "cell_type": "markdown",
   "metadata": {},
   "source": [
    "Plot number of healthy covid-19 patients vs day graph to see results of simulation clearly."
   ]
  },
  {
   "cell_type": "code",
   "execution_count": 26,
   "metadata": {},
   "outputs": [
    {
     "data": {
      "image/png": "[encoded data removed]",
      "text/plain": [
       "<Figure size 720x432 with 1 Axes>"
      ]
     },
     "metadata": {
      "needs_background": "light"
     },
     "output_type": "display_data"
    }
   ],
   "source": [
    "plt.figure(figsize=(10, 6))\n",
    "plt.fill_between(range(len(healthy_patient_nums)-7), healthy_patient_nums[7:], color=\"black\", alpha=0.02)\n",
    "plt.fill_between( range(len(healthy_patient_nums)-7), healthy_patient_nums[7:], color=\"black\", alpha=0.01)\n",
    "plt.plot(range(len(healthy_patient_nums)-7), healthy_patient_nums[7:],\".-\" , color=\"#4FB7FF\", alpha=1)\n",
    "plt.xlabel(\"Days\")\n",
    "plt.ylabel(\"Number of healty covid-19 patients\")\n",
    "plt.title(\"Number of healty covid-19 patients vs day\")\n",
    "plt.grid(alpha=0.2)\n",
    "plt.show()"
   ]
  },
  {
   "cell_type": "markdown",
   "metadata": {},
   "source": [
    "Plot number of deaths vs day graph to see results of simulation clearly."
   ]
  },
  {
   "cell_type": "code",
   "execution_count": 27,
   "metadata": {},
   "outputs": [
    {
     "data": {
      "image/png": "[encoded data removed]",
      "text/plain": [
       "<Figure size 720x432 with 1 Axes>"
      ]
     },
     "metadata": {
      "needs_background": "light"
     },
     "output_type": "display_data"
    }
   ],
   "source": [
    "plt.figure(figsize=(10, 6))\n",
    "plt.fill_between(range(len(death_patient_nums)-7), death_patient_nums[7:], color=\"black\", alpha=0.02)\n",
    "plt.fill_between(range(len(death_patient_nums)-7), death_patient_nums[7:], color=\"black\", alpha=0.01)\n",
    "plt.plot(range(len(death_patient_nums)-7), death_patient_nums[7:], \".-\" , color=\"red\", alpha=1)\n",
    "plt.xlabel(\"Days\")\n",
    "plt.ylabel(\"Number of deaths\")\n",
    "plt.title(\"Number of deaths vs day\")\n",
    "plt.grid(alpha=0.2)\n",
    "plt.show()"
   ]
  },
  {
   "cell_type": "markdown",
   "metadata": {},
   "source": [
    "Plot number of intense care percentage vs day graph to see results of simulation clearly."
   ]
  },
  {
   "cell_type": "code",
   "execution_count": 28,
   "metadata": {},
   "outputs": [
    {
     "data": {
      "image/png": "[encoded data removed]",
      "text/plain": [
       "<Figure size 720x432 with 1 Axes>"
      ]
     },
     "metadata": {
      "needs_background": "light"
     },
     "output_type": "display_data"
    }
   ],
   "source": [
    "plt.figure(figsize=(10, 6))\n",
    "plt.fill_between(range(len(intense_care_percets)-7), intense_care_percets[7:], color=\"black\", alpha=0.02)\n",
    "plt.fill_between(range(len(intense_care_percets)-7), intense_care_percets[7:], color=\"black\", alpha=0.01)\n",
    "plt.plot(range(len(intense_care_percets)-7), intense_care_percets[7:], \".-\" , color=\"#31FFDE\", alpha=1)\n",
    "plt.xlabel(\"Days\")\n",
    "plt.ylabel(\"Intense care percentage\")\n",
    "plt.title(\"Number of intense care percentage vs day\")\n",
    "plt.grid(alpha=0.2)\n",
    "plt.show()"
   ]
  },
  {
   "cell_type": "markdown",
   "metadata": {},
   "source": [
    "Plot number of patients which can not apply ICU vs day graph to see results of simulation clearly."
   ]
  },
  {
   "cell_type": "code",
   "execution_count": 29,
   "metadata": {},
   "outputs": [
    {
     "data": {
      "image/png": "[encoded data removed]",
      "text/plain": [
       "<Figure size 720x432 with 1 Axes>"
      ]
     },
     "metadata": {
      "needs_background": "light"
     },
     "output_type": "display_data"
    }
   ],
   "source": [
    "plt.figure(figsize=(10, 6))\n",
    "plt.fill_between(range(len(non_ICU_nums)-7), non_ICU_nums[7:], color=\"black\", alpha=0.02)\n",
    "plt.fill_between(range(len(non_ICU_nums)-7), non_ICU_nums[7:], color=\"black\", alpha=0.01)\n",
    "plt.plot(range(len(non_ICU_nums)-7), non_ICU_nums[7:], \".-\" , color=\"#FF2973\", alpha=1)\n",
    "plt.xlabel(\"Days\")\n",
    "plt.ylabel(\"Number of patients which can not apply ICU\")\n",
    "plt.title(\"Number of patients which can not apply ICU vs day\")\n",
    "plt.grid(alpha=0.2)\n",
    "plt.show()"
   ]
  },
  {
   "cell_type": "markdown",
   "metadata": {},
   "source": [
    "### Average Case Analysis of the Istanbul"
   ]
  },
  {
   "cell_type": "markdown",
   "metadata": {},
   "source": [
    "Because Istanbul is one of the worst cities of the Turkey. So we want to make this simlation analysis also for the Istanbul. During this analysis we assume that the cases in the Istanbul are 58.05 percent of the cases of Turkey. Because the average of this ratio is 0.5805 in the official declerations of the number of provincial cases. Our data sources can be found on our [`README.md`](https://github.com/HUmutOzdemir/COVIDDatathon/blob/master/README.md) file.\n",
    "\n",
    "Calculate daily cases in order to give the simulation."
   ]
  },
  {
   "cell_type": "code",
   "execution_count": 30,
   "metadata": {},
   "outputs": [
    {
     "data": {
      "text/plain": [
       "[2807.6418377432824,\n",
       " 2848.5304861474424,\n",
       " 2833.483620154601,\n",
       " 2821.4935246182504,\n",
       " 2814.129737935424,\n",
       " 2834.429854398824,\n",
       " 2831.3872302683685,\n",
       " 2821.9877653475255,\n",
       " 2797.9870206423334,\n",
       " 2762.2570576032817,\n",
       " 2715.192532945368,\n",
       " 2661.2955445513403,\n",
       " 2596.094500284768,\n",
       " 2520.204871043787,\n",
       " 2432.379860696837,\n",
       " 2332.1389800124566,\n",
       " 2218.9291822406412,\n",
       " 2092.969827092291,\n",
       " 1953.6365294563175,\n",
       " 1800.6699624957846,\n",
       " 1633.6755587504813,\n",
       " 1452.3057102273394,\n",
       " 1256.2093914421202,\n",
       " 1045.164132413415,\n",
       " 818.9079219764145,\n",
       " 577.2347143117354,\n",
       " 319.9601155344823,\n",
       " 46.93368414298837]"
      ]
     },
     "execution_count": 30,
     "metadata": {},
     "output_type": "execute_result"
    }
   ],
   "source": [
    "daily_cases = []\n",
    "percentage_of_cases_in_Istanbul = 0.5805\n",
    "for i in range(7, len(future_data)):\n",
    "    daily_cases.append((future_data[i]-future_data[i-1])*percentage_of_cases_in_Istanbul)\n",
    "daily_cases   "
   ]
  },
  {
   "cell_type": "markdown",
   "metadata": {},
   "source": [
    "Give daily cases to the simulation and simulation will produce some output. This is a basic Jackson Network Simulation. The Queueing Model of this simulation can be found on our report.\n",
    "\n",
    "The first queue in the system represents the COVID positive patients in Istanbul. Also we assume that percentage of initial number of patients in the ICU in the Istanbul is same as the percentage of the cases in the Istanbul.\n",
    "\n",
    "In this simulation we assume that the arrival process of the patients to the hospital is a Poisson process. Because in the estimation we make, we take into account the effects between 2 patients. So in the simulation, probability of a new COVID positive patient is independet from other patients. Because the time between 2 poisson processes is an exponential distribution random variable, we use exponential distribution.\n",
    "\n",
    "Other interarrival time values and number of ICU units in the Istanbul are founded from data sources that can be found in the [`README.md`](https://github.com/HUmutOzdemir/COVIDDatathon/blob/master/README.md) file."
   ]
  },
  {
   "cell_type": "code",
   "execution_count": 31,
   "metadata": {},
   "outputs": [],
   "source": [
    "# Duration of the simulation(days)\n",
    "duration = 57\n",
    "# Input patient list\n",
    "coming_patient_list = daily_cases\n",
    "# Number of Intense Care used by COVID-19\n",
    "num_used_COVID = int(1854 * percentage_of_cases_in_Istanbul)\n",
    "# Length of day (in hours)\n",
    "length_of_day = 24\n",
    "# Coming patient rate of the first day\n",
    "lambda_ = coming_patient_list[0]/length_of_day\n",
    "# First interarrival time of the patient\n",
    "interarrival_time=np.random.exponential(scale=1/lambda_)"
   ]
  },
  {
   "cell_type": "code",
   "execution_count": 32,
   "metadata": {},
   "outputs": [],
   "source": [
    "event_queue = []\n",
    "# Add first 2 events\n",
    "heapq.heappush(event_queue,(interarrival_time,\"Arrival\")) \n",
    "heapq.heappush(event_queue,(24,\"Day End\"))\n",
    "heapq.heappush(event_queue,(duration*24,\"Finish\"))\n",
    "\n",
    "# Percantage of Patient Who Goes Intense Care\n",
    "intensecare_percent = 0.061\n",
    "# Percentage of death of person who goes intensecare unit\n",
    "death_percentage = 0.51\n",
    "\n",
    "# Guassian coefficiants of t_home Guassian Random Variable\n",
    "t_home_coef = (84,36)\n",
    "# Guassiam coefficiants of t_intencecare Guassian Random Variable\n",
    "t_intensecare_coef = (756,252) \n",
    "# Guassiam coefficiants of t_intencecare Guassian Random Variable\n",
    "t_health_coef = (216,12)"
   ]
  },
  {
   "cell_type": "code",
   "execution_count": 33,
   "metadata": {},
   "outputs": [],
   "source": [
    "# Add Current Intense care Events to Event queue\n",
    "for i in range(num_used_COVID):\n",
    "    # Create Intense Care Time\n",
    "    # We assume that every patient in the ICU was come here after the 12th day which is the mean value of goint the the ICU\n",
    "    # Also because we cannot find any data, we assume that these days have equal probability\n",
    "    t_intensecare = np.random.normal(loc=t_intensecare_coef[0], scale= t_intensecare_coef[1])\n",
    "    # Add Intense Care Event to Event Queue\n",
    "    heapq.heappush(event_queue,(t_intensecare,\"Intense Care\"))\n",
    "\n",
    "# Intense Care Unit Stats\n",
    "daily_intensecare_increase=0\n",
    "max_num_of_intensecare = 7449\n",
    "intensecare_fullness = 0.595\n",
    "intensecare_used = max_num_of_intensecare * intensecare_fullness\n",
    "\n",
    "day_counter = 0\n",
    "\n",
    "# Output List\n",
    "output_list = []\n",
    "\n",
    "# Daily statistics\n",
    "num_of_arrival = 0\n",
    "num_of_death = 0\n",
    "num_of_healthy = 0\n",
    "num_of_noncared = 0"
   ]
  },
  {
   "cell_type": "code",
   "execution_count": 34,
   "metadata": {},
   "outputs": [],
   "source": [
    "while event_queue:\n",
    "    # Pop the event\n",
    "    current_event = heapq.heappop(event_queue)\n",
    "    if current_event[1] == \"Day End\":\n",
    "        day_counter += 1\n",
    "        if day_counter < len(coming_patient_list):\n",
    "            # Add new intense care units\n",
    "            max_num_of_intensecare += daily_intensecare_increase\n",
    "            # Calculate next lambda\n",
    "            lambda_=coming_patient_list[day_counter]/length_of_day\n",
    "        # Add other day end event\n",
    "        heapq.heappush(event_queue,(current_event[0]+24,\"Day End\"))\n",
    "        # Generate Output\n",
    "        output_list.append((num_of_arrival,num_of_healthy,num_of_death,(intensecare_used/max_num_of_intensecare)*100,num_of_noncared))\n",
    "        # Make daily stats zero\n",
    "        num_of_arrival = 0\n",
    "        num_of_death = 0\n",
    "        num_of_healthy = 0\n",
    "        num_of_noncared = 0\n",
    "        continue\n",
    "    if current_event[1] == \"Arrival\":\n",
    "        # Increase number of arrivals\n",
    "        num_of_arrival += 1\n",
    "        # Create Rest Time in Home-Hospital\n",
    "        t_home = np.random.normal(loc=t_home_coef[0],scale=t_home_coef[1])\n",
    "        # Add Home-Hospipal Event to Event Queue\n",
    "        heapq.heappush(event_queue,(current_event[0]+t_home,\"Home-Hospital\"))\n",
    "        if day_counter < len(coming_patient_list):\n",
    "            # Create new interarrival time\n",
    "            interarrival_time=np.random.exponential(scale=1/lambda_)\n",
    "            # Add new Arrival Event to the Event Queue\n",
    "            heapq.heappush(event_queue,(current_event[0]+interarrival_time,\"Arrival\"))\n",
    "        continue\n",
    "    if current_event[1] ==\"Home-Hospital\":\n",
    "        # Check the patient will go intense care unit or not\n",
    "        if intensecare_percent > np.random.uniform(0,1):\n",
    "            if intensecare_used < max_num_of_intensecare:\n",
    "                # Use intense care unit\n",
    "                intensecare_used += 1\n",
    "                # Create Intense Care Time\n",
    "                t_intensecare = np.random.normal(loc=t_intensecare_coef[0], scale= t_intensecare_coef[1])\n",
    "                # Add Intense Care Event to Event Queue\n",
    "                heapq.heappush(event_queue,(current_event[0]+t_intensecare,\"Intense Care\"))\n",
    "            else:\n",
    "                # Increase number of non cared patients\n",
    "                num_of_noncared += 1\n",
    "                # Add Death Out Event to the Event Queue \n",
    "                heapq.heappush(event_queue,(current_event[0],\"Death-Out\"))\n",
    "        else:\n",
    "            #Create Getting Healthy Time \n",
    "            t_health = np.random.normal(loc=t_health_coef[0],scale=t_health_coef[1])\n",
    "            #Add Get Healthy Out Event to Event Queue\n",
    "            heapq.heappush(event_queue,(current_event[0]+t_health,\"Healthy-Out\"))\n",
    "        continue\n",
    "    if current_event[1] == \"Intense Care\":\n",
    "        # Decrease used intense care unit\n",
    "        intensecare_used -= 1\n",
    "        # Check the patient will die or not\n",
    "        if death_percentage > np.random.uniform(0,1):\n",
    "            # Add Death Out Event to the Event Queue \n",
    "            heapq.heappush(event_queue,(current_event[0],\"Death-Out\"))\n",
    "        else:\n",
    "            #Create Getting Healthy Time \n",
    "            t_health = np.random.normal(loc=t_health_coef[0],scale=t_health_coef[1])\n",
    "            #Add Get Healthy Out Event to Event Queue\n",
    "            heapq.heappush(event_queue,(current_event[0]+t_health,\"Healthy-Out\"))\n",
    "        continue\n",
    "    if current_event[1] == \"Healthy-Out\":\n",
    "        # Increase number of healthy\n",
    "        num_of_healthy += 1\n",
    "        continue\n",
    "    if current_event[1] == \"Death-Out\":\n",
    "        #Increase number of death\n",
    "        num_of_death += 1\n",
    "        continue\n",
    "    if current_event[1] == \"Finish\":\n",
    "        break"
   ]
  },
  {
   "cell_type": "code",
   "execution_count": 35,
   "metadata": {},
   "outputs": [
    {
     "data": {
      "text/plain": [
       "[(2776, 0, 0, 59.593972345281244, 0),\n",
       " (2808, 0, 0, 59.88931400187945, 0),\n",
       " (2828, 0, 1, 60.412874211303524, 0),\n",
       " (2802, 0, 1, 61.50026849241509, 0),\n",
       " (2843, 0, 0, 63.35286615653107, 0),\n",
       " (2741, 0, 2, 65.17861457913814, 0),\n",
       " (2809, 0, 3, 67.4473754866425, 0),\n",
       " (2830, 1, 5, 69.93093032621827, 0),\n",
       " (2818, 23, 7, 72.1057188884414, 0),\n",
       " (2779, 89, 5, 74.45502752047254, 0),\n",
       " (2649, 264, 3, 76.5761175996778, 0),\n",
       " (2602, 722, 2, 78.63008457511074, 0),\n",
       " (2518, 1272, 5, 80.85857162035173, 0),\n",
       " (2441, 1896, 4, 82.92596321653913, 0),\n",
       " (2397, 2351, 6, 84.57719156933817, 0),\n",
       " (2288, 2573, 10, 86.3358168881729, 0),\n",
       " (2178, 2627, 18, 88.18841455228889, 0),\n",
       " (2084, 2682, 9, 89.70539669754329, 0),\n",
       " (1957, 2580, 10, 91.16868035977983, 0),\n",
       " (1883, 2624, 15, 92.37689622768156, 0),\n",
       " (1611, 2662, 13, 93.66565982011008, 0),\n",
       " (1470, 2587, 29, 94.3234662370788, 0),\n",
       " (1242, 2579, 22, 95.16921734461002, 0),\n",
       " (1035, 2424, 28, 95.89414686535105, 0),\n",
       " (795, 2435, 31, 96.43113169552959, 0),\n",
       " (575, 2298, 33, 96.78017183514565, 0),\n",
       " (334, 2287, 26, 96.98154114646262, 0),\n",
       " (31, 2340, 38, 96.44455631628406, 0),\n",
       " (1, 2092, 48, 95.82702376157873, 0),\n",
       " (0, 1886, 27, 95.22291582762786, 0),\n",
       " (0, 1919, 41, 94.25634313330649, 0),\n",
       " (0, 1841, 52, 92.98100416163243, 0),\n",
       " (0, 1643, 61, 91.49087125788697, 0),\n",
       " (0, 1466, 58, 90.04101221640488, 0),\n",
       " (0, 1291, 60, 88.49718082964156, 0),\n",
       " (0, 1051, 67, 86.6311585447711, 0),\n",
       " (0, 874, 66, 84.93965632970868, 0),\n",
       " (0, 705, 71, 83.1944556316284, 0),\n",
       " (0, 499, 61, 81.59692576184723, 0),\n",
       " (0, 282, 76, 79.70405423546785, 0),\n",
       " (0, 196, 64, 78.10652436568667, 0),\n",
       " (0, 100, 66, 76.48214525439656, 0),\n",
       " (0, 66, 73, 74.6563968317895, 0),\n",
       " (0, 69, 68, 72.87092227144582, 0),\n",
       " (0, 65, 54, 71.35394012619143, 0),\n",
       " (0, 61, 71, 69.76983487716471, 0),\n",
       " (0, 57, 60, 68.26627735266479, 0),\n",
       " (0, 59, 60, 66.60162437911129, 0),\n",
       " (0, 71, 59, 65.05779299234796, 0),\n",
       " (0, 48, 59, 63.55423546784803, 0),\n",
       " (0, 57, 53, 62.305745737682905, 0),\n",
       " (0, 63, 49, 60.92300979997315, 0),\n",
       " (0, 63, 53, 59.4597261377366, 0),\n",
       " (0, 54, 43, 58.305208752852735, 0),\n",
       " (0, 61, 41, 57.150691367968854, 0),\n",
       " (0, 52, 43, 56.04987246610283, 0),\n",
       " (0, 60, 38, 55.00275204725467, 0)]"
      ]
     },
     "execution_count": 35,
     "metadata": {},
     "output_type": "execute_result"
    }
   ],
   "source": [
    "output_list"
   ]
  },
  {
   "cell_type": "code",
   "execution_count": 36,
   "metadata": {},
   "outputs": [],
   "source": [
    "healthy_patient_nums = [7089 * percentage_of_cases_in_Istanbul]\n",
    "death_patient_nums = [1643 * percentage_of_cases_in_Istanbul]\n",
    "intense_care_percets = []\n",
    "non_ICU_nums = [0]\n",
    "for output in output_list:\n",
    "    healthy_patient_nums.append(output[1] + healthy_patient_nums[len(healthy_patient_nums)-1])\n",
    "    death_patient_nums.append(output[2] + death_patient_nums[len(death_patient_nums)-1])\n",
    "    intense_care_percets.append(output[3])\n",
    "    non_ICU_nums.append(output[4] + non_ICU_nums[len(non_ICU_nums)-1])"
   ]
  },
  {
   "cell_type": "markdown",
   "metadata": {},
   "source": [
    "### Average Case Plots of Istanbul"
   ]
  },
  {
   "cell_type": "markdown",
   "metadata": {},
   "source": [
    "Plot total cases vs day graph to see results of model clearly."
   ]
  },
  {
   "cell_type": "code",
   "execution_count": 37,
   "metadata": {},
   "outputs": [
    {
     "data": {
      "image/png": "[encoded data removed]",
      "text/plain": [
       "<Figure size 720x432 with 1 Axes>"
      ]
     },
     "metadata": {
      "needs_background": "light"
     },
     "output_type": "display_data"
    }
   ],
   "source": [
    "plt.figure(figsize=(10, 6))\n",
    "plt.fill_between(range(len(future_data)-7), np.array(future_data[7:]) * percentage_of_cases_in_Istanbul, color=\"black\", alpha=0.02)\n",
    "plt.fill_between(range(len(future_data)-7), np.array(future_data[7:]) * percentage_of_cases_in_Istanbul, color=\"black\", alpha=0.01)\n",
    "plt.plot(range(len(future_data)-7), np.array(future_data[7:]) * percentage_of_cases_in_Istanbul,\".-\" , color=\"#FFAB78\", alpha=1)\n",
    "plt.xlabel(\"Days\")\n",
    "plt.ylabel(\"Total cases\")\n",
    "plt.title(\"Total cases vs day\")\n",
    "plt.grid(alpha=0.2)\n",
    "plt.show()"
   ]
  },
  {
   "cell_type": "markdown",
   "metadata": {},
   "source": [
    "Plot new cases vs day graph to see results of model clearly."
   ]
  },
  {
   "cell_type": "code",
   "execution_count": 38,
   "metadata": {},
   "outputs": [
    {
     "data": {
      "image/png": "[encoded data removed]",
      "text/plain": [
       "<Figure size 720x432 with 1 Axes>"
      ]
     },
     "metadata": {
      "needs_background": "light"
     },
     "output_type": "display_data"
    }
   ],
   "source": [
    "plt.figure(figsize=(10, 6))\n",
    "plt.fill_between(range(len(daily_cases)-7), daily_cases[7:], color=\"black\", alpha=0.02)\n",
    "plt.fill_between(range(len(daily_cases)-7), daily_cases[7:], color=\"black\", alpha=0.01)\n",
    "plt.plot(range(len(daily_cases)-7), daily_cases[7:],\".-\" , color=\"#FFAB78\", alpha=1)\n",
    "plt.xlabel(\"Days\")\n",
    "plt.ylabel(\"New cases\")\n",
    "plt.title(\"New cases vs day\")\n",
    "plt.grid(alpha=0.2)\n",
    "plt.show()"
   ]
  },
  {
   "cell_type": "markdown",
   "metadata": {},
   "source": [
    "Plot number of healthy covid-19 patients vs day graph to see results of simulation clearly."
   ]
  },
  {
   "cell_type": "code",
   "execution_count": 39,
   "metadata": {},
   "outputs": [
    {
     "data": {
      "image/png": "[encoded data removed]",
      "text/plain": [
       "<Figure size 720x432 with 1 Axes>"
      ]
     },
     "metadata": {
      "needs_background": "light"
     },
     "output_type": "display_data"
    }
   ],
   "source": [
    "plt.figure(figsize=(10, 6))\n",
    "plt.fill_between(range(len(healthy_patient_nums)-7), healthy_patient_nums[7:], color=\"black\", alpha=0.02)\n",
    "plt.fill_between( range(len(healthy_patient_nums)-7), healthy_patient_nums[7:], color=\"black\", alpha=0.01)\n",
    "plt.plot(range(len(healthy_patient_nums)-7), healthy_patient_nums[7:],\".-\" , color=\"#4FB7FF\", alpha=1)\n",
    "plt.xlabel(\"Days\")\n",
    "plt.ylabel(\"Number of healty covid-19 patients\")\n",
    "plt.title(\"Number of healty covid-19 patients vs day\")\n",
    "plt.grid(alpha=0.2)\n",
    "plt.show()"
   ]
  },
  {
   "cell_type": "markdown",
   "metadata": {},
   "source": [
    "Plot number of deaths vs day graph to see results of simulation clearly."
   ]
  },
  {
   "cell_type": "code",
   "execution_count": 40,
   "metadata": {},
   "outputs": [
    {
     "data": {
      "image/png": "[encoded data removed]",
      "text/plain": [
       "<Figure size 720x432 with 1 Axes>"
      ]
     },
     "metadata": {
      "needs_background": "light"
     },
     "output_type": "display_data"
    }
   ],
   "source": [
    "plt.figure(figsize=(10, 6))\n",
    "plt.fill_between(range(len(death_patient_nums)-7), death_patient_nums[7:], color=\"black\", alpha=0.02)\n",
    "plt.fill_between(range(len(death_patient_nums)-7), death_patient_nums[7:], color=\"black\", alpha=0.01)\n",
    "plt.plot(range(len(death_patient_nums)-7), death_patient_nums[7:], \".-\" , color=\"red\", alpha=1)\n",
    "plt.xlabel(\"Days\")\n",
    "plt.ylabel(\"Number of deaths\")\n",
    "plt.title(\"Number of deaths vs day\")\n",
    "plt.grid(alpha=0.2)\n",
    "plt.show()"
   ]
  },
  {
   "cell_type": "markdown",
   "metadata": {},
   "source": [
    "Plot number of intense care percentage vs day graph to see results of simulation clearly."
   ]
  },
  {
   "cell_type": "code",
   "execution_count": 41,
   "metadata": {},
   "outputs": [
    {
     "data": {
      "image/png": "[encoded data removed]",
      "text/plain": [
       "<Figure size 720x432 with 1 Axes>"
      ]
     },
     "metadata": {
      "needs_background": "light"
     },
     "output_type": "display_data"
    }
   ],
   "source": [
    "plt.figure(figsize=(10, 6))\n",
    "plt.fill_between(range(len(intense_care_percets)-7), intense_care_percets[7:], color=\"black\", alpha=0.02)\n",
    "plt.fill_between(range(len(intense_care_percets)-7), intense_care_percets[7:], color=\"black\", alpha=0.01)\n",
    "plt.plot(range(len(intense_care_percets)-7), intense_care_percets[7:], \".-\" , color=\"#31FFDE\", alpha=1)\n",
    "plt.xlabel(\"Days\")\n",
    "plt.ylabel(\"Intense care percentage\")\n",
    "plt.title(\"Number of intense care percentage vs day\")\n",
    "plt.grid(alpha=0.2)\n",
    "plt.show()"
   ]
  },
  {
   "cell_type": "markdown",
   "metadata": {},
   "source": [
    "Plot number of patients which can not apply ICU vs day graph to see results of simulation clearly."
   ]
  },
  {
   "cell_type": "code",
   "execution_count": 42,
   "metadata": {},
   "outputs": [
    {
     "data": {
      "image/png": "[encoded data removed]",
      "text/plain": [
       "<Figure size 720x432 with 1 Axes>"
      ]
     },
     "metadata": {
      "needs_background": "light"
     },
     "output_type": "display_data"
    }
   ],
   "source": [
    "plt.figure(figsize=(10, 6))\n",
    "plt.fill_between(range(len(non_ICU_nums)-7), non_ICU_nums[7:], color=\"black\", alpha=0.02)\n",
    "plt.fill_between(range(len(non_ICU_nums)-7), non_ICU_nums[7:], color=\"black\", alpha=0.01)\n",
    "plt.plot(range(len(non_ICU_nums)-7), non_ICU_nums[7:], \".-\" , color=\"#FF2973\", alpha=1)\n",
    "plt.xlabel(\"Days\")\n",
    "plt.ylabel(\"Number of patients which can not apply ICU\")\n",
    "plt.title(\"Number of patients which can not apply ICU vs day\")\n",
    "plt.grid(alpha=0.2)\n",
    "plt.show()"
   ]
  },
  {
   "cell_type": "markdown",
   "metadata": {},
   "source": [
    "### Clustering"
   ]
  },
  {
   "cell_type": "markdown",
   "metadata": {},
   "source": [
    "We cluster countries and find countries which can not control epidemic very well to predict what may happen in Turkey if we behave like such countries. We cluster countries according to their potential output record values divided by potential input record values which means increase rate of cases in that country. If average of this increase rate of a country is high, it means it is a country which can not control epidemic very well. Otherwise, it is a country which control epidemic well."
   ]
  },
  {
   "cell_type": "code",
   "execution_count": 43,
   "metadata": {
    "scrolled": true
   },
   "outputs": [],
   "source": [
    "nofday = 30 # We look at countries which have cases more than 100 for more than 30 days because Turkey is a such country.\n",
    "threshold = nofday*(noffday+1)/2 if nofday <=6 else 21 + (nofday-6)*7 # We calculate the threshold value. If a country has less data than threshold after operations, this means it is country which has cases for less than 30 days. \n",
    "mydict = {}\n",
    "for column in df.columns:\n",
    "    if column == \"Turkey\": # Skip Turkey\n",
    "        continue\n",
    "    list_ = []\n",
    "    for i in range(len(df[column])):\n",
    "        if df[column][i] >= 100: # We assume that a country really has epidemic inside if that country has cases more than 100.\n",
    "            if i-1 < 0 or df[column][i-1] == 0:\n",
    "                list_.append(1)\n",
    "            else:\n",
    "                for j in range(1, min(i, 8)):\n",
    "                    if df[column][i-j] >= 10: # Numbers less than 10 may give exaggerated and false rates, so we ignore them.\n",
    "                        list_.append(df[column][i] / df[column][i-j])\n",
    "    if(len(list_)>=threshold):\n",
    "        mydict[column] = [np.array(list_).mean()]\n",
    "\n"
   ]
  },
  {
   "cell_type": "markdown",
   "metadata": {},
   "source": [
    "Convert this country-average increase rate dictionary to a dataframe."
   ]
  },
  {
   "cell_type": "code",
   "execution_count": 44,
   "metadata": {},
   "outputs": [
    {
     "data": {
      "text/html": [
       "<div>\n",
       "<style scoped>\n",
       "    .dataframe tbody tr th:only-of-type {\n",
       "        vertical-align: middle;\n",
       "    }\n",
       "\n",
       "    .dataframe tbody tr th {\n",
       "        vertical-align: top;\n",
       "    }\n",
       "\n",
       "    .dataframe thead th {\n",
       "        text-align: right;\n",
       "    }\n",
       "</style>\n",
       "<table border=\"1\" class=\"dataframe\">\n",
       "  <thead>\n",
       "    <tr style=\"text-align: right;\">\n",
       "      <th></th>\n",
       "      <th>0</th>\n",
       "    </tr>\n",
       "  </thead>\n",
       "  <tbody>\n",
       "    <tr>\n",
       "      <th>Algeria</th>\n",
       "      <td>1.763746</td>\n",
       "    </tr>\n",
       "    <tr>\n",
       "      <th>Argentina</th>\n",
       "      <td>1.790418</td>\n",
       "    </tr>\n",
       "    <tr>\n",
       "      <th>Armenia</th>\n",
       "      <td>1.767071</td>\n",
       "    </tr>\n",
       "    <tr>\n",
       "      <th>Australia</th>\n",
       "      <td>1.778877</td>\n",
       "    </tr>\n",
       "    <tr>\n",
       "      <th>Austria</th>\n",
       "      <td>2.130104</td>\n",
       "    </tr>\n",
       "  </tbody>\n",
       "</table>\n",
       "</div>"
      ],
      "text/plain": [
       "                  0\n",
       "Algeria    1.763746\n",
       "Argentina  1.790418\n",
       "Armenia    1.767071\n",
       "Australia  1.778877\n",
       "Austria    2.130104"
      ]
     },
     "execution_count": 44,
     "metadata": {},
     "output_type": "execute_result"
    }
   ],
   "source": [
    "df_first35_mean = pd.DataFrame(data=mydict).T\n",
    "df_first35_mean.head()"
   ]
  },
  {
   "cell_type": "markdown",
   "metadata": {},
   "source": [
    "There are 75 countries which is suitable for our definition."
   ]
  },
  {
   "cell_type": "code",
   "execution_count": 45,
   "metadata": {},
   "outputs": [
    {
     "data": {
      "text/plain": [
       "75"
      ]
     },
     "execution_count": 45,
     "metadata": {},
     "output_type": "execute_result"
    }
   ],
   "source": [
    "len(df_first35_mean)"
   ]
  },
  {
   "cell_type": "markdown",
   "metadata": {},
   "source": [
    "Try different number of clusters for KMeans algorithm and choose the best number of cluster"
   ]
  },
  {
   "cell_type": "code",
   "execution_count": 46,
   "metadata": {},
   "outputs": [],
   "source": [
    "distortions = []\n",
    "inertias = []\n",
    "silhouettes = []\n",
    "for i in range(2, 10):\n",
    "    kmeans = KMeans(n_clusters=i, random_state=0).fit(df_first35_mean)\n",
    "    kmeans.labels_\n",
    "    silhouettes.append(silhouette_score(df_first35_mean, kmeans.labels_))\n",
    "    inertias.append(kmeans.inertia_)\n",
    "    distortions.append(sum(np.min(cdist(df_first35_mean, kmeans.cluster_centers_, 'euclidean'),axis=1)) / df_first35_mean.shape[0])"
   ]
  },
  {
   "cell_type": "markdown",
   "metadata": {},
   "source": [
    "Silhouette score should be high for good number of clusters, so number of clusters could be a value greater than 4."
   ]
  },
  {
   "cell_type": "code",
   "execution_count": 47,
   "metadata": {},
   "outputs": [
    {
     "data": {
      "image/png": "[encoded data removed]",
      "text/plain": [
       "<Figure size 432x288 with 1 Axes>"
      ]
     },
     "metadata": {
      "needs_background": "light"
     },
     "output_type": "display_data"
    }
   ],
   "source": [
    "plt.plot(range(2, 10), silhouettes, 'bx-') \n",
    "plt.xlabel('Values of K') \n",
    "plt.ylabel('Silhouette scores') \n",
    "plt.title('Silhouette score analysis') \n",
    "plt.show()"
   ]
  },
  {
   "cell_type": "markdown",
   "metadata": {},
   "source": [
    "We search for an elbow in this graph and location of elbow is the best number of clusters. It is 4."
   ]
  },
  {
   "cell_type": "code",
   "execution_count": 48,
   "metadata": {},
   "outputs": [
    {
     "data": {
      "image/png": "[encoded data removed]",
      "text/plain": [
       "<Figure size 432x288 with 1 Axes>"
      ]
     },
     "metadata": {
      "needs_background": "light"
     },
     "output_type": "display_data"
    }
   ],
   "source": [
    "plt.plot(range(2, 10), distortions, 'bx-') \n",
    "plt.xlabel('Values of K') \n",
    "plt.ylabel('Distortion') \n",
    "plt.title('The Elbow Method using Distortion') \n",
    "plt.show()"
   ]
  },
  {
   "cell_type": "markdown",
   "metadata": {},
   "source": [
    "We search for an elbow in this graph and location of elbow is the best number of clusters. It is 4."
   ]
  },
  {
   "cell_type": "code",
   "execution_count": 49,
   "metadata": {},
   "outputs": [
    {
     "data": {
      "image/png": "[encoded data removed]",
      "text/plain": [
       "<Figure size 432x288 with 1 Axes>"
      ]
     },
     "metadata": {
      "needs_background": "light"
     },
     "output_type": "display_data"
    }
   ],
   "source": [
    "plt.plot(range(2, 10), inertias, 'bx-') \n",
    "plt.xlabel('Values of K') \n",
    "plt.ylabel('Inertia') \n",
    "plt.title('The Elbow Method using Inertia') \n",
    "plt.show()"
   ]
  },
  {
   "cell_type": "markdown",
   "metadata": {},
   "source": [
    "4 is the best number of clusters for this data when we look at these 3 graphs above. So we choose 4 as number of clusters and train KMeans model."
   ]
  },
  {
   "cell_type": "code",
   "execution_count": 50,
   "metadata": {},
   "outputs": [
    {
     "data": {
      "text/plain": [
       "array([3, 3, 3, 3, 2, 1, 2, 3, 2, 1, 2, 2, 3, 3, 1, 3, 3, 0, 0, 0, 1, 2,\n",
       "       3, 2, 2, 1, 3, 1, 3, 3, 1, 2, 1, 2, 3, 2, 1, 1, 1, 1, 3, 2, 3, 3,\n",
       "       3, 3, 2, 3, 0, 3, 2, 3, 2, 2, 0, 3, 2, 1, 3, 3, 1, 1, 3, 3, 2, 2,\n",
       "       2, 2, 1, 3, 3, 2, 2, 1, 1])"
      ]
     },
     "execution_count": 50,
     "metadata": {},
     "output_type": "execute_result"
    }
   ],
   "source": [
    "kmeans = KMeans(n_clusters=4, random_state=0).fit(df_first35_mean)\n",
    "kmeans.labels_"
   ]
  },
  {
   "cell_type": "markdown",
   "metadata": {},
   "source": [
    "When we look at the cluster centers, label 0 countries have the highest increase rate. So, in order to calculate a bad scenario for Turkey's situation, we should only choose them."
   ]
  },
  {
   "cell_type": "code",
   "execution_count": 51,
   "metadata": {},
   "outputs": [
    {
     "data": {
      "text/plain": [
       "array([[3.1013515 ],\n",
       "       [1.42660099],\n",
       "       [2.35416555],\n",
       "       [1.88029124]])"
      ]
     },
     "execution_count": 51,
     "metadata": {},
     "output_type": "execute_result"
    }
   ],
   "source": [
    "kmeans.cluster_centers_"
   ]
  },
  {
   "cell_type": "markdown",
   "metadata": {},
   "source": [
    "Graph that shows the clusters of our clustring model. Dots are cluster centers and crosses are the countries."
   ]
  },
  {
   "cell_type": "code",
   "execution_count": 52,
   "metadata": {},
   "outputs": [
    {
     "data": {
      "text/plain": [
       "Text(0.5, 1.0, 'Country Clusters')"
      ]
     },
     "execution_count": 52,
     "metadata": {},
     "output_type": "execute_result"
    },
    {
     "data": {
      "image/png": "[encoded data removed]",
      "text/plain": [
       "<Figure size 1080x432 with 1 Axes>"
      ]
     },
     "metadata": {
      "needs_background": "light"
     },
     "output_type": "display_data"
    }
   ],
   "source": [
    "plt.figure(figsize=(15, 6))\n",
    "colors = [\"blue\" ,\"grey\" ,\"brown\" ,\"black\"]\n",
    "for n, y in enumerate(kmeans.cluster_centers_):\n",
    "    plt.plot(y,1, marker='o', color=colors[n], ms=10)\n",
    "for n,y in enumerate(kmeans.labels_):\n",
    "    plt.plot(df_first35_mean[0][n],1,marker='x', color=colors[kmeans.labels_[n]],ms=10)\n",
    "plt.title('Country Clusters')"
   ]
  },
  {
   "cell_type": "markdown",
   "metadata": {},
   "source": [
    "Choose countries which can not control epidemic very well."
   ]
  },
  {
   "cell_type": "code",
   "execution_count": 53,
   "metadata": {},
   "outputs": [
    {
     "data": {
      "text/plain": [
       "['Denmark', 'Dominican Republic', 'Ecuador', 'Pakistan', 'Qatar']"
      ]
     },
     "execution_count": 53,
     "metadata": {},
     "output_type": "execute_result"
    }
   ],
   "source": [
    "max_index = np.where(kmeans.cluster_centers_ == np.amax(kmeans.cluster_centers_))[0]\n",
    "chosen_columns = list(df_first35_mean.index[[True if a == max_index else False for a in kmeans.labels_]])\n",
    "chosen_columns"
   ]
  },
  {
   "cell_type": "markdown",
   "metadata": {},
   "source": [
    "### Prepare Input and Output Data"
   ]
  },
  {
   "cell_type": "markdown",
   "metadata": {},
   "source": [
    "Create input and output data from the dataframe. Each input record has 8 attributes. First of them is mean of other seven attributes and other seven attributes are the data at previous 7 days respectively. Output is the next day which want to be predicted. Choose only the data of chosen countries."
   ]
  },
  {
   "cell_type": "code",
   "execution_count": 54,
   "metadata": {},
   "outputs": [],
   "source": [
    "how_many_previos = 7\n",
    "X = []\n",
    "y = []\n",
    "\n",
    "for column in df.columns:\n",
    "    if  not (column in chosen_columns):\n",
    "        continue\n",
    "\n",
    "    for i in range(len(df) - how_many_previos):\n",
    "        if ((0 != df[column][i])) and (df[column][i: i+how_many_previos].sum()+df[column][i+how_many_previos] != 0):\n",
    "            X.append(np.concatenate([np.array([np.array(df[column][i: i+how_many_previos]).mean()]), np.array(df[column][i: i+how_many_previos])]))\n",
    "            y.append(df[column][i+how_many_previos])\n",
    "\n",
    "X = np.array(X)\n",
    "y = np.array(y)"
   ]
  },
  {
   "cell_type": "markdown",
   "metadata": {},
   "source": [
    "Normalize the input and output data so that machine learning models can perform better."
   ]
  },
  {
   "cell_type": "code",
   "execution_count": 55,
   "metadata": {},
   "outputs": [],
   "source": [
    "X_max = X.max()\n",
    "X = X / X_max\n",
    "\n",
    "y = y / X_max"
   ]
  },
  {
   "cell_type": "markdown",
   "metadata": {},
   "source": [
    "There are totally 215 record in our input data."
   ]
  },
  {
   "cell_type": "code",
   "execution_count": 56,
   "metadata": {},
   "outputs": [
    {
     "data": {
      "text/plain": [
       "215"
      ]
     },
     "execution_count": 56,
     "metadata": {},
     "output_type": "execute_result"
    }
   ],
   "source": [
    "len(X)"
   ]
  },
  {
   "cell_type": "markdown",
   "metadata": {},
   "source": [
    "### Model Training"
   ]
  },
  {
   "cell_type": "markdown",
   "metadata": {},
   "source": [
    "Split train and test data and create an example case to see how models work."
   ]
  },
  {
   "cell_type": "code",
   "execution_count": 57,
   "metadata": {},
   "outputs": [],
   "source": [
    "X_train, X_test, y_train, y_test = train_test_split(X, y, test_size=0.2)\n",
    "example = np.array([100, 150, 200, 250, 300 ,350, 400])"
   ]
  },
  {
   "cell_type": "markdown",
   "metadata": {},
   "source": [
    "Train 6 different machine learning algorithms to see which one performs best. One can see the r2 score, mse and mae statistics for train and test set for each algorithm and result of prediction. Intercept and coefficients of linear models can also be found below. Lastly, we do a cross validation to see which one performs best and we compare models according to 3 metrics(mean squared error, mean absolute error and r2 score). Linear regression model performs best, so we continue with it. We do not train a neural network model because we saw that it does not work very well and it need so much hyperparameter tuning.  "
   ]
  },
  {
   "cell_type": "code",
   "execution_count": 58,
   "metadata": {},
   "outputs": [
    {
     "name": "stdout",
     "output_type": "stream",
     "text": [
      "Linear regression model\n",
      "r2 score:  0.9833556424761165\n",
      "mse:  0.0014432812968470403\n",
      "mae:  0.015466280794356784\n",
      "intercept:  0.0024228964244571993 , coefficients:  [ 0.12771148  0.24399298 -0.43458159  0.13360475  0.03232423 -0.07754637\n",
      " -0.84220486  1.83839123]\n",
      "prediction:  463.1911345990091\n",
      "cross validation r2 score:  0.9944077427919776\n",
      "cross validation mse:  0.0005014546311185254\n",
      "cross validation mae:  0.010954628272429998\n"
     ]
    }
   ],
   "source": [
    "lin_model = LinearRegression().fit(X_train, y_train)\n",
    "print(\"Linear regression model\")\n",
    "print(\"r2 score: \", lin_model.score(X_test, y_test))\n",
    "print(\"mse: \", mean_squared_error(y_test, lin_model.predict(X_test)))\n",
    "print(\"mae: \", mean_absolute_error(y_test, lin_model.predict(X_test)))\n",
    "print(\"intercept: \", lin_model.intercept_,\", coefficients: \" , lin_model.coef_)\n",
    "print(\"prediction: \", lin_model.predict([np.concatenate([np.array([example.mean()]), example])]/X_max)[0]*X_max)\n",
    "cross_validation = cross_validate(lin_model, X, y, cv=5, scoring = (\"r2\", \"neg_mean_squared_error\", \"neg_mean_absolute_error\"))\n",
    "print(\"cross validation r2 score: \", cross_validation[\"test_r2\"].mean())\n",
    "print(\"cross validation mse: \", -cross_validation[\"test_neg_mean_squared_error\"].mean())\n",
    "print(\"cross validation mae: \", -cross_validation[\"test_neg_mean_absolute_error\"].mean())"
   ]
  },
  {
   "cell_type": "code",
   "execution_count": 59,
   "metadata": {},
   "outputs": [
    {
     "name": "stdout",
     "output_type": "stream",
     "text": [
      "Lasso regression model\n",
      "r2 score:  -0.14842242923482019\n",
      "mse:  0.099583093586873\n",
      "mae:  0.2280870297096434\n",
      "intercept:  0.21839754011451193 , coefficients:  [0. 0. 0. 0. 0. 0. 0. 0.]\n",
      "prediction:  1796.3197674418607\n",
      "cross validation r2 score:  -0.11339766631872608\n",
      "cross validation mse:  0.07184955617072451\n",
      "cross validation mae:  0.21515599823119702\n"
     ]
    }
   ],
   "source": [
    "lasso_model = Lasso().fit(X_train, y_train)\n",
    "print(\"Lasso regression model\")\n",
    "print(\"r2 score: \", lasso_model.score(X_test, y_test))\n",
    "print(\"mse: \", mean_squared_error(y_test, lasso_model.predict(X_test)))\n",
    "print(\"mae: \", mean_absolute_error(y_test, lasso_model.predict(X_test)))\n",
    "print(\"intercept: \", lasso_model.intercept_,\", coefficients: \" , lasso_model.coef_)\n",
    "print(\"prediction: \", lasso_model.predict([np.concatenate([np.array([example.mean()]), example])]/X_max)[0]*X_max)\n",
    "cross_validation = cross_validate(lasso_model, X, y, cv=5, scoring = (\"r2\", \"neg_mean_squared_error\", \"neg_mean_absolute_error\"))\n",
    "print(\"cross validation r2 score: \", cross_validation[\"test_r2\"].mean())\n",
    "print(\"cross validation mse: \", -cross_validation[\"test_neg_mean_squared_error\"].mean())\n",
    "print(\"cross validation mae: \", -cross_validation[\"test_neg_mean_absolute_error\"].mean())"
   ]
  },
  {
   "cell_type": "code",
   "execution_count": 60,
   "metadata": {},
   "outputs": [
    {
     "name": "stdout",
     "output_type": "stream",
     "text": [
      "Ridge regression model\n",
      "r2 score:  0.9848404185667217\n",
      "mse:  0.0013145319859468694\n",
      "mae:  0.022063657745840116\n",
      "intercept:  0.021261235027949327 , coefficients:  [0.14642743 0.07817345 0.08985118 0.09439341 0.1182291  0.15182178\n",
      " 0.21777051 0.27475255]\n",
      "prediction:  512.8787266532846\n",
      "cross validation r2 score:  0.9840359669289105\n",
      "cross validation mse:  0.0012166638125795837\n",
      "cross validation mae:  0.022681270119849252\n"
     ]
    }
   ],
   "source": [
    "ridge_model = Ridge().fit(X_train, y_train)\n",
    "print(\"Ridge regression model\")\n",
    "print(\"r2 score: \", ridge_model.score(X_test, y_test))\n",
    "print(\"mse: \", mean_squared_error(y_test, ridge_model.predict(X_test)))\n",
    "print(\"mae: \", mean_absolute_error(y_test, ridge_model.predict(X_test)))\n",
    "print(\"intercept: \", ridge_model.intercept_,\", coefficients: \" , ridge_model.coef_)\n",
    "print(\"prediction: \", ridge_model.predict([np.concatenate([np.array([example.mean()]), example])]/X_max)[0]*X_max)\n",
    "cross_validation = cross_validate(ridge_model, X, y, cv=5, scoring = (\"r2\", \"neg_mean_squared_error\", \"neg_mean_absolute_error\"))\n",
    "print(\"cross validation r2 score: \", cross_validation[\"test_r2\"].mean())\n",
    "print(\"cross validation mse: \", -cross_validation[\"test_neg_mean_squared_error\"].mean())\n",
    "print(\"cross validation mae: \", -cross_validation[\"test_neg_mean_absolute_error\"].mean())"
   ]
  },
  {
   "cell_type": "code",
   "execution_count": 61,
   "metadata": {},
   "outputs": [
    {
     "name": "stdout",
     "output_type": "stream",
     "text": [
      "Elastic net regression model\n",
      "r2 score:  -0.14842242923482019\n",
      "mse:  0.099583093586873\n",
      "mae:  0.2280870297096434\n",
      "intercept:  0.21839754011451193 , coefficients:  [0. 0. 0. 0. 0. 0. 0. 0.]\n",
      "prediction:  1796.3197674418607\n",
      "cross validation r2 score:  -0.11339766631872608\n",
      "cross validation mse:  0.07184955617072451\n",
      "cross validation mae:  0.21515599823119702\n"
     ]
    }
   ],
   "source": [
    "elastic_model = ElasticNet().fit(X_train, y_train)\n",
    "print(\"Elastic net regression model\")\n",
    "print(\"r2 score: \", elastic_model.score(X_test, y_test))\n",
    "print(\"mse: \", mean_squared_error(y_test, elastic_model.predict(X_test)))\n",
    "print(\"mae: \", mean_absolute_error(y_test, elastic_model.predict(X_test)))\n",
    "print(\"intercept: \", elastic_model.intercept_,\", coefficients: \" , elastic_model.coef_)\n",
    "print(\"prediction: \", elastic_model.predict([np.concatenate([np.array([example.mean()]), example])]/X_max)[0]*X_max)\n",
    "cross_validation = cross_validate(elastic_model, X, y, cv=5, scoring = (\"r2\", \"neg_mean_squared_error\", \"neg_mean_absolute_error\"))\n",
    "print(\"cross validation r2 score: \", cross_validation[\"test_r2\"].mean())\n",
    "print(\"cross validation mse: \", -cross_validation[\"test_neg_mean_squared_error\"].mean())\n",
    "print(\"cross validation mae: \", -cross_validation[\"test_neg_mean_absolute_error\"].mean())"
   ]
  },
  {
   "cell_type": "code",
   "execution_count": 62,
   "metadata": {},
   "outputs": [
    {
     "name": "stdout",
     "output_type": "stream",
     "text": [
      "Random forest regression model\n",
      "r2 score:  0.9940089808689485\n",
      "mse:  0.0005194989261971843\n",
      "mae:  0.015758360146721634\n",
      "prediction:  476.6\n",
      "cross validation r2 score:  0.9837775580015815\n",
      "cross validation mse:  0.0014053801597272353\n",
      "cross validation mae:  0.020743719822626842\n"
     ]
    },
    {
     "name": "stderr",
     "output_type": "stream",
     "text": [
      "C:\\Users\\umutd\\Anaconda3\\lib\\site-packages\\sklearn\\ensemble\\forest.py:246: FutureWarning: The default value of n_estimators will change from 10 in version 0.20 to 100 in 0.22.\n",
      "  \"10 in version 0.20 to 100 in 0.22.\", FutureWarning)\n"
     ]
    }
   ],
   "source": [
    "forest_model = RandomForestRegressor().fit(X_train, y_train)\n",
    "print(\"Random forest regression model\")\n",
    "print(\"r2 score: \", forest_model.score(X_test, y_test))\n",
    "print(\"mse: \", mean_squared_error(y_test, forest_model.predict(X_test)))\n",
    "print(\"mae: \", mean_absolute_error(y_test, forest_model.predict(X_test)))\n",
    "print(\"prediction: \", forest_model.predict([np.concatenate([np.array([example.mean()]), example])]/X_max)[0]*X_max)\n",
    "cross_validation = cross_validate(forest_model, X, y, cv=5, scoring = (\"r2\", \"neg_mean_squared_error\", \"neg_mean_absolute_error\"))\n",
    "print(\"cross validation r2 score: \", cross_validation[\"test_r2\"].mean())\n",
    "print(\"cross validation mse: \", -cross_validation[\"test_neg_mean_squared_error\"].mean())\n",
    "print(\"cross validation mae: \", -cross_validation[\"test_neg_mean_absolute_error\"].mean())"
   ]
  },
  {
   "cell_type": "code",
   "execution_count": 63,
   "metadata": {},
   "outputs": [
    {
     "name": "stdout",
     "output_type": "stream",
     "text": [
      "K nearest neighbors regression model\n",
      "r2 score:  0.9546882055036745\n",
      "mse:  0.003929119248326787\n",
      "mae:  0.03360189439457129\n",
      "prediction:  567.25\n",
      "cross validation r2 score:  0.9719790638307927\n",
      "cross validation mse:  0.0025350650828051017\n",
      "cross validation mae:  0.025301958012299425\n"
     ]
    }
   ],
   "source": [
    "neighbor_model = KNeighborsRegressor(n_neighbors=20).fit(X_train, y_train)\n",
    "print(\"K nearest neighbors regression model\")\n",
    "print(\"r2 score: \", neighbor_model.score(X_test, y_test))\n",
    "print(\"mse: \", mean_squared_error(y_test, neighbor_model.predict(X_test)))\n",
    "print(\"mae: \", mean_absolute_error(y_test, neighbor_model.predict(X_test)))\n",
    "print(\"prediction: \", neighbor_model.predict([np.concatenate([np.array([example.mean()]), example])]/X_max)[0]*X_max)\n",
    "cross_validation = cross_validate(neighbor_model, X, y, cv=5, scoring = (\"r2\", \"neg_mean_squared_error\", \"neg_mean_absolute_error\"))\n",
    "print(\"cross validation r2 score: \", cross_validation[\"test_r2\"].mean())\n",
    "print(\"cross validation mse: \", -cross_validation[\"test_neg_mean_squared_error\"].mean())\n",
    "print(\"cross validation mae: \", -cross_validation[\"test_neg_mean_absolute_error\"].mean())"
   ]
  },
  {
   "cell_type": "markdown",
   "metadata": {},
   "source": [
    "Train a linear regression model with full input and output data to calculate the number of cases in next days in Turkey if we do not take precautions and behave like one of the countries which can not control epidemic very well."
   ]
  },
  {
   "cell_type": "code",
   "execution_count": 64,
   "metadata": {},
   "outputs": [],
   "source": [
    "lin_model = LinearRegression().fit(X, y)"
   ]
  },
  {
   "cell_type": "markdown",
   "metadata": {},
   "source": [
    "### Prediction for Worst Case Scenario"
   ]
  },
  {
   "cell_type": "markdown",
   "metadata": {},
   "source": [
    "Our model produces output regarding to the previous 7 days and their mean value. When we train our model with the data for worst countries, our machine learning model learns the types of trends in worst countries from 7 days and predicts the next day. When we give 7 total cases of Turkey, model finds the trend in Turkey and predict next total case in Turkey by using this trend information and this trend tend to be a trend of Turkey when it does not take precautions because we train this model by using data of countries which does or can not take precautions."
   ]
  },
  {
   "cell_type": "markdown",
   "metadata": {},
   "source": [
    "Make predictions given last 7 days total cases."
   ]
  },
  {
   "cell_type": "code",
   "execution_count": 65,
   "metadata": {},
   "outputs": [
    {
     "data": {
      "text/plain": [
       "[47029,\n",
       " 52167,\n",
       " 56956,\n",
       " 61049,\n",
       " 65111,\n",
       " 69392,\n",
       " 74193,\n",
       " 77951.6366002975,\n",
       " 81645.13685519504,\n",
       " 85331.97652256118,\n",
       " 89218.31921837499,\n",
       " 93438.70493442968,\n",
       " 97856.87501485723,\n",
       " 102508.96952515443,\n",
       " 107360.6438668857,\n",
       " 112425.51133593438,\n",
       " 117727.81843637835,\n",
       " 123273.72982692096,\n",
       " 129081.8439670758,\n",
       " 135161.0906215605,\n",
       " 141523.75192222712,\n",
       " 148183.2746222915,\n",
       " 155152.67968505458,\n",
       " 162447.05743084903,\n",
       " 170081.38352049462,\n",
       " 178071.5841953268,\n",
       " 186434.29068954362,\n",
       " 195186.78742033849,\n",
       " 204347.2842350319,\n",
       " 213934.77368454772,\n",
       " 223969.16617585707,\n",
       " 234471.2984117963,\n",
       " 245462.96848598507,\n",
       " 256966.99976691313,\n",
       " 269007.27274338226,\n",
       " 281608.78389180166,\n",
       " 294797.69462478673,\n",
       " 308601.38518391666,\n",
       " 323048.5129585848,\n",
       " 338169.07056454476,\n",
       " 353994.4489261832,\n",
       " 370557.5021551369,\n",
       " 387892.61575008684,\n",
       " 406035.7781089012,\n",
       " 425024.6551210724,\n",
       " 444898.6684367308,\n",
       " 465699.0772782297,\n",
       " 487469.06409661245,\n",
       " 510253.82423017506,\n",
       " 534100.6597214302,\n",
       " 559059.0775246896,\n",
       " 585180.8922816671,\n",
       " 612520.3338909113,\n",
       " 641134.1600919614,\n",
       " 671081.7742957141,\n",
       " 702425.348908802,\n",
       " 735229.9544056577,\n",
       " 769563.6944173753,\n",
       " 805497.8471175479,\n",
       " 843107.0131984397,\n",
       " 882469.2707449637,\n",
       " 923666.3373277846,\n",
       " 966783.739652164,\n",
       " 1011910.9911147164]"
      ]
     },
     "execution_count": 65,
     "metadata": {},
     "output_type": "execute_result"
    }
   ],
   "source": [
    "future_data = [47029, 52167, 56956, 61049, 65111, 69392, 74193]\n",
    "\n",
    "def future(future_dat):\n",
    "    future_dat.append(lin_model.predict([([np.mean(future_dat[-7:])]+ future_dat[-7:])/X_max])[0]*X_max)\n",
    "    return future_dat\n",
    "\n",
    "for i in range(57):\n",
    "    future_data = future(future_data)\n",
    "\n",
    "for i in range(len(future_data) - 1):\n",
    "    if future_data[i+1] < future_data[i]:\n",
    "        future_data = future_data[:i+1]\n",
    "        break\n",
    "\n",
    "future_data"
   ]
  },
  {
   "cell_type": "markdown",
   "metadata": {},
   "source": [
    "Calculate daily cases in order to give the simulation."
   ]
  },
  {
   "cell_type": "code",
   "execution_count": 66,
   "metadata": {},
   "outputs": [
    {
     "data": {
      "text/plain": [
       "[3758.6366002974974,\n",
       " 3693.5002548975463,\n",
       " 3686.8396673661337,\n",
       " 3886.342695813815,\n",
       " 4220.38571605469,\n",
       " 4418.170080427546,\n",
       " 4652.094510297204,\n",
       " 4851.674341731268,\n",
       " 5064.8674690486805,\n",
       " 5302.30710044397,\n",
       " 5545.911390542606,\n",
       " 5808.1141401548375,\n",
       " 6079.2466544846975,\n",
       " 6362.66130066663,\n",
       " 6659.522700064379,\n",
       " 6969.405062763079,\n",
       " 7294.3777457944525,\n",
       " 7634.32608964559,\n",
       " 7990.200674832187,\n",
       " 8362.706494216807,\n",
       " 8752.496730794868,\n",
       " 9160.496814693412,\n",
       " 9587.489449515822,\n",
       " 10034.39249130935,\n",
       " 10502.132235939236,\n",
       " 10991.670074188762,\n",
       " 11504.031280928059,\n",
       " 12040.272976469132,\n",
       " 12601.511148419406,\n",
       " 13188.910732985067,\n",
       " 13803.69055912993,\n",
       " 14447.127774668159,\n",
       " 15120.55760595994,\n",
       " 15825.37836163846,\n",
       " 16563.05322895368,\n",
       " 17335.113594949944,\n",
       " 18143.162358814385,\n",
       " 18988.8770121712,\n",
       " 19874.013315658376,\n",
       " 20800.408841498895,\n",
       " 21769.98681838275,\n",
       " 22784.76013356261,\n",
       " 23846.8354912551,\n",
       " 24958.41780325945,\n",
       " 26121.81475697749,\n",
       " 27339.44160924421,\n",
       " 28613.826201050077,\n",
       " 29947.614203752717,\n",
       " 31343.574613087927,\n",
       " 32804.605496855685,\n",
       " 34333.74001171754,\n",
       " 35934.15270017262,\n",
       " 37609.16608089185,\n",
       " 39362.257546523935,\n",
       " 41197.06658282096,\n",
       " 43117.40232437942,\n",
       " 45127.25146255235]"
      ]
     },
     "execution_count": 66,
     "metadata": {},
     "output_type": "execute_result"
    }
   ],
   "source": [
    "daily_cases = []\n",
    "for i in range(7, len(future_data)):\n",
    "    daily_cases.append(future_data[i]-future_data[i-1])\n",
    "daily_cases        "
   ]
  },
  {
   "cell_type": "markdown",
   "metadata": {},
   "source": [
    "### Worst Case Simulation"
   ]
  },
  {
   "cell_type": "markdown",
   "metadata": {},
   "source": [
    "Give daily cases to the simulation and simulation will produce some output. This is a basic Jackson Network Simulation. The Queueing Model of this simulation can be found on our report.\n",
    "\n",
    "The first queue in the system represents the COVID positive patients in Turkey. In this simulation we assume that the arrival process of the patients to the hospital is a Poisson process. Because in the estimation we make, we take into account the effects between 2 patients. So in the simulation, probability of a new COVID positive patient is independet from other patients. Because the time between 2 poisson processes is an exponential distribution random variable, we use exponential distribution.\n",
    "\n",
    "Other interarrival time values are founded from data sources that can be found in the [`README.md`](https://github.com/HUmutOzdemir/COVIDDatathon/blob/master/README.md) file."
   ]
  },
  {
   "cell_type": "code",
   "execution_count": 67,
   "metadata": {},
   "outputs": [],
   "source": [
    "# Duration of the simulation(days)\n",
    "duration = 57\n",
    "# Input patient list\n",
    "coming_patient_list = daily_cases\n",
    "# Number of Intense Care used by COVID-19\n",
    "num_used_COVID = 1854\n",
    "# Length of day (in hours)\n",
    "length_of_day = 24\n",
    "# Coming patient rate of the first day\n",
    "lambda_ = coming_patient_list[0]/length_of_day\n",
    "# First interarrival time of the patient\n",
    "interarrival_time=np.random.exponential(scale=1/lambda_)"
   ]
  },
  {
   "cell_type": "code",
   "execution_count": 68,
   "metadata": {},
   "outputs": [],
   "source": [
    "event_queue = []\n",
    "# Add first 2 events\n",
    "heapq.heappush(event_queue,(interarrival_time,\"Arrival\")) \n",
    "heapq.heappush(event_queue,(24,\"Day End\"))\n",
    "heapq.heappush(event_queue,(duration*24,\"Finish\"))\n",
    "\n",
    "# Percantage of Patient Who Goes Intense Care\n",
    "intensecare_percent = 0.061\n",
    "# Percentage of death of person who goes intensecare unit\n",
    "death_percentage = 0.51\n",
    "\n",
    "# Guassian coefficiants of t_home Guassian Random Variable\n",
    "t_home_coef = (84,36)\n",
    "# Guassiam coefficiants of t_intencecare Guassian Random Variable\n",
    "t_intensecare_coef = (756,252) \n",
    "# Guassiam coefficiants of t_intencecare Guassian Random Variable\n",
    "t_health_coef = (216,12)"
   ]
  },
  {
   "cell_type": "code",
   "execution_count": 69,
   "metadata": {},
   "outputs": [],
   "source": [
    "# Add Current Intense care Events to Event queue\n",
    "for i in range(num_used_COVID):\n",
    "    # Create Intense Care Time\n",
    "    # We assume that every patient in the ICU was come here after the 12th day which is the mean value of goint the the ICU\n",
    "    # Also because we cannot find any data, we assume that these days have equal probability\n",
    "    t_intensecare = np.random.normal(loc=t_intensecare_coef[0], scale= t_intensecare_coef[1])\n",
    "    # Add Intense Care Event to Event Queue\n",
    "    heapq.heappush(event_queue,(t_intensecare,\"Intense Care\"))\n",
    "\n",
    "# Intense Care Unit Stats\n",
    "daily_intensecare_increase=0\n",
    "max_num_of_intensecare = 25446\n",
    "intensecare_fullness = 0.595\n",
    "intensecare_used = max_num_of_intensecare * intensecare_fullness\n",
    "\n",
    "day_counter = 0\n",
    "\n",
    "# Output List\n",
    "output_list = []\n",
    "\n",
    "# Daily statistics\n",
    "num_of_arrival = 0\n",
    "num_of_death = 0\n",
    "num_of_healthy = 0\n",
    "num_of_noncared = 0"
   ]
  },
  {
   "cell_type": "code",
   "execution_count": 70,
   "metadata": {},
   "outputs": [],
   "source": [
    "while event_queue:\n",
    "    # Pop the event\n",
    "    current_event = heapq.heappop(event_queue)\n",
    "    if current_event[1] == \"Day End\":\n",
    "        day_counter += 1\n",
    "        if day_counter < len(coming_patient_list):\n",
    "            # Add new intense care units\n",
    "            max_num_of_intensecare += daily_intensecare_increase\n",
    "            # Calculate next lambda\n",
    "            lambda_=coming_patient_list[day_counter]/length_of_day\n",
    "        # Add other day end event\n",
    "        heapq.heappush(event_queue,(current_event[0]+24,\"Day End\"))\n",
    "        # Generate Output\n",
    "        output_list.append((num_of_arrival,num_of_healthy,num_of_death,(intensecare_used/max_num_of_intensecare)*100,num_of_noncared))\n",
    "        # Make daily stats zero\n",
    "        num_of_arrival = 0\n",
    "        num_of_death = 0\n",
    "        num_of_healthy = 0\n",
    "        num_of_noncared = 0\n",
    "        continue\n",
    "    if current_event[1] == \"Arrival\":\n",
    "        # Increase number of arrivals\n",
    "        num_of_arrival += 1\n",
    "        # Create Rest Time in Home-Hospital\n",
    "        t_home = np.random.normal(loc=t_home_coef[0],scale=t_home_coef[1])\n",
    "        # Add Home-Hospipal Event to Event Queue\n",
    "        heapq.heappush(event_queue,(current_event[0]+t_home,\"Home-Hospital\"))\n",
    "        if day_counter < len(coming_patient_list):\n",
    "            # Create new interarrival time\n",
    "            interarrival_time=np.random.exponential(scale=1/lambda_)\n",
    "            # Add new Arrival Event to the Event Queue\n",
    "            heapq.heappush(event_queue,(current_event[0]+interarrival_time,\"Arrival\"))\n",
    "        continue\n",
    "    if current_event[1] ==\"Home-Hospital\":\n",
    "        # Check the patient will go intense care unit or not\n",
    "        if intensecare_percent > np.random.uniform(0,1):\n",
    "            if intensecare_used < max_num_of_intensecare:\n",
    "                # Use intense care unit\n",
    "                intensecare_used += 1\n",
    "                # Create Intense Care Time\n",
    "                t_intensecare = np.random.normal(loc=t_intensecare_coef[0], scale= t_intensecare_coef[1])\n",
    "                # Add Intense Care Event to Event Queue\n",
    "                heapq.heappush(event_queue,(current_event[0]+t_intensecare,\"Intense Care\"))\n",
    "            else:\n",
    "                # Increase number of non cared patients\n",
    "                num_of_noncared += 1\n",
    "                # Add Death Out Event to the Event Queue \n",
    "                heapq.heappush(event_queue,(current_event[0],\"Death-Out\"))\n",
    "        else:\n",
    "            #Create Getting Healthy Time \n",
    "            t_health = np.random.normal(loc=t_health_coef[0],scale=t_health_coef[1])\n",
    "            #Add Get Healthy Out Event to Event Queue\n",
    "            heapq.heappush(event_queue,(current_event[0]+t_health,\"Healthy-Out\"))\n",
    "        continue\n",
    "    if current_event[1] == \"Intense Care\":\n",
    "        # Decrease used intense care unit\n",
    "        intensecare_used -= 1\n",
    "        # Check the patient will die or not\n",
    "        if death_percentage > np.random.uniform(0,1):\n",
    "            # Add Death Out Event to the Event Queue \n",
    "            heapq.heappush(event_queue,(current_event[0],\"Death-Out\"))\n",
    "        else:\n",
    "            #Create Getting Healthy Time \n",
    "            t_health = np.random.normal(loc=t_health_coef[0],scale=t_health_coef[1])\n",
    "            #Add Get Healthy Out Event to Event Queue\n",
    "            heapq.heappush(event_queue,(current_event[0]+t_health,\"Healthy-Out\"))\n",
    "        continue\n",
    "    if current_event[1] == \"Healthy-Out\":\n",
    "        # Increase number of healthy\n",
    "        num_of_healthy += 1\n",
    "        continue\n",
    "    if current_event[1] == \"Death-Out\":\n",
    "        #Increase number of death\n",
    "        num_of_death += 1\n",
    "        continue\n",
    "    if current_event[1] == \"Finish\":\n",
    "        break"
   ]
  },
  {
   "cell_type": "code",
   "execution_count": 71,
   "metadata": {},
   "outputs": [
    {
     "data": {
      "text/plain": [
       "[(3896, 0, 1, 59.51964945374518, 0),\n",
       " (3688, 0, 1, 59.574667924231704, 0),\n",
       " (3658, 0, 1, 59.81046136917393, 0),\n",
       " (3929, 0, 1, 60.28990804055647, 0),\n",
       " (4178, 1, 1, 60.9697791401399, 0),\n",
       " (4364, 1, 2, 61.771476852943486, 0),\n",
       " (4746, 0, 4, 62.62819303623359, 0),\n",
       " (4706, 3, 2, 63.55171736225732, 0),\n",
       " (5049, 24, 9, 64.55776939401085, 0),\n",
       " (5353, 124, 10, 65.5677513165134, 0),\n",
       " (5418, 391, 4, 66.67991039849092, 0),\n",
       " (6030, 931, 7, 67.83922816945689, 0),\n",
       " (6158, 1800, 8, 68.92387801619114, 0),\n",
       " (6299, 2561, 14, 70.16965338363593, 0),\n",
       " (6623, 3268, 15, 71.4979564568105, 0),\n",
       " (6998, 3623, 15, 72.74766171500431, 0),\n",
       " (7240, 3762, 16, 74.17028216615577, 0),\n",
       " (7670, 4052, 23, 75.58504283580916, 0),\n",
       " (7993, 4254, 26, 77.17664858916922, 0),\n",
       " (8285, 4381, 27, 78.6228483848149, 0),\n",
       " (8810, 4660, 29, 80.28912206240666, 0),\n",
       " (9273, 4881, 45, 81.84142890827634, 0),\n",
       " (9476, 5043, 32, 83.5705808378527, 0),\n",
       " (10174, 5422, 50, 85.28008331368387, 0),\n",
       " (10536, 5722, 56, 87.18215043621787, 0),\n",
       " (11023, 5905, 52, 89.02919908826534, 0),\n",
       " (11444, 6025, 73, 90.99021457203489, 0),\n",
       " (12203, 6496, 65, 92.97480940029867, 0),\n",
       " (12583, 6725, 74, 94.97119390080955, 0),\n",
       " (13133, 7082, 88, 96.97543818281852, 0),\n",
       " (13940, 7320, 83, 99.23905525426393, 0),\n",
       " (14433, 7769, 408, 100.00145405957714, 312),\n",
       " (15306, 8063, 734, 100.00145405957714, 618),\n",
       " (15950, 8473, 706, 100.00145405957714, 590),\n",
       " (16571, 9000, 741, 100.00145405957714, 633),\n",
       " (17400, 9257, 818, 100.00145405957714, 691),\n",
       " (18191, 9867, 812, 100.00145405957714, 688),\n",
       " (18950, 10232, 826, 99.99752416882811, 707),\n",
       " (19905, 10655, 933, 100.00145405957714, 784),\n",
       " (20868, 11317, 987, 100.00145405957714, 829),\n",
       " (21723, 11588, 1018, 100.00145405957714, 878),\n",
       " (22599, 12202, 1006, 100.00145405957714, 860),\n",
       " (23834, 12990, 1092, 100.00145405957714, 929),\n",
       " (25037, 13399, 1098, 99.99752416882811, 913),\n",
       " (26468, 13967, 1165, 100.00145405957714, 1008),\n",
       " (27414, 14697, 1270, 99.99359427807907, 1081),\n",
       " (28374, 15405, 1400, 100.00145405957714, 1223),\n",
       " (29853, 16255, 1422, 100.00145405957714, 1243),\n",
       " (31539, 16974, 1466, 100.00145405957714, 1288),\n",
       " (32584, 17755, 1550, 100.00145405957714, 1361),\n",
       " (34227, 18424, 1554, 100.00145405957714, 1373),\n",
       " (35830, 19300, 1672, 100.00145405957714, 1455),\n",
       " (37263, 20130, 1804, 100.00145405957714, 1572),\n",
       " (39415, 21191, 1878, 100.00145405957714, 1674),\n",
       " (41039, 21765, 1900, 100.00145405957714, 1690),\n",
       " (43131, 23172, 2061, 100.00145405957714, 1837),\n",
       " (45069, 24293, 2123, 99.99752416882811, 1922)]"
      ]
     },
     "execution_count": 71,
     "metadata": {},
     "output_type": "execute_result"
    }
   ],
   "source": [
    "output_list"
   ]
  },
  {
   "cell_type": "code",
   "execution_count": 72,
   "metadata": {},
   "outputs": [],
   "source": [
    "healthy_patient_nums = [7089]\n",
    "death_patient_nums = [1643]\n",
    "intense_care_percets = []\n",
    "non_ICU_nums = [0]\n",
    "for output in output_list:\n",
    "    healthy_patient_nums.append(output[1] + healthy_patient_nums[len(healthy_patient_nums)-1])\n",
    "    death_patient_nums.append(output[2] + death_patient_nums[len(death_patient_nums)-1])\n",
    "    intense_care_percets.append(output[3])\n",
    "    non_ICU_nums.append(output[4] + non_ICU_nums[len(non_ICU_nums)-1])"
   ]
  },
  {
   "cell_type": "markdown",
   "metadata": {},
   "source": [
    "### Worst Case Plots"
   ]
  },
  {
   "cell_type": "markdown",
   "metadata": {},
   "source": [
    "Plot total cases vs day graph to see results of model clearly."
   ]
  },
  {
   "cell_type": "code",
   "execution_count": 73,
   "metadata": {},
   "outputs": [
    {
     "data": {
      "image/png": "[encoded data removed]",
      "text/plain": [
       "<Figure size 720x432 with 1 Axes>"
      ]
     },
     "metadata": {
      "needs_background": "light"
     },
     "output_type": "display_data"
    }
   ],
   "source": [
    "plt.figure(figsize=(10, 6))\n",
    "plt.fill_between(range(len(future_data)-7), future_data[7:], color=\"black\", alpha=0.02)\n",
    "plt.fill_between(range(len(future_data)-7), future_data[7:], color=\"black\", alpha=0.01)\n",
    "plt.plot(range(len(future_data)-7), future_data[7:],\".-\" , color=\"#FFAB78\", alpha=1)\n",
    "plt.xlabel(\"Days\")\n",
    "plt.ylabel(\"Total cases\")\n",
    "plt.title(\"Total cases vs day\")\n",
    "plt.grid(alpha=0.2)\n",
    "plt.show()"
   ]
  },
  {
   "cell_type": "markdown",
   "metadata": {},
   "source": [
    "Plot new cases vs day graph to see results of model clearly."
   ]
  },
  {
   "cell_type": "code",
   "execution_count": 74,
   "metadata": {},
   "outputs": [
    {
     "data": {
      "image/png": "[encoded data removed]",
      "text/plain": [
       "<Figure size 720x432 with 1 Axes>"
      ]
     },
     "metadata": {
      "needs_background": "light"
     },
     "output_type": "display_data"
    }
   ],
   "source": [
    "plt.figure(figsize=(10, 6))\n",
    "plt.fill_between(range(len(daily_cases)-7), daily_cases[7:], color=\"black\", alpha=0.02)\n",
    "plt.fill_between(range(len(daily_cases)-7), daily_cases[7:], color=\"black\", alpha=0.01)\n",
    "plt.plot(range(len(daily_cases)-7), daily_cases[7:],\".-\" , color=\"#FFAB78\", alpha=1)\n",
    "plt.xlabel(\"Days\")\n",
    "plt.ylabel(\"New cases\")\n",
    "plt.title(\"New cases vs day\")\n",
    "plt.grid(alpha=0.2)\n",
    "plt.show()"
   ]
  },
  {
   "cell_type": "markdown",
   "metadata": {},
   "source": [
    "Plot number of healthy covid-19 patients vs day graph to see results of simulation clearly."
   ]
  },
  {
   "cell_type": "code",
   "execution_count": 75,
   "metadata": {},
   "outputs": [
    {
     "data": {
      "image/png": "[encoded data removed]",
      "text/plain": [
       "<Figure size 720x432 with 1 Axes>"
      ]
     },
     "metadata": {
      "needs_background": "light"
     },
     "output_type": "display_data"
    }
   ],
   "source": [
    "plt.figure(figsize=(10, 6))\n",
    "plt.fill_between(range(len(healthy_patient_nums)-7), healthy_patient_nums[7:], color=\"black\", alpha=0.02)\n",
    "plt.fill_between( range(len(healthy_patient_nums)-7), healthy_patient_nums[7:], color=\"black\", alpha=0.01)\n",
    "plt.plot(range(len(healthy_patient_nums)-7), healthy_patient_nums[7:],\".-\" , color=\"#4FB7FF\", alpha=1)\n",
    "plt.xlabel(\"Days\")\n",
    "plt.ylabel(\"Number of healty covid-19 patients\")\n",
    "plt.title(\"Number of healty covid-19 patients vs day\")\n",
    "plt.grid(alpha=0.2)\n",
    "plt.show()"
   ]
  },
  {
   "cell_type": "markdown",
   "metadata": {},
   "source": [
    "Plot number of deaths vs day graph to see results of simulation clearly."
   ]
  },
  {
   "cell_type": "code",
   "execution_count": 76,
   "metadata": {},
   "outputs": [
    {
     "data": {
      "image/png": "[encoded data removed]",
      "text/plain": [
       "<Figure size 720x432 with 1 Axes>"
      ]
     },
     "metadata": {
      "needs_background": "light"
     },
     "output_type": "display_data"
    }
   ],
   "source": [
    "plt.figure(figsize=(10, 6))\n",
    "plt.fill_between(range(len(death_patient_nums)-7), death_patient_nums[7:], color=\"black\", alpha=0.02)\n",
    "plt.fill_between(range(len(death_patient_nums)-7), death_patient_nums[7:], color=\"black\", alpha=0.01)\n",
    "plt.plot(range(len(death_patient_nums)-7), death_patient_nums[7:], \".-\" , color=\"red\", alpha=1)\n",
    "plt.xlabel(\"Days\")\n",
    "plt.ylabel(\"Number of deaths\")\n",
    "plt.title(\"Number of deaths vs day\")\n",
    "plt.grid(alpha=0.2)\n",
    "plt.show()"
   ]
  },
  {
   "cell_type": "markdown",
   "metadata": {},
   "source": [
    "Plot number of intense care percentage vs day graph to see results of simulation clearly."
   ]
  },
  {
   "cell_type": "code",
   "execution_count": 77,
   "metadata": {},
   "outputs": [
    {
     "data": {
      "image/png": "[encoded data removed]",
      "text/plain": [
       "<Figure size 720x432 with 1 Axes>"
      ]
     },
     "metadata": {
      "needs_background": "light"
     },
     "output_type": "display_data"
    }
   ],
   "source": [
    "plt.figure(figsize=(10, 6))\n",
    "plt.fill_between(range(len(intense_care_percets)-7), intense_care_percets[7:], color=\"black\", alpha=0.02)\n",
    "plt.fill_between(range(len(intense_care_percets)-7), intense_care_percets[7:], color=\"black\", alpha=0.01)\n",
    "plt.plot(range(len(intense_care_percets)-7), intense_care_percets[7:], \".-\" , color=\"#31FFDE\", alpha=1)\n",
    "plt.xlabel(\"Days\")\n",
    "plt.ylabel(\"Intense care percentage\")\n",
    "plt.title(\"Number of intense care percentage vs day\")\n",
    "plt.grid(alpha=0.2)\n",
    "plt.show()"
   ]
  },
  {
   "cell_type": "markdown",
   "metadata": {},
   "source": [
    "Plot number of patients which can not apply ICU vs day graph to see results of simulation clearly."
   ]
  },
  {
   "cell_type": "code",
   "execution_count": 78,
   "metadata": {},
   "outputs": [
    {
     "data": {
      "image/png": "[encoded data removed]",
      "text/plain": [
       "<Figure size 720x432 with 1 Axes>"
      ]
     },
     "metadata": {
      "needs_background": "light"
     },
     "output_type": "display_data"
    }
   ],
   "source": [
    "plt.figure(figsize=(10, 6))\n",
    "plt.fill_between(range(len(non_ICU_nums)-7), non_ICU_nums[7:], color=\"black\", alpha=0.02)\n",
    "plt.fill_between(range(len(non_ICU_nums)-7), non_ICU_nums[7:], color=\"black\", alpha=0.01)\n",
    "plt.plot(range(len(non_ICU_nums)-7), non_ICU_nums[7:], \".-\" , color=\"#FF2973\", alpha=1)\n",
    "plt.xlabel(\"Days\")\n",
    "plt.ylabel(\"Number of patients which can not apply ICU\")\n",
    "plt.title(\"Number of patients which can not apply ICU vs day\")\n",
    "plt.grid(alpha=0.2)\n",
    "plt.show()"
   ]
  },
  {
   "cell_type": "markdown",
   "metadata": {},
   "source": [
    "### Worst Case Analysis of the Istanbul"
   ]
  },
  {
   "cell_type": "markdown",
   "metadata": {},
   "source": [
    "Because Istanbul is one of the worst cities of the Turkey. So we want to make this simlation analysis also for the Istanbul. During this analysis we assume that the cases in the Istanbul are 58.05 percent of the cases of Turkey. Because the average of this ratio is 0.5805 in the official declerations of the number of provincial cases. Our data sources can be found on our [`README.md`](https://github.com/HUmutOzdemir/COVIDDatathon/blob/master/README.md) file.\n",
    "\n",
    "Calculate daily cases in order to give the simulation."
   ]
  },
  {
   "cell_type": "code",
   "execution_count": 79,
   "metadata": {},
   "outputs": [
    {
     "data": {
      "text/plain": [
       "[2181.8885464726973,\n",
       " 2144.0768979680256,\n",
       " 2140.2104269060405,\n",
       " 2256.0219349199197,\n",
       " 2449.933908169748,\n",
       " 2564.7477316881905,\n",
       " 2700.5408632275266,\n",
       " 2816.396955375001,\n",
       " 2940.155565782759,\n",
       " 3077.9892718077244,\n",
       " 3219.401562209983,\n",
       " 3371.610258359883,\n",
       " 3529.002682928367,\n",
       " 3693.524885036979,\n",
       " 3865.8529273873723,\n",
       " 4045.7396389339674,\n",
       " 4234.38628143368,\n",
       " 4431.726295039265,\n",
       " 4638.311491740085,\n",
       " 4854.551119892857,\n",
       " 5080.824352226421,\n",
       " 5317.668400929526,\n",
       " 5565.537625443935,\n",
       " 5824.964841205078,\n",
       " 6096.487762962727,\n",
       " 6380.6644780665765,\n",
       " 6678.090158578738,\n",
       " 6989.378462840331,\n",
       " 7315.177221657465,\n",
       " 7656.162680497831,\n",
       " 8013.042369574924,\n",
       " 8386.557673194866,\n",
       " 8777.483690259745,\n",
       " 9186.632138931127,\n",
       " 9614.852399407611,\n",
       " 10063.033441868443,\n",
       " 10532.10574929175,\n",
       " 11023.043105565383,\n",
       " 11536.864729739687,\n",
       " 12074.637332490109,\n",
       " 12637.477348071186,\n",
       " 13226.553257533094,\n",
       " 13843.088002673587,\n",
       " 14488.361534792111,\n",
       " 15163.713466425432,\n",
       " 15870.545854166265,\n",
       " 16610.32610970957,\n",
       " 17384.59004527845,\n",
       " 18194.945062897543,\n",
       " 19043.073490924726,\n",
       " 19930.736076802033,\n",
       " 20859.775642450208,\n",
       " 21832.12090995772,\n",
       " 22849.790505757144,\n",
       " 23914.89715132757,\n",
       " 25029.652049302254,\n",
       " 26196.369474011637]"
      ]
     },
     "execution_count": 79,
     "metadata": {},
     "output_type": "execute_result"
    }
   ],
   "source": [
    "daily_cases = []\n",
    "percentage_of_cases_in_Istanbul = 0.5805\n",
    "for i in range(7, len(future_data)):\n",
    "    daily_cases.append((future_data[i]-future_data[i-1])*percentage_of_cases_in_Istanbul)\n",
    "daily_cases   "
   ]
  },
  {
   "cell_type": "markdown",
   "metadata": {},
   "source": [
    "Give daily cases to the simulation and simulation will produce some output. This is a basic Jackson Network Simulation. The Queueing Model of this simulation can be found on our report.\n",
    "\n",
    "The first queue in the system represents the COVID positive patients in Istanbul. Also we assume that percentage of initial number of patients in the ICU in the Istanbul is same as the percentage of the cases in the Istanbul.\n",
    "\n",
    "In this simulation we assume that the arrival process of the patients to the hospital is a Poisson process. Because in the estimation we make, we take into account the effects between 2 patients. So in the simulation, probability of a new COVID positive patient is independet from other patients. Because the time between 2 poisson processes is an exponential distribution random variable, we use exponential distribution.\n",
    "\n",
    "Other interarrival time values and number of ICU units in the Istanbul are founded from data sources that can be found in the [`README.md`](https://github.com/HUmutOzdemir/COVIDDatathon/blob/master/README.md) file."
   ]
  },
  {
   "cell_type": "code",
   "execution_count": 80,
   "metadata": {},
   "outputs": [],
   "source": [
    "# Duration of the simulation(days)\n",
    "duration = 57\n",
    "# Input patient list\n",
    "coming_patient_list = daily_cases\n",
    "# Number of Intense Care used by COVID-19\n",
    "num_used_COVID = int(1854 * percentage_of_cases_in_Istanbul)\n",
    "# Length of day (in hours)\n",
    "length_of_day = 24\n",
    "# Coming patient rate of the first day\n",
    "lambda_ = coming_patient_list[0]/length_of_day\n",
    "# First interarrival time of the patient\n",
    "interarrival_time=np.random.exponential(scale=1/lambda_)"
   ]
  },
  {
   "cell_type": "code",
   "execution_count": 81,
   "metadata": {},
   "outputs": [],
   "source": [
    "event_queue = []\n",
    "# Add first 2 events\n",
    "heapq.heappush(event_queue,(interarrival_time,\"Arrival\")) \n",
    "heapq.heappush(event_queue,(24,\"Day End\"))\n",
    "heapq.heappush(event_queue,(duration*24,\"Finish\"))\n",
    "\n",
    "# Percantage of Patient Who Goes Intense Care\n",
    "intensecare_percent = 0.061\n",
    "# Percentage of death of person who goes intensecare unit\n",
    "death_percentage = 0.51\n",
    "\n",
    "# Guassian coefficiants of t_home Guassian Random Variable\n",
    "t_home_coef = (84,36)\n",
    "# Guassiam coefficiants of t_intencecare Guassian Random Variable\n",
    "t_intensecare_coef = (756,252) \n",
    "# Guassiam coefficiants of t_intencecare Guassian Random Variable\n",
    "t_health_coef = (216,12)"
   ]
  },
  {
   "cell_type": "code",
   "execution_count": 82,
   "metadata": {},
   "outputs": [],
   "source": [
    "# Add Current Intense care Events to Event queue\n",
    "for i in range(num_used_COVID):\n",
    "    # Create Intense Care Time\n",
    "    # We assume that every patient in the ICU was come here after the 12th day which is the mean value of goint the the ICU\n",
    "    # Also because we cannot find any data, we assume that these days have equal probability\n",
    "    t_intensecare = np.random.normal(loc=t_intensecare_coef[0], scale= t_intensecare_coef[1])\n",
    "    # Add Intense Care Event to Event Queue\n",
    "    heapq.heappush(event_queue,(t_intensecare,\"Intense Care\"))\n",
    "\n",
    "# Intense Care Unit Stats\n",
    "daily_intensecare_increase=0\n",
    "max_num_of_intensecare = 7449\n",
    "intensecare_fullness = 0.595\n",
    "intensecare_used = max_num_of_intensecare * intensecare_fullness\n",
    "\n",
    "day_counter = 0\n",
    "\n",
    "# Output List\n",
    "output_list = []\n",
    "\n",
    "# Daily statistics\n",
    "num_of_arrival = 0\n",
    "num_of_death = 0\n",
    "num_of_healthy = 0\n",
    "num_of_noncared = 0"
   ]
  },
  {
   "cell_type": "code",
   "execution_count": 83,
   "metadata": {},
   "outputs": [],
   "source": [
    "while event_queue:\n",
    "    # Pop the event\n",
    "    current_event = heapq.heappop(event_queue)\n",
    "    if current_event[1] == \"Day End\":\n",
    "        day_counter += 1\n",
    "        if day_counter < len(coming_patient_list):\n",
    "            # Add new intense care units\n",
    "            max_num_of_intensecare += daily_intensecare_increase\n",
    "            # Calculate next lambda\n",
    "            lambda_=coming_patient_list[day_counter]/length_of_day\n",
    "        # Add other day end event\n",
    "        heapq.heappush(event_queue,(current_event[0]+24,\"Day End\"))\n",
    "        # Generate Output\n",
    "        output_list.append((num_of_arrival,num_of_healthy,num_of_death,(intensecare_used/max_num_of_intensecare)*100,num_of_noncared))\n",
    "        # Make daily stats zero\n",
    "        num_of_arrival = 0\n",
    "        num_of_death = 0\n",
    "        num_of_healthy = 0\n",
    "        num_of_noncared = 0\n",
    "        continue\n",
    "    if current_event[1] == \"Arrival\":\n",
    "        # Increase number of arrivals\n",
    "        num_of_arrival += 1\n",
    "        # Create Rest Time in Home-Hospital\n",
    "        t_home = np.random.normal(loc=t_home_coef[0],scale=t_home_coef[1])\n",
    "        # Add Home-Hospipal Event to Event Queue\n",
    "        heapq.heappush(event_queue,(current_event[0]+t_home,\"Home-Hospital\"))\n",
    "        if day_counter < len(coming_patient_list):\n",
    "            # Create new interarrival time\n",
    "            interarrival_time=np.random.exponential(scale=1/lambda_)\n",
    "            # Add new Arrival Event to the Event Queue\n",
    "            heapq.heappush(event_queue,(current_event[0]+interarrival_time,\"Arrival\"))\n",
    "        continue\n",
    "    if current_event[1] ==\"Home-Hospital\":\n",
    "        # Check the patient will go intense care unit or not\n",
    "        if intensecare_percent > np.random.uniform(0,1):\n",
    "            if intensecare_used < max_num_of_intensecare:\n",
    "                # Use intense care unit\n",
    "                intensecare_used += 1\n",
    "                # Create Intense Care Time\n",
    "                t_intensecare = np.random.normal(loc=t_intensecare_coef[0], scale= t_intensecare_coef[1])\n",
    "                # Add Intense Care Event to Event Queue\n",
    "                heapq.heappush(event_queue,(current_event[0]+t_intensecare,\"Intense Care\"))\n",
    "            else:\n",
    "                # Increase number of non cared patients\n",
    "                num_of_noncared += 1\n",
    "                # Add Death Out Event to the Event Queue \n",
    "                heapq.heappush(event_queue,(current_event[0],\"Death-Out\"))\n",
    "        else:\n",
    "            #Create Getting Healthy Time \n",
    "            t_health = np.random.normal(loc=t_health_coef[0],scale=t_health_coef[1])\n",
    "            #Add Get Healthy Out Event to Event Queue\n",
    "            heapq.heappush(event_queue,(current_event[0]+t_health,\"Healthy-Out\"))\n",
    "        continue\n",
    "    if current_event[1] == \"Intense Care\":\n",
    "        # Decrease used intense care unit\n",
    "        intensecare_used -= 1\n",
    "        # Check the patient will die or not\n",
    "        if death_percentage > np.random.uniform(0,1):\n",
    "            # Add Death Out Event to the Event Queue \n",
    "            heapq.heappush(event_queue,(current_event[0],\"Death-Out\"))\n",
    "        else:\n",
    "            #Create Getting Healthy Time \n",
    "            t_health = np.random.normal(loc=t_health_coef[0],scale=t_health_coef[1])\n",
    "            #Add Get Healthy Out Event to Event Queue\n",
    "            heapq.heappush(event_queue,(current_event[0]+t_health,\"Healthy-Out\"))\n",
    "        continue\n",
    "    if current_event[1] == \"Healthy-Out\":\n",
    "        # Increase number of healthy\n",
    "        num_of_healthy += 1\n",
    "        continue\n",
    "    if current_event[1] == \"Death-Out\":\n",
    "        #Increase number of death\n",
    "        num_of_death += 1\n",
    "        continue\n",
    "    if current_event[1] == \"Finish\":\n",
    "        break"
   ]
  },
  {
   "cell_type": "code",
   "execution_count": 84,
   "metadata": {},
   "outputs": [
    {
     "data": {
      "text/plain": [
       "[(2160, 1, 0, 59.48657537924553, 0),\n",
       " (2135, 0, 1, 59.60739696603571, 0),\n",
       " (2083, 0, 0, 60.023560209424076, 0),\n",
       " (2299, 0, 3, 60.84246207544637, 0),\n",
       " (2551, 0, 0, 62.037253322593635, 0),\n",
       " (2550, 0, 1, 63.36629077728554, 0),\n",
       " (2714, 1, 5, 64.97724526782119, 0),\n",
       " (2916, 6, 3, 67.00436300174519, 0),\n",
       " (2985, 17, 2, 68.91065914887903, 0),\n",
       " (3077, 65, 4, 70.87065377903073, 0),\n",
       " (3218, 203, 2, 72.991743858236, 0),\n",
       " (3333, 528, 4, 75.23365552423144, 0),\n",
       " (3583, 1043, 6, 77.73063498456169, 0),\n",
       " (3674, 1443, 7, 80.53638072224459, 0),\n",
       " (3864, 1870, 12, 83.12733252785608, 0),\n",
       " (4048, 2066, 8, 85.67801047120417, 0),\n",
       " (4406, 2239, 13, 88.25553765606121, 0),\n",
       " (4447, 2413, 7, 91.37004967109678, 0),\n",
       " (4596, 2507, 15, 94.10867230500737, 0),\n",
       " (4830, 2660, 15, 97.2768828030608, 0),\n",
       " (5024, 2813, 33, 100.00208081621693, 13),\n",
       " (5458, 2755, 246, 100.00208081621693, 225),\n",
       " (5512, 3028, 228, 100.00208081621693, 205),\n",
       " (5924, 3118, 270, 100.00208081621693, 237),\n",
       " (6122, 3265, 275, 100.00208081621693, 238),\n",
       " (6250, 3443, 297, 100.00208081621693, 265),\n",
       " (6480, 3586, 321, 100.00208081621693, 285),\n",
       " (7027, 3736, 357, 100.00208081621693, 324),\n",
       " (7367, 3926, 346, 99.98865619546248, 306),\n",
       " (7682, 4151, 378, 100.00208081621693, 333),\n",
       " (8072, 4329, 319, 100.00208081621693, 274),\n",
       " (8413, 4523, 352, 100.00208081621693, 300),\n",
       " (8790, 4662, 408, 100.00208081621693, 369),\n",
       " (9175, 4999, 413, 100.00208081621693, 353),\n",
       " (9827, 5207, 413, 100.00208081621693, 348),\n",
       " (10046, 5365, 466, 100.00208081621693, 402),\n",
       " (10551, 5689, 438, 100.00208081621693, 374),\n",
       " (10944, 5819, 563, 100.00208081621693, 496),\n",
       " (11395, 5966, 550, 100.00208081621693, 494),\n",
       " (12222, 6466, 589, 100.00208081621693, 525),\n",
       " (12652, 6804, 586, 99.98865619546248, 517),\n",
       " (13217, 7379, 558, 100.00208081621693, 504),\n",
       " (13757, 7353, 639, 100.00208081621693, 561),\n",
       " (14304, 7582, 699, 99.98865619546248, 617),\n",
       " (15216, 8153, 760, 100.00208081621693, 671),\n",
       " (15851, 8809, 732, 100.00208081621693, 657),\n",
       " (16628, 9072, 837, 100.00208081621693, 766),\n",
       " (17531, 9251, 850, 100.00208081621693, 782),\n",
       " (18230, 9827, 876, 100.00208081621693, 803),\n",
       " (19072, 10283, 965, 100.00208081621693, 892),\n",
       " (19978, 10564, 977, 99.98865619546248, 918),\n",
       " (21092, 11053, 1063, 100.00208081621693, 1004),\n",
       " (21830, 11853, 1053, 100.00208081621693, 984),\n",
       " (22794, 12334, 1142, 100.00208081621693, 1074),\n",
       " (23867, 12812, 1075, 100.00208081621693, 1006),\n",
       " (25095, 13335, 1250, 100.00208081621693, 1178),\n",
       " (25901, 13985, 1315, 100.00208081621693, 1253)]"
      ]
     },
     "execution_count": 84,
     "metadata": {},
     "output_type": "execute_result"
    }
   ],
   "source": [
    "output_list"
   ]
  },
  {
   "cell_type": "code",
   "execution_count": 85,
   "metadata": {},
   "outputs": [],
   "source": [
    "healthy_patient_nums = [7089 * percentage_of_cases_in_Istanbul]\n",
    "death_patient_nums = [1643 * percentage_of_cases_in_Istanbul]\n",
    "intense_care_percets = []\n",
    "non_ICU_nums = [0]\n",
    "for output in output_list:\n",
    "    healthy_patient_nums.append(output[1] + healthy_patient_nums[len(healthy_patient_nums)-1])\n",
    "    death_patient_nums.append(output[2] + death_patient_nums[len(death_patient_nums)-1])\n",
    "    intense_care_percets.append(output[3])\n",
    "    non_ICU_nums.append(output[4] + non_ICU_nums[len(non_ICU_nums)-1])"
   ]
  },
  {
   "cell_type": "markdown",
   "metadata": {},
   "source": [
    "### Worst Case Plots of Istanbul"
   ]
  },
  {
   "cell_type": "markdown",
   "metadata": {},
   "source": [
    "Plot total cases vs day graph to see results of model clearly."
   ]
  },
  {
   "cell_type": "code",
   "execution_count": 86,
   "metadata": {},
   "outputs": [
    {
     "data": {
      "image/png": "[encoded data removed]",
      "text/plain": [
       "<Figure size 720x432 with 1 Axes>"
      ]
     },
     "metadata": {
      "needs_background": "light"
     },
     "output_type": "display_data"
    }
   ],
   "source": [
    "plt.figure(figsize=(10, 6))\n",
    "plt.fill_between(range(len(future_data)-7), np.array(future_data[7:]) * percentage_of_cases_in_Istanbul, color=\"black\", alpha=0.02)\n",
    "plt.fill_between(range(len(future_data)-7), np.array(future_data[7:]) * percentage_of_cases_in_Istanbul, color=\"black\", alpha=0.01)\n",
    "plt.plot(range(len(future_data)-7), np.array(future_data[7:]) * percentage_of_cases_in_Istanbul,\".-\" , color=\"#FFAB78\", alpha=1)\n",
    "plt.xlabel(\"Days\")\n",
    "plt.ylabel(\"Total cases\")\n",
    "plt.title(\"Total cases vs day\")\n",
    "plt.grid(alpha=0.2)\n",
    "plt.show()"
   ]
  },
  {
   "cell_type": "markdown",
   "metadata": {},
   "source": [
    "Plot new cases vs day graph to see results of model clearly."
   ]
  },
  {
   "cell_type": "code",
   "execution_count": 87,
   "metadata": {},
   "outputs": [
    {
     "data": {
      "image/png": "[encoded data removed]",
      "text/plain": [
       "<Figure size 720x432 with 1 Axes>"
      ]
     },
     "metadata": {
      "needs_background": "light"
     },
     "output_type": "display_data"
    }
   ],
   "source": [
    "plt.figure(figsize=(10, 6))\n",
    "plt.fill_between(range(len(daily_cases)-7), daily_cases[7:], color=\"black\", alpha=0.02)\n",
    "plt.fill_between(range(len(daily_cases)-7), daily_cases[7:], color=\"black\", alpha=0.01)\n",
    "plt.plot(range(len(daily_cases)-7), daily_cases[7:],\".-\" , color=\"#FFAB78\", alpha=1)\n",
    "plt.xlabel(\"Days\")\n",
    "plt.ylabel(\"New cases\")\n",
    "plt.title(\"New cases vs day\")\n",
    "plt.grid(alpha=0.2)\n",
    "plt.show()"
   ]
  },
  {
   "cell_type": "markdown",
   "metadata": {},
   "source": [
    "Plot number of healthy covid-19 patients vs day graph to see results of simulation clearly."
   ]
  },
  {
   "cell_type": "code",
   "execution_count": 88,
   "metadata": {},
   "outputs": [
    {
     "data": {
      "image/png": "[encoded data removed]",
      "text/plain": [
       "<Figure size 720x432 with 1 Axes>"
      ]
     },
     "metadata": {
      "needs_background": "light"
     },
     "output_type": "display_data"
    }
   ],
   "source": [
    "plt.figure(figsize=(10, 6))\n",
    "plt.fill_between(range(len(healthy_patient_nums)-7), healthy_patient_nums[7:], color=\"black\", alpha=0.02)\n",
    "plt.fill_between( range(len(healthy_patient_nums)-7), healthy_patient_nums[7:], color=\"black\", alpha=0.01)\n",
    "plt.plot(range(len(healthy_patient_nums)-7), healthy_patient_nums[7:],\".-\" , color=\"#4FB7FF\", alpha=1)\n",
    "plt.xlabel(\"Days\")\n",
    "plt.ylabel(\"Number of healty covid-19 patients\")\n",
    "plt.title(\"Number of healty covid-19 patients vs day\")\n",
    "plt.grid(alpha=0.2)\n",
    "plt.show()"
   ]
  },
  {
   "cell_type": "markdown",
   "metadata": {},
   "source": [
    "Plot number of deaths vs day graph to see results of simulation clearly."
   ]
  },
  {
   "cell_type": "code",
   "execution_count": 89,
   "metadata": {},
   "outputs": [
    {
     "data": {
      "image/png": "[encoded data removed]",
      "text/plain": [
       "<Figure size 720x432 with 1 Axes>"
      ]
     },
     "metadata": {
      "needs_background": "light"
     },
     "output_type": "display_data"
    }
   ],
   "source": [
    "plt.figure(figsize=(10, 6))\n",
    "plt.fill_between(range(len(death_patient_nums)-7), death_patient_nums[7:], color=\"black\", alpha=0.02)\n",
    "plt.fill_between(range(len(death_patient_nums)-7), death_patient_nums[7:], color=\"black\", alpha=0.01)\n",
    "plt.plot(range(len(death_patient_nums)-7), death_patient_nums[7:], \".-\" , color=\"red\", alpha=1)\n",
    "plt.xlabel(\"Days\")\n",
    "plt.ylabel(\"Number of deaths\")\n",
    "plt.title(\"Number of deaths vs day\")\n",
    "plt.grid(alpha=0.2)\n",
    "plt.show()"
   ]
  },
  {
   "cell_type": "markdown",
   "metadata": {},
   "source": [
    "Plot number of intense care percentage vs day graph to see results of simulation clearly."
   ]
  },
  {
   "cell_type": "code",
   "execution_count": 90,
   "metadata": {},
   "outputs": [
    {
     "data": {
      "image/png": "[encoded data removed]",
      "text/plain": [
       "<Figure size 720x432 with 1 Axes>"
      ]
     },
     "metadata": {
      "needs_background": "light"
     },
     "output_type": "display_data"
    }
   ],
   "source": [
    "plt.figure(figsize=(10, 6))\n",
    "plt.fill_between(range(len(intense_care_percets)-7), intense_care_percets[7:], color=\"black\", alpha=0.02)\n",
    "plt.fill_between(range(len(intense_care_percets)-7), intense_care_percets[7:], color=\"black\", alpha=0.01)\n",
    "plt.plot(range(len(intense_care_percets)-7), intense_care_percets[7:], \".-\" , color=\"#31FFDE\", alpha=1)\n",
    "plt.xlabel(\"Days\")\n",
    "plt.ylabel(\"Intense care percentage\")\n",
    "plt.title(\"Number of intense care percentage vs day\")\n",
    "plt.grid(alpha=0.2)\n",
    "plt.show()"
   ]
  },
  {
   "cell_type": "markdown",
   "metadata": {},
   "source": [
    "Plot number of patients which can not apply ICU vs day graph to see results of simulation clearly."
   ]
  },
  {
   "cell_type": "code",
   "execution_count": 91,
   "metadata": {},
   "outputs": [
    {
     "data": {
      "image/png": "[encoded data removed]",
      "text/plain": [
       "<Figure size 720x432 with 1 Axes>"
      ]
     },
     "metadata": {
      "needs_background": "light"
     },
     "output_type": "display_data"
    }
   ],
   "source": [
    "plt.figure(figsize=(10, 6))\n",
    "plt.fill_between(range(len(non_ICU_nums)-7), non_ICU_nums[7:], color=\"black\", alpha=0.02)\n",
    "plt.fill_between(range(len(non_ICU_nums)-7), non_ICU_nums[7:], color=\"black\", alpha=0.01)\n",
    "plt.plot(range(len(non_ICU_nums)-7), non_ICU_nums[7:], \".-\" , color=\"#FF2973\", alpha=1)\n",
    "plt.xlabel(\"Days\")\n",
    "plt.ylabel(\"Number of patients which can not apply ICU\")\n",
    "plt.title(\"Number of patients which can not apply ICU vs day\")\n",
    "plt.grid(alpha=0.2)\n",
    "plt.show()"
   ]
  },
  {
   "cell_type": "markdown",
   "metadata": {},
   "source": [
    "### Results and Effects"
   ]
  },
  {
   "cell_type": "markdown",
   "metadata": {},
   "source": [
    "The detailed version of the results of our project can be found on our [report](https://github.com/HUmutOzdemir/COVIDDatathon/blob/master/Report.pdf)."
   ]
  }
 ],
 "metadata": {
  "kernelspec": {
   "display_name": "Python 3",
   "language": "python",
   "name": "python3"
  },
  "language_info": {
   "codemirror_mode": {
    "name": "ipython",
    "version": 3
   },
   "file_extension": ".py",
   "mimetype": "text/x-python",
   "name": "python",
   "nbconvert_exporter": "python",
   "pygments_lexer": "ipython3",
   "version": "3.7.1"
  }
 },
 "nbformat": 4,
 "nbformat_minor": 4
}
